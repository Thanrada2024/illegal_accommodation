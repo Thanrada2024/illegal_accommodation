{
 "cells": [
  {
   "cell_type": "code",
   "execution_count": 7,
   "id": "253f84af",
   "metadata": {},
   "outputs": [],
   "source": [
    "# !pip install -U sentence-transformers scikit-learn pandas numpy\n",
    "# !pip install -U tqdm requests beautifulsoup4\n",
    "\n",
    "import os, time, random\n",
    "import requests\n",
    "from bs4 import BeautifulSoup\n",
    "from tqdm import tqdm\n",
    "from concurrent.futures import ThreadPoolExecutor, as_completed\n",
    "from urllib3.util.retry import Retry\n",
    "from requests.adapters import HTTPAdapter\n",
    "import pandas as pd\n",
    "\n"
   ]
  },
  {
   "cell_type": "code",
   "execution_count": null,
   "id": "a4e17d68",
   "metadata": {},
   "outputs": [
    {
     "name": "stderr",
     "output_type": "stream",
     "text": [
      "Fetching hotel addresses: 100%|██████████| 1069/1069 [01:29<00:00, 11.97it/s]\n"
     ]
    },
    {
     "data": {
      "application/vnd.microsoft.datawrangler.viewer.v0+json": {
       "columns": [
        {
         "name": "index",
         "rawType": "int64",
         "type": "integer"
        },
        {
         "name": "name",
         "rawType": "object",
         "type": "string"
        },
        {
         "name": "name href",
         "rawType": "object",
         "type": "string"
        },
        {
         "name": "address",
         "rawType": "object",
         "type": "string"
        }
       ],
       "ref": "c16c55de-23c4-419f-937e-5fec11e178fa",
       "rows": [
        [
         "1",
         "นาซ่า กรุงเทพฯ",
         "https://th.trip.com/hotels/detail/?cityId=359&hotelId=996749&checkIn=2025-10-23&checkOut=2025-10-24&adult=2&children=0&subStamp=800&crn=1&ages=&travelpurpose=0&curr=THB&link=title&hoteluniquekey=H4sIAAAAAAAA_-NawMTFJMEkxMTBKDWViaN564ktrBa_BR2XFNhyXf-d5uBZCKQXC2Q7BPAUMoCBhkMjI0isYK-SwyTGCs7-Q181YowmOAiCZSd0OSg5c7y_88RdQERi5badbcwKjJowjYYwhkWsI8wITxgjiJVjv4YESxQrx0pmCSYlcY7fTXssBBoZJf53LF3NqMBocVA8iCGKwYmN4_VKNgmWGYy9r202MhqDQLCDww5GphOMR9kWMN26x7aLCarmEBMrx81iCZZTTAyXmBhuMTE8YoJY8oqJ4RMTxKJfMMVNzAxdzAyTmCFaZjFDVC5iZpDiNbRITjS1NDY1TLS0MFQQ0rjZ_esYm5HSJEamEI9TjFKG5ibGxpYmRkaGBpaWeqnmlomZ6fnJmTkmRlbMUoxuHoxBbI5OjqYGzlFaXMwhHk6C_HOMF20xP2MvBeIpwnhaIJ4hjJfEWpKhG-KRsV24gLGLkUOA0YMxgrGC8RUjSNUPkOcBtRm8TbsBAAA&subChannel=&masterhotelid_tracelogid=18ca59351a981&NewTaxDescForAmountshowtype0=T&detailFilters=17%7C1~17~1*80%7C0%7C1~80~0&hotelType=normal&display=exavg&isFirstEnterDetail=T&barcurr=THB&locale=th-TH&isRightClick=T",
         "44 ถ. สุขุมวิท 71 แขวงสวนหลวง, เขตสวนหลวง, กรุงเทพฯ, 10250"
        ],
        [
         "2",
         "โรงแรมอีสติน แกรนด์ พญาไท",
         "https://th.trip.com/hotels/detail/?cityId=359&hotelId=107192874&checkIn=2025-10-23&checkOut=2025-10-24&adult=2&children=0&subStamp=800&crn=1&ages=&travelpurpose=0&curr=THB&link=title&hoteluniquekey=H4sIAAAAAAAA_-O6yMTFJMEkxMTBKHWMieP9vsc72Sx-Czo-rBJZ567c7-B59gwQBE9yCOApZAABi4kOjYxpILCs02ES4zxGTpDS4-pHHATBokYHHJTcOLafuOIvoCgx8-OU5cwKjJpgnR79DoYwhsVsaUeYIZ4wRhAbx9rb0hIsUWwcHxcBHaUkzvG7aY-FQCOjxP-OpasZFRgtDooHMUQxKCkqsEDMdIiEmglkWDzjBJqw9RET0AQGJzaOKf_sJFhmMK460me8gpFxIyPYS4JpDjsYmU4wrlFewHR35j3jXUxQhYeAjMsfWSRYTjExXGJiuMXE8Ago8mivnATLKyaGT0xQN_2CqW9iZuhiZpjEDNU1ixmqeBEzgxSfiVGKYYpZYoqxhZFpqoWCkMbd7l_H2IyUJjEyhXicYpQyNDcxNrY0MTIyNLC01Es1t0zMTM9PzswxMbJilmJ082AMYjM0MHN0tIjS4mIO8XAS5J9jvGiL-Rl7KRBPEcbTAvEMYbwk1pIM3RCPjO3CBYxdjBwCjB6MEYwVjK8YQap-gMMBAKgWKsXuAQAA&subChannel=&masterhotelid_tracelogid=42d1d6ad3825e8&NewTaxDescForAmountshowtype0=T&detailFilters=17%7C1~17~1*80%7C0%7C1~80~0&hotelType=normal&display=exavg&isFirstEnterDetail=T&barcurr=THB&locale=th-TH&isRightClick=T",
         "18 ถ.พญาไท ทุ่งพญาไท, เขตราชเทวี, กรุงเทพฯ, 10400"
        ],
        [
         "4",
         "โรงแรมเอเชียกรุงเทพ",
         "https://th.trip.com/hotels/detail/?cityId=359&hotelId=995970&checkIn=2025-10-23&checkOut=2025-10-24&adult=2&children=0&subStamp=800&crn=1&ages=&travelpurpose=0&curr=THB&link=title&hoteluniquekey=H4sIAAAAAAAA_-O6z8jFJMEkxMTBKHWFkeP7set3WIUYjQz6RS162hgdZ80EgomFDp5LCmy5rq8vcQjgKWQAA0OHSYzWnNUi69wfvtrgIBi0Q6719cV1DkoKCiyaMBWGMIbFM84gVo6HrBJMUQxOrBy7qiWYZjA2PbVZwci4kRGs9aOHww5GphOMDVwLmD7037HYxQRRdoiJjaNhI6MEyykmhktMDLeYGB4xQUx6xcTwiYnhF1RdEzNDFzPDJGao6lnMEEWLmBmkeA0tkhNNLY1NDRMtLQwVhDRudv86xmakNImRKcTjFKOUobmJsbGliZGRoYGlpV6quWViZnp-cmaOiZEVsxSjmwdjEJuhk4u5hWWUFhezp1-QoNlZa7-LE7fYSzGHeDgp8s8xXrTF_Iy9FohnCOMlsZZk6IZ4ZGwXLmDsYuQQYPRgjGCsYHzFCFL1A-R3AAU70m96AQAA&subChannel=&masterhotelid_tracelogid=18ca59351a981&NewTaxDescForAmountshowtype0=T&detailFilters=17%7C1~17~1*80%7C0%7C1~80~0&hotelType=normal&display=exavg&isFirstEnterDetail=T&barcurr=THB&locale=th-TH&isRightClick=T",
         "269 ถ.พ, เขตราชเทวี, กรุงเทพฯ, 10400"
        ],
        [
         "5",
         "โรงแรมทวิน ทาวเวอร์",
         "https://th.trip.com/hotels/detail/?cityId=359&hotelId=703132&checkIn=2025-10-23&checkOut=2025-10-24&adult=2&children=0&subStamp=800&crn=1&ages=&travelpurpose=0&curr=THB&link=title&hoteluniquekey=H4sIAAAAAAAA_-P6yMjFJMEkxMTBKPWMkaO9Z-0kNou9Uo5nzwDBmiwHT2MQyM53COApZAADBYdJjKGc1SLr3B8mTnIQBIs59DsoiXP8btpjIdDIKPG_Y-lqRgVGi4PiQQxRDEoKCiyaMK2GMIbFM84gVo6_EhIsUQxObBz909klWGYwzvmqtZFx1kwg-OnksIOR6QTjGfYFTJdm3rXZxQRVdAjI2NPGKMFyionhEhPDLSaGR0wQg14xMXxiYvgFU9jEzNDFzDCJGap8FjNE1SJmBileQ4vkRFNLY1PDREsLQwUhjZvdv46xGSlNYmQK8TjFKGVobmJsbGliZGRoYGmpl2pumZiZnp-cmWNiZMUsxejmwRjE5uzibO5kEqXFxRzi4STIP8d40RbzM_ZSIJ4ijKcF4hnCeEmsJRm6IR4Z24ULGLsYOQQYPRgjGCsYXzGCVP0AeR0AlCOgzowBAAA&subChannel=&masterhotelid_tracelogid=18ca59351a981&NewTaxDescForAmountshowtype0=T&detailFilters=17%7C1~17~1*80%7C0%7C1~80~0&hotelType=normal&display=exavg&isFirstEnterDetail=T&barcurr=THB&locale=th-TH&isRightClick=T",
         "88 รองเมือง ปทุมวัน, ถ.พระราม 6, เขตปทุมวัน, กรุงเทพฯ, 10330"
        ],
        [
         "6",
         "โรงแรมเดอะ เบอร์เคลีย์ ประตูน้ำ",
         "https://th.trip.com/hotels/detail/?cityId=359&hotelId=1518301&checkIn=2025-10-23&checkOut=2025-10-24&adult=2&children=0&subStamp=800&crn=1&ages=&travelpurpose=0&curr=THB&link=title&hoteluniquekey=H4sIAAAAAAAA_-O6zcjFJMEkxMTBKHWBkaP_zP13rBa_BR3TQKCmxcGz0Jbr-mKZDocAnkbG1teBO-RSHRwmMbpxMoBAxGoHQTDDbrmDki7H6anXnQXyJf7fvv2BSYHR4qGYI0yHJ4wRxBDFyjG7RILFiZljjfQMxrtXY1YwMm5kDNoh1_qaMdZhByPTCcZ54guYXrc_ttjFBFJ0iImNY9ZsZgmWU0wMl5gYbjExPGJieMXE8IkJYtIvsKomZoYuZoZJzFC1s5gZFjEzSPEaWiQnmloamxomWloYKghp3Oz-dYzNSGkSI1OIxylGKUNzE2NjSxMjI0MDS0u9VHPLxMz0_OTMHBMjK2YpRjcPxiA2SzcnJ3PXKC0u5hAPJ0H-OcaLtpifsZcC8RRhPC0QzxDGS2ItydAN8cjYLlzA2MXIIcDowRjBWMH4ihGk6gfIywCYZxGEdgEAAA&subChannel=&masterhotelid_tracelogid=18ca59351a981&NewTaxDescForAmountshowtype0=T&detailFilters=17%7C1~17~1*80%7C0%7C1~80~0&hotelType=normal&display=exavg&isFirstEnterDetail=T&barcurr=THB&locale=th-TH&isRightClick=T",
         "559 ราชปรารภ, มักกะสัน ราชเทวี, เขตราชเทวี, กรุงเทพฯ, 10400"
        ]
       ],
       "shape": {
        "columns": 3,
        "rows": 5
       }
      },
      "text/html": [
       "<div>\n",
       "<style scoped>\n",
       "    .dataframe tbody tr th:only-of-type {\n",
       "        vertical-align: middle;\n",
       "    }\n",
       "\n",
       "    .dataframe tbody tr th {\n",
       "        vertical-align: top;\n",
       "    }\n",
       "\n",
       "    .dataframe thead th {\n",
       "        text-align: right;\n",
       "    }\n",
       "</style>\n",
       "<table border=\"1\" class=\"dataframe\">\n",
       "  <thead>\n",
       "    <tr style=\"text-align: right;\">\n",
       "      <th></th>\n",
       "      <th>name</th>\n",
       "      <th>name href</th>\n",
       "      <th>address</th>\n",
       "    </tr>\n",
       "  </thead>\n",
       "  <tbody>\n",
       "    <tr>\n",
       "      <th>1</th>\n",
       "      <td>นาซ่า กรุงเทพฯ</td>\n",
       "      <td>https://th.trip.com/hotels/detail/?cityId=359&amp;...</td>\n",
       "      <td>44 ถ. สุขุมวิท 71 แขวงสวนหลวง, เขตสวนหลวง, กรุ...</td>\n",
       "    </tr>\n",
       "    <tr>\n",
       "      <th>2</th>\n",
       "      <td>โรงแรมอีสติน แกรนด์ พญาไท</td>\n",
       "      <td>https://th.trip.com/hotels/detail/?cityId=359&amp;...</td>\n",
       "      <td>18 ถ.พญาไท ทุ่งพญาไท, เขตราชเทวี, กรุงเทพฯ, 10400</td>\n",
       "    </tr>\n",
       "    <tr>\n",
       "      <th>4</th>\n",
       "      <td>โรงแรมเอเชียกรุงเทพ</td>\n",
       "      <td>https://th.trip.com/hotels/detail/?cityId=359&amp;...</td>\n",
       "      <td>269 ถ.พ, เขตราชเทวี, กรุงเทพฯ, 10400</td>\n",
       "    </tr>\n",
       "    <tr>\n",
       "      <th>5</th>\n",
       "      <td>โรงแรมทวิน ทาวเวอร์</td>\n",
       "      <td>https://th.trip.com/hotels/detail/?cityId=359&amp;...</td>\n",
       "      <td>88 รองเมือง ปทุมวัน, ถ.พระราม 6, เขตปทุมวัน, ก...</td>\n",
       "    </tr>\n",
       "    <tr>\n",
       "      <th>6</th>\n",
       "      <td>โรงแรมเดอะ เบอร์เคลีย์ ประตูน้ำ</td>\n",
       "      <td>https://th.trip.com/hotels/detail/?cityId=359&amp;...</td>\n",
       "      <td>559 ราชปรารภ, มักกะสัน ราชเทวี, เขตราชเทวี, กร...</td>\n",
       "    </tr>\n",
       "  </tbody>\n",
       "</table>\n",
       "</div>"
      ],
      "text/plain": [
       "                              name  \\\n",
       "1                   นาซ่า กรุงเทพฯ   \n",
       "2        โรงแรมอีสติน แกรนด์ พญาไท   \n",
       "4              โรงแรมเอเชียกรุงเทพ   \n",
       "5              โรงแรมทวิน ทาวเวอร์   \n",
       "6  โรงแรมเดอะ เบอร์เคลีย์ ประตูน้ำ   \n",
       "\n",
       "                                           name href  \\\n",
       "1  https://th.trip.com/hotels/detail/?cityId=359&...   \n",
       "2  https://th.trip.com/hotels/detail/?cityId=359&...   \n",
       "4  https://th.trip.com/hotels/detail/?cityId=359&...   \n",
       "5  https://th.trip.com/hotels/detail/?cityId=359&...   \n",
       "6  https://th.trip.com/hotels/detail/?cityId=359&...   \n",
       "\n",
       "                                             address  \n",
       "1  44 ถ. สุขุมวิท 71 แขวงสวนหลวง, เขตสวนหลวง, กรุ...  \n",
       "2  18 ถ.พญาไท ทุ่งพญาไท, เขตราชเทวี, กรุงเทพฯ, 10400  \n",
       "4               269 ถ.พ, เขตราชเทวี, กรุงเทพฯ, 10400  \n",
       "5  88 รองเมือง ปทุมวัน, ถ.พระราม 6, เขตปทุมวัน, ก...  \n",
       "6  559 ราชปรารภ, มักกะสัน ราชเทวี, เขตราชเทวี, กร...  "
      ]
     },
     "execution_count": 3,
     "metadata": {},
     "output_type": "execute_result"
    }
   ],
   "source": [
    "trip_com = pd.read_csv('OTA/trip_com_bkk.csv')[['name','name href']].dropna()\n",
    "\n",
    "MAX_WORKERS = 10                  # ปรับได้ 6–16 ตามสภาพแวดล้อม/ความเร็ว\n",
    "TIMEOUT     = 20                  # วินาที\n",
    "RETRIES     = 3                   # จำนวนครั้ง retry ต่อ URL\n",
    "BACKOFF     = 0.6                 # ตัวคูณหน่วงเวลาระหว่าง retry\n",
    "\n",
    "HEADERS = {\n",
    "    \"User-Agent\": \"Mozilla/5.0 (Windows NT 10.0; Win64; x64) AppleWebKit/537.36 \"\n",
    "                  \"(KHTML, like Gecko) Chrome/122.0.0.0 Safari/537.36\"\n",
    "}\n",
    "\n",
    "def make_session():\n",
    "    s = requests.Session()\n",
    "    retry = Retry(\n",
    "        total=RETRIES,\n",
    "        backoff_factor=BACKOFF,\n",
    "        status_forcelist=(429, 500, 502, 503, 504),\n",
    "        allowed_methods=[\"GET\", \"HEAD\", \"OPTIONS\"]\n",
    "    )\n",
    "    adapter = HTTPAdapter(max_retries=retry, pool_connections=MAX_WORKERS, pool_maxsize=MAX_WORKERS)\n",
    "    s.mount(\"http://\", adapter)\n",
    "    s.mount(\"https://\", adapter)\n",
    "    s.headers.update(HEADERS)\n",
    "    return s\n",
    "\n",
    "def parse_address(html: str) -> str | None:\n",
    "    soup = BeautifulSoup(html, \"html.parser\")\n",
    "    # selector หลักตามที่ให้มา\n",
    "    span = soup.find(\"span\", {\"class\": \"headInit_headInit-address_text__D_Atv\"})\n",
    "    if span:\n",
    "        return span.get_text(strip=True)\n",
    "    # เผื่อ layout เปลี่ยน ลอง selector อื่น ๆ ที่พบบ่อย\n",
    "    cand = soup.select_one(\"span[data-testid*=address], div[data-testid*=hotelAddress], .address\")\n",
    "    return cand.get_text(strip=True) if cand else None\n",
    "\n",
    "def fetch_one(idx: int, url: str, session: requests.Session):\n",
    "    try:\n",
    "        # เพิ่ม jitter เล็กน้อยลด burst\n",
    "        time.sleep(random.uniform(0.0, 0.15))\n",
    "        r = session.get(url, timeout=TIMEOUT)\n",
    "        r.raise_for_status()\n",
    "        addr = parse_address(r.text)\n",
    "        return idx, addr, None\n",
    "    except Exception as e:\n",
    "        return idx, None, e\n",
    "\n",
    "# ---------- เตรียมลิสต์ URL ----------\n",
    "urls = trip_com['name href'].tolist()\n",
    "\n",
    "# ---------- ดึงแบบขนาน ----------\n",
    "session = make_session()\n",
    "addresses_dict = {}\n",
    "errors = []\n",
    "\n",
    "with ThreadPoolExecutor(max_workers=MAX_WORKERS) as ex:\n",
    "    futures = [ex.submit(fetch_one, i, u, session) for i, u in enumerate(urls)]\n",
    "    for fut in tqdm(as_completed(futures), total=len(futures), desc=\"Fetching hotel addresses\"):\n",
    "        idx, addr, err = fut.result()\n",
    "        addresses_dict[idx] = addr\n",
    "        if err is not None:\n",
    "            errors.append((idx, urls[idx], err))\n",
    "\n",
    "# ---------- จัดให้อยู่ตามลำดับเดิม ----------\n",
    "addresses = [addresses_dict.get(i) for i in range(len(urls))]\n",
    "trip_com[\"address\"] = addresses\n",
    "\n",
    "# (ถ้าต้องการดู error ไม่เยอะ)\n",
    "if errors:\n",
    "    print(f\"Errors: {len(errors)} / {len(urls)}\")\n",
    "    for i, u, e in errors[:10]:\n",
    "        print(f\"[{i}] {u} -> {e}\")\n",
    "\n",
    "trip_com.head()\n",
    "trip_com.to_csv('OTA/trip_com_bkk.csv', index=False)"
   ]
  },
  {
   "cell_type": "code",
   "execution_count": 9,
   "id": "840284dc",
   "metadata": {},
   "outputs": [
    {
     "data": {
      "application/vnd.microsoft.datawrangler.viewer.v0+json": {
       "columns": [
        {
         "name": "index",
         "rawType": "int64",
         "type": "integer"
        },
        {
         "name": "c17271c4d7 href",
         "rawType": "object",
         "type": "string"
        },
        {
         "name": "b87c397a13",
         "rawType": "object",
         "type": "string"
        }
       ],
       "ref": "9061e3d4-23fd-4cd0-8443-e6681e187cbe",
       "rows": [
        [
         "0",
         "https://www.booking.com/hotel/th/somerset-rama-ix.th.html?label=gen173nr-10CAEoggI46AdIM1gEaN0BiAEBmAEzuAEXyAEM2AED6AEB-AEBiAIBqAIBuAKdnfrGBsACAdICJDZlZjViYjlkLWRkZGEtNDFlOS1hZjg3LTk2MDE3M2UxMTYyZtgCAeACAQ&sid=f984b2f021f44e6d576f13f392f756a4&aid=304142&ucfs=1&arphpl=1&checkin=2025-10-23&checkout=2025-10-24&dest_id=-3414440&dest_type=city&group_adults=2&req_adults=2&no_rooms=1&group_children=0&req_children=0&hpos=1&hapos=1&sr_order=popularity&srpvid=d5b267a0c5c1003e&srepoch=1759416263&all_sr_blocks=597446711_407774993_2_2_0&highlighted_blocks=597446711_407774993_2_2_0&matching_block_id=597446711_407774993_2_2_0&sr_pri_blocks=597446711_407774993_2_2_0__330100&from_sustainable_property_sr=1&from=searchresults",
         "Somerset Rama 9 Bangkok"
        ],
        [
         "1",
         "https://www.booking.com/hotel/th/thonglor-ekamai-spacious-1-br-1-bathroom-sofa-bed-kitchen.th.html?label=gen173nr-10CAEoggI46AdIM1gEaN0BiAEBmAEzuAEXyAEM2AED6AEB-AEBiAIBqAIBuAKdnfrGBsACAdICJDZlZjViYjlkLWRkZGEtNDFlOS1hZjg3LTk2MDE3M2UxMTYyZtgCAeACAQ&sid=f984b2f021f44e6d576f13f392f756a4&aid=304142&ucfs=1&arphpl=1&checkin=2025-10-23&checkout=2025-10-24&dest_id=-3414440&dest_type=city&group_adults=2&req_adults=2&no_rooms=1&group_children=0&req_children=0&hpos=2&hapos=2&sr_order=popularity&srpvid=d5b267a0c5c1003e&srepoch=1759416263&all_sr_blocks=1223638203_418531362_0_0_0_887426&highlighted_blocks=1223638203_418531362_0_0_0_887426&matching_block_id=1223638203_418531362_0_0_0_887426&sr_pri_blocks=1223638203_418531362_0_0_0_887426_64260&from=searchresults",
         "Petch Tower Ekkamai"
        ],
        [
         "2",
         "https://www.booking.com/hotel/th/thee.th.html?label=gen173nr-10CAEoggI46AdIM1gEaN0BiAEBmAEzuAEXyAEM2AED6AEB-AEBiAIBqAIBuAKdnfrGBsACAdICJDZlZjViYjlkLWRkZGEtNDFlOS1hZjg3LTk2MDE3M2UxMTYyZtgCAeACAQ&sid=f984b2f021f44e6d576f13f392f756a4&aid=304142&ucfs=1&arphpl=1&checkin=2025-10-23&checkout=2025-10-24&dest_id=-3414440&dest_type=city&group_adults=2&req_adults=2&no_rooms=1&group_children=0&req_children=0&hpos=3&hapos=3&sr_order=popularity&srpvid=d5b267a0c5c1003e&srepoch=1759416263&all_sr_blocks=108069302_129992767_3_1_0_1127716&highlighted_blocks=108069302_129992767_3_1_0_1127716&matching_block_id=108069302_129992767_3_1_0_1127716&sr_pri_blocks=108069302_129992767_3_1_0_1127716_213707&from=searchresults",
         "THEE Bangkok by TH District \"newly renovated\""
        ],
        [
         "3",
         "https://www.booking.com/hotel/th/the-mustang-blu.th.html?label=gen173nr-10CAEoggI46AdIM1gEaN0BiAEBmAEzuAEXyAEM2AED6AEB-AEBiAIBqAIBuAKdnfrGBsACAdICJDZlZjViYjlkLWRkZGEtNDFlOS1hZjg3LTk2MDE3M2UxMTYyZtgCAeACAQ&sid=f984b2f021f44e6d576f13f392f756a4&aid=304142&ucfs=1&arphpl=1&checkin=2025-10-23&checkout=2025-10-24&dest_id=-3414440&dest_type=city&group_adults=2&req_adults=2&no_rooms=1&group_children=0&req_children=0&hpos=4&hapos=4&sr_order=popularity&srpvid=d5b267a0c5c1003e&srepoch=1759416263&all_sr_blocks=603138908_309461470_2_1_0&highlighted_blocks=603138908_309461470_2_1_0&matching_block_id=603138908_309461470_2_1_0&sr_pri_blocks=603138908_309461470_2_1_0__526500&from=searchresults",
         "The Mustang Blu"
        ],
        [
         "4",
         "https://www.booking.com/hotel/th/public-house.th.html?label=gen173nr-10CAEoggI46AdIM1gEaN0BiAEBmAEzuAEXyAEM2AED6AEB-AEBiAIBqAIBuAKdnfrGBsACAdICJDZlZjViYjlkLWRkZGEtNDFlOS1hZjg3LTk2MDE3M2UxMTYyZtgCAeACAQ&sid=f984b2f021f44e6d576f13f392f756a4&aid=304142&ucfs=1&arphpl=1&checkin=2025-10-23&checkout=2025-10-24&dest_id=-3414440&dest_type=city&group_adults=2&req_adults=2&no_rooms=1&group_children=0&req_children=0&hpos=5&hapos=5&sr_order=popularity&srpvid=d5b267a0c5c1003e&srepoch=1759416263&all_sr_blocks=938412210_366106501_2_2_0&highlighted_blocks=938412210_366106501_2_2_0&matching_block_id=938412210_366106501_2_2_0&sr_pri_blocks=938412210_366106501_2_2_0__387018&from=searchresults",
         "Public House Bangkok, a Member of Design Hotels"
        ],
        [
         "5",
         "https://www.booking.com/hotel/th/vince-hotel.th.html?label=gen173nr-10CAEoggI46AdIM1gEaN0BiAEBmAEzuAEXyAEM2AED6AEB-AEBiAIBqAIBuAKdnfrGBsACAdICJDZlZjViYjlkLWRkZGEtNDFlOS1hZjg3LTk2MDE3M2UxMTYyZtgCAeACAQ&sid=f984b2f021f44e6d576f13f392f756a4&aid=304142&ucfs=1&arphpl=1&checkin=2025-10-23&checkout=2025-10-24&dest_id=-3414440&dest_type=city&group_adults=2&req_adults=2&no_rooms=1&group_children=0&req_children=0&hpos=6&hapos=6&sr_order=popularity&srpvid=d5b267a0c5c1003e&srepoch=1759416263&all_sr_blocks=141195004_89637093_2_1_0_389612&highlighted_blocks=141195004_89637093_2_1_0_389612&matching_block_id=141195004_89637093_2_1_0_389612&sr_pri_blocks=141195004_89637093_2_1_0_389612_238140&from=searchresults",
         "Vince Hotel Pratunam"
        ],
        [
         "6",
         "https://www.booking.com/hotel/th/chatrium-grand-bangkok.th.html?label=gen173nr-10CAEoggI46AdIM1gEaN0BiAEBmAEzuAEXyAEM2AED6AEB-AEBiAIBqAIBuAKdnfrGBsACAdICJDZlZjViYjlkLWRkZGEtNDFlOS1hZjg3LTk2MDE3M2UxMTYyZtgCAeACAQ&sid=f984b2f021f44e6d576f13f392f756a4&aid=304142&ucfs=1&arphpl=1&checkin=2025-10-23&checkout=2025-10-24&dest_id=-3414440&dest_type=city&group_adults=2&req_adults=2&no_rooms=1&group_children=0&req_children=0&hpos=7&hapos=7&sr_order=popularity&srpvid=d5b267a0c5c1003e&srepoch=1759416263&all_sr_blocks=901611111_360977710_2_1_0_148530&highlighted_blocks=901611111_360977710_2_1_0_148530&matching_block_id=901611111_360977710_2_1_0_148530&sr_pri_blocks=901611111_360977710_2_1_0_148530_921213&from=searchresults",
         "โรงแรมชาเทรียม แกรนด์ กรุงเทพฯ"
        ],
        [
         "7",
         "https://www.booking.com/hotel/th/beanstalk-bangkok.th.html?label=gen173nr-10CAEoggI46AdIM1gEaN0BiAEBmAEzuAEXyAEM2AED6AEB-AEBiAIBqAIBuAKdnfrGBsACAdICJDZlZjViYjlkLWRkZGEtNDFlOS1hZjg3LTk2MDE3M2UxMTYyZtgCAeACAQ&sid=f984b2f021f44e6d576f13f392f756a4&aid=304142&ucfs=1&arphpl=1&checkin=2025-10-23&checkout=2025-10-24&dest_id=-3414440&dest_type=city&group_adults=2&req_adults=2&no_rooms=1&group_children=0&req_children=0&hpos=8&hapos=8&sr_order=popularity&srpvid=d5b267a0c5c1003e&srepoch=1759416263&all_sr_blocks=729626904_325502961_2_2_0&highlighted_blocks=729626904_325502961_2_2_0&matching_block_id=729626904_325502961_2_2_0&sr_pri_blocks=729626904_325502961_2_2_0__116041&from=searchresults",
         "Beanstalk Bangkok"
        ],
        [
         "8",
         "https://www.booking.com/hotel/th/the-standard-bangkok-mahanakhon.th.html?label=gen173nr-10CAEoggI46AdIM1gEaN0BiAEBmAEzuAEXyAEM2AED6AEB-AEBiAIBqAIBuAKdnfrGBsACAdICJDZlZjViYjlkLWRkZGEtNDFlOS1hZjg3LTk2MDE3M2UxMTYyZtgCAeACAQ&sid=f984b2f021f44e6d576f13f392f756a4&aid=304142&ucfs=1&arphpl=1&checkin=2025-10-23&checkout=2025-10-24&dest_id=-3414440&dest_type=city&group_adults=2&req_adults=2&no_rooms=1&group_children=0&req_children=0&hpos=9&hapos=9&sr_order=popularity&srpvid=d5b267a0c5c1003e&srepoch=1759416263&all_sr_blocks=810038712_343183919_2_1_0&highlighted_blocks=810038712_343183919_2_1_0&matching_block_id=810038712_343183919_2_1_0&sr_pri_blocks=810038712_343183919_2_1_0__716400&from=searchresults",
         "The Standard, Bangkok Mahanakhon"
        ],
        [
         "9",
         "https://www.booking.com/hotel/th/nysa-bangkok-bangkok.th.html?label=gen173nr-10CAEoggI46AdIM1gEaN0BiAEBmAEzuAEXyAEM2AED6AEB-AEBiAIBqAIBuAKdnfrGBsACAdICJDZlZjViYjlkLWRkZGEtNDFlOS1hZjg3LTk2MDE3M2UxMTYyZtgCAeACAQ&sid=f984b2f021f44e6d576f13f392f756a4&aid=304142&ucfs=1&arphpl=1&checkin=2025-10-23&checkout=2025-10-24&dest_id=-3414440&dest_type=city&group_adults=2&req_adults=2&no_rooms=1&group_children=0&req_children=0&hpos=10&hapos=10&sr_order=popularity&srpvid=d5b267a0c5c1003e&srepoch=1759416263&all_sr_blocks=1119286801_415969265_2_2_0_769785&highlighted_blocks=1119286801_415969265_2_2_0_769785&matching_block_id=1119286801_415969265_2_2_0_769785&sr_pri_blocks=1119286801_415969265_2_2_0_769785_320760&from=searchresults",
         "Nysa Hotel Bangkok Sukhumvit 11"
        ],
        [
         "10",
         "https://www.booking.com/hotel/th/sivatel-bangkok.th.html?label=gen173nr-10CAEoggI46AdIM1gEaN0BiAEBmAEzuAEXyAEM2AED6AEB-AEBiAIBqAIBuAKdnfrGBsACAdICJDZlZjViYjlkLWRkZGEtNDFlOS1hZjg3LTk2MDE3M2UxMTYyZtgCAeACAQ&sid=f984b2f021f44e6d576f13f392f756a4&aid=304142&ucfs=1&arphpl=1&checkin=2025-10-23&checkout=2025-10-24&dest_id=-3414440&dest_type=city&group_adults=2&req_adults=2&no_rooms=1&group_children=0&req_children=0&hpos=11&hapos=11&sr_order=popularity&srpvid=d5b267a0c5c1003e&srepoch=1759416263&all_sr_blocks=26418826_88875110_0_41_0_84576&highlighted_blocks=26418826_88875110_0_41_0_84576&matching_block_id=26418826_88875110_0_41_0_84576&sr_pri_blocks=26418826_88875110_0_41_0_84576_580229&from=searchresults",
         "โรงแรมศิวาเทล กรุงเทพ"
        ],
        [
         "11",
         "https://www.booking.com/hotel/th/valiahotelbangkok.th.html?label=gen173nr-10CAEoggI46AdIM1gEaN0BiAEBmAEzuAEXyAEM2AED6AEB-AEBiAIBqAIBuAKdnfrGBsACAdICJDZlZjViYjlkLWRkZGEtNDFlOS1hZjg3LTk2MDE3M2UxMTYyZtgCAeACAQ&sid=f984b2f021f44e6d576f13f392f756a4&aid=304142&ucfs=1&arphpl=1&checkin=2025-10-23&checkout=2025-10-24&dest_id=-3414440&dest_type=city&group_adults=2&req_adults=2&no_rooms=1&group_children=0&req_children=0&hpos=12&hapos=12&sr_order=popularity&srpvid=d5b267a0c5c1003e&srepoch=1759416263&all_sr_blocks=2715215_380137323_2_2_0_1154075&highlighted_blocks=2715215_380137323_2_2_0_1154075&matching_block_id=2715215_380137323_2_2_0_1154075&sr_pri_blocks=2715215_380137323_2_2_0_1154075_256174&from=searchresults",
         "โรงแรมวาลีอา (Valia Hotel Bangkok)"
        ],
        [
         "12",
         "https://www.booking.com/hotel/th/radisson-suites-bangkok-sukhumvit.th.html?label=gen173nr-10CAEoggI46AdIM1gEaN0BiAEBmAEzuAEXyAEM2AED6AEB-AEBiAIBqAIBuAKdnfrGBsACAdICJDZlZjViYjlkLWRkZGEtNDFlOS1hZjg3LTk2MDE3M2UxMTYyZtgCAeACAQ&sid=f984b2f021f44e6d576f13f392f756a4&aid=304142&ucfs=1&arphpl=1&checkin=2025-10-23&checkout=2025-10-24&dest_id=-3414440&dest_type=city&group_adults=2&req_adults=2&no_rooms=1&group_children=0&req_children=0&hpos=13&hapos=13&sr_order=popularity&srpvid=d5b267a0c5c1003e&srepoch=1759416263&all_sr_blocks=29018212_94396708_2_2_0&highlighted_blocks=29018212_94396708_2_2_0&matching_block_id=29018212_94396708_2_2_0&sr_pri_blocks=29018212_94396708_2_2_0__268375&from=searchresults",
         "โรงแรม เรดิสัน สวีท แบงค็อก สุขุมวิท"
        ],
        [
         "13",
         "https://www.booking.com/hotel/th/chi-bangkok-sha-extra-plus.th.html?label=gen173nr-10CAEoggI46AdIM1gEaN0BiAEBmAEzuAEXyAEM2AED6AEB-AEBiAIBqAIBuAKdnfrGBsACAdICJDZlZjViYjlkLWRkZGEtNDFlOS1hZjg3LTk2MDE3M2UxMTYyZtgCAeACAQ&sid=f984b2f021f44e6d576f13f392f756a4&aid=304142&ucfs=1&arphpl=1&checkin=2025-10-23&checkout=2025-10-24&dest_id=-3414440&dest_type=city&group_adults=2&req_adults=2&no_rooms=1&group_children=0&req_children=0&hpos=14&hapos=14&sr_order=popularity&srpvid=d5b267a0c5c1003e&srepoch=1759416263&all_sr_blocks=817874208_344348442_2_2_0_146142&highlighted_blocks=817874208_344348442_2_2_0_146142&matching_block_id=817874208_344348442_2_2_0_146142&sr_pri_blocks=817874208_344348442_2_2_0_146142_176235&from=searchresults",
         "The Fig Lobby Bangkok"
        ],
        [
         "14",
         "https://www.booking.com/hotel/th/tha.th.html?label=gen173nr-10CAEoggI46AdIM1gEaN0BiAEBmAEzuAEXyAEM2AED6AEB-AEBiAIBqAIBuAKdnfrGBsACAdICJDZlZjViYjlkLWRkZGEtNDFlOS1hZjg3LTk2MDE3M2UxMTYyZtgCAeACAQ&sid=f984b2f021f44e6d576f13f392f756a4&aid=304142&ucfs=1&arphpl=1&checkin=2025-10-23&checkout=2025-10-24&dest_id=-3414440&dest_type=city&group_adults=2&req_adults=2&no_rooms=1&group_children=0&req_children=0&hpos=15&hapos=15&sr_order=popularity&srpvid=d5b267a0c5c1003e&srepoch=1759416263&all_sr_blocks=143448402_96206069_2_0_0_1123198&highlighted_blocks=143448402_96206069_2_0_0_1123198&matching_block_id=143448402_96206069_2_0_0_1123198&sr_pri_blocks=143448402_96206069_2_0_0_1123198_143699&from=searchresults",
         "THA City Loft by TH District"
        ],
        [
         "15",
         "https://www.booking.com/hotel/th/chatrium-suites-bangkok-a-dusit-thani-hotels-partner.th.html?label=gen173nr-10CAEoggI46AdIM1gEaN0BiAEBmAEzuAEXyAEM2AED6AEB-AEBiAIBqAIBuAKdnfrGBsACAdICJDZlZjViYjlkLWRkZGEtNDFlOS1hZjg3LTk2MDE3M2UxMTYyZtgCAeACAQ&sid=f984b2f021f44e6d576f13f392f756a4&aid=304142&ucfs=1&arphpl=1&checkin=2025-10-23&checkout=2025-10-24&dest_id=-3414440&dest_type=city&group_adults=2&req_adults=2&no_rooms=1&group_children=0&req_children=0&hpos=16&hapos=16&sr_order=popularity&srpvid=d5b267a0c5c1003e&srepoch=1759416263&all_sr_blocks=4425913_88871377_2_1_0_47674&highlighted_blocks=4425913_88871377_2_1_0_47674&matching_block_id=4425913_88871377_2_1_0_47674&sr_pri_blocks=4425913_88871377_2_1_0_47674_583200&from=searchresults",
         "โรงแรมชาเทรียม ริเวอร์ไซด์ กรุงเทพฯ"
        ],
        [
         "16",
         "https://www.booking.com/hotel/th/oakwood-studios-sukhumvit-bangkok.th.html?label=gen173nr-10CAEoggI46AdIM1gEaN0BiAEBmAEzuAEXyAEM2AED6AEB-AEBiAIBqAIBuAKdnfrGBsACAdICJDZlZjViYjlkLWRkZGEtNDFlOS1hZjg3LTk2MDE3M2UxMTYyZtgCAeACAQ&sid=f984b2f021f44e6d576f13f392f756a4&aid=304142&ucfs=1&arphpl=1&checkin=2025-10-23&checkout=2025-10-24&dest_id=-3414440&dest_type=city&group_adults=2&req_adults=2&no_rooms=1&group_children=0&req_children=0&hpos=17&hapos=17&sr_order=popularity&srpvid=d5b267a0c5c1003e&srepoch=1759416263&all_sr_blocks=860006801_356302651_0_42_0&highlighted_blocks=860006801_356302651_0_42_0&matching_block_id=860006801_356302651_0_42_0&sr_pri_blocks=860006801_356302651_0_42_0__247876&from=searchresults",
         "โรงแรมโอ๊ควู้ด สตูดิโอ สุขุมวิท แบงค็อก"
        ],
        [
         "17",
         "https://www.booking.com/hotel/th/the-ex-capital-bangkok-by-dancenter.th.html?label=gen173nr-10CAEoggI46AdIM1gEaN0BiAEBmAEzuAEXyAEM2AED6AEB-AEBiAIBqAIBuAKdnfrGBsACAdICJDZlZjViYjlkLWRkZGEtNDFlOS1hZjg3LTk2MDE3M2UxMTYyZtgCAeACAQ&sid=f984b2f021f44e6d576f13f392f756a4&aid=304142&ucfs=1&arphpl=1&checkin=2025-10-23&checkout=2025-10-24&dest_id=-3414440&dest_type=city&group_adults=2&req_adults=2&no_rooms=1&group_children=0&req_children=0&hpos=18&hapos=18&sr_order=popularity&srpvid=d5b267a0c5c1003e&srepoch=1759416263&all_sr_blocks=1486340901_420130341_2_0_0&highlighted_blocks=1486340901_420130341_2_0_0&matching_block_id=1486340901_420130341_2_0_0&sr_pri_blocks=1486340901_420130341_2_0_0__122157&from=searchresults",
         "The Ex Capital Hotel Bangkok by Dancenter"
        ],
        [
         "18",
         "https://www.booking.com/hotel/th/akyra-thonglor-bangkok.th.html?label=gen173nr-10CAEoggI46AdIM1gEaN0BiAEBmAEzuAEXyAEM2AED6AEB-AEBiAIBqAIBuAKdnfrGBsACAdICJDZlZjViYjlkLWRkZGEtNDFlOS1hZjg3LTk2MDE3M2UxMTYyZtgCAeACAQ&sid=f984b2f021f44e6d576f13f392f756a4&aid=304142&ucfs=1&arphpl=1&checkin=2025-10-23&checkout=2025-10-24&dest_id=-3414440&dest_type=city&group_adults=2&req_adults=2&no_rooms=1&group_children=0&req_children=0&hpos=19&hapos=19&sr_order=popularity&srpvid=d5b267a0c5c1003e&srepoch=1759416263&all_sr_blocks=28546107_119582871_2_42_0_1116200&highlighted_blocks=28546107_119582871_2_42_0_1116200&matching_block_id=28546107_119582871_2_42_0_1116200&sr_pri_blocks=28546107_119582871_2_42_0_1116200_406899&from=searchresults",
         "MUU Bangkok, Small Luxury Hotels of the World"
        ],
        [
         "19",
         "https://www.booking.com/hotel/th/aphrodite-inn-bangkok.th.html?label=gen173nr-10CAEoggI46AdIM1gEaN0BiAEBmAEzuAEXyAEM2AED6AEB-AEBiAIBqAIBuAKdnfrGBsACAdICJDZlZjViYjlkLWRkZGEtNDFlOS1hZjg3LTk2MDE3M2UxMTYyZtgCAeACAQ&sid=f984b2f021f44e6d576f13f392f756a4&aid=304142&ucfs=1&arphpl=1&checkin=2025-10-23&checkout=2025-10-24&dest_id=-3414440&dest_type=city&group_adults=2&req_adults=2&no_rooms=1&group_children=0&req_children=0&hpos=20&hapos=20&sr_order=popularity&srpvid=d5b267a0c5c1003e&srepoch=1759416263&all_sr_blocks=4362512_89654155_0_1_0&highlighted_blocks=4362512_89654155_0_1_0&matching_block_id=4362512_89654155_0_1_0&sr_pri_blocks=4362512_89654155_0_1_0__245754&from=searchresults",
         "อะโฟรดิเต้ อินน์ กรุงเทพ"
        ],
        [
         "20",
         "https://www.booking.com/hotel/th/ten-six-hundred-chao-pharya-bangkok-by-preference.th.html?label=gen173nr-10CAEoggI46AdIM1gEaN0BiAEBmAEzuAEXyAEM2AED6AEB-AEBiAIBqAIBuAKdnfrGBsACAdICJDZlZjViYjlkLWRkZGEtNDFlOS1hZjg3LTk2MDE3M2UxMTYyZtgCAeACAQ&sid=f984b2f021f44e6d576f13f392f756a4&aid=304142&ucfs=1&arphpl=1&checkin=2025-10-23&checkout=2025-10-24&dest_id=-3414440&dest_type=city&group_adults=2&req_adults=2&no_rooms=1&group_children=0&req_children=0&hpos=21&hapos=21&sr_order=popularity&srpvid=d5b267a0c5c1003e&srepoch=1759416263&all_sr_blocks=1058830701_378138740_2_2_0&highlighted_blocks=1058830701_378138740_2_2_0&matching_block_id=1058830701_378138740_2_2_0&sr_pri_blocks=1058830701_378138740_2_2_0__390882&from=searchresults",
         "Ten Six Hundred, Chao Phraya, Bangkok by Preference, managed by The Ascott Limited"
        ],
        [
         "21",
         "https://www.booking.com/hotel/th/hua-chang-heritage.th.html?label=gen173nr-10CAEoggI46AdIM1gEaN0BiAEBmAEzuAEXyAEM2AED6AEB-AEBiAIBqAIBuAKdnfrGBsACAdICJDZlZjViYjlkLWRkZGEtNDFlOS1hZjg3LTk2MDE3M2UxMTYyZtgCAeACAQ&sid=f984b2f021f44e6d576f13f392f756a4&aid=304142&ucfs=1&arphpl=1&checkin=2025-10-23&checkout=2025-10-24&dest_id=-3414440&dest_type=city&group_adults=2&req_adults=2&no_rooms=1&group_children=0&req_children=0&hpos=22&hapos=22&sr_order=popularity&srpvid=d5b267a0c5c1003e&srepoch=1759416263&all_sr_blocks=46157001_88883050_2_42_0_271710&highlighted_blocks=46157001_88883050_2_42_0_271710&matching_block_id=46157001_88883050_2_42_0_271710&sr_pri_blocks=46157001_88883050_2_42_0_271710_386771&from=searchresults",
         "Hua Chang Heritage Hotel"
        ],
        [
         "22",
         "https://www.booking.com/hotel/th/mo-bangkok.th.html?label=gen173nr-10CAEoggI46AdIM1gEaN0BiAEBmAEzuAEXyAEM2AED6AEB-AEBiAIBqAIBuAKdnfrGBsACAdICJDZlZjViYjlkLWRkZGEtNDFlOS1hZjg3LTk2MDE3M2UxMTYyZtgCAeACAQ&sid=f984b2f021f44e6d576f13f392f756a4&aid=304142&ucfs=1&arphpl=1&checkin=2025-10-23&checkout=2025-10-24&dest_id=-3414440&dest_type=city&group_adults=2&req_adults=2&no_rooms=1&group_children=0&req_children=0&hpos=23&hapos=23&sr_order=popularity&srpvid=d5b267a0c5c1003e&srepoch=1759416263&all_sr_blocks=1098568701_382723626_2_1_0&highlighted_blocks=1098568701_382723626_2_1_0&matching_block_id=1098568701_382723626_2_1_0&sr_pri_blocks=1098568701_382723626_2_1_0__325620&from=searchresults",
         "MO Hotel Bangkok"
        ],
        [
         "23",
         "https://www.booking.com/hotel/th/adelphi-suites.th.html?label=gen173nr-10CAEoggI46AdIM1gEaN0BiAEBmAEzuAEXyAEM2AED6AEB-AEBiAIBqAIBuAKdnfrGBsACAdICJDZlZjViYjlkLWRkZGEtNDFlOS1hZjg3LTk2MDE3M2UxMTYyZtgCAeACAQ&sid=f984b2f021f44e6d576f13f392f756a4&aid=304142&ucfs=1&arphpl=1&checkin=2025-10-23&checkout=2025-10-24&dest_id=-3414440&dest_type=city&group_adults=2&req_adults=2&no_rooms=1&group_children=0&req_children=0&hpos=24&hapos=24&sr_order=popularity&srpvid=d5b267a0c5c1003e&srepoch=1759416263&all_sr_blocks=2729301_95151022_2_2_0_403840&highlighted_blocks=2729301_95151022_2_2_0_403840&matching_block_id=2729301_95151022_2_2_0_403840&sr_pri_blocks=2729301_95151022_2_2_0_403840_352755&from=searchresults",
         "Adelphi Suites Bangkok"
        ],
        [
         "24",
         "https://www.booking.com/hotel/th/passa.th.html?label=gen173nr-10CAEoggI46AdIM1gEaN0BiAEBmAEzuAEXyAEM2AED6AEB-AEBiAIBqAIBuAKdnfrGBsACAdICJDZlZjViYjlkLWRkZGEtNDFlOS1hZjg3LTk2MDE3M2UxMTYyZtgCAeACAQ&sid=f984b2f021f44e6d576f13f392f756a4&aid=304142&ucfs=1&arphpl=1&checkin=2025-10-23&checkout=2025-10-24&dest_id=-3414440&dest_type=city&group_adults=2&req_adults=2&no_rooms=1&group_children=0&req_children=0&hpos=25&hapos=25&sr_order=popularity&srpvid=d5b267a0c5c1003e&srepoch=1759416263&all_sr_blocks=796689501_381559366_2_10_0&highlighted_blocks=796689501_381559366_2_10_0&matching_block_id=796689501_381559366_2_10_0&sr_pri_blocks=796689501_381559366_2_10_0__247860&from=searchresults",
         "PASSA Hotel Bangkok"
        ],
        [
         "25",
         "https://www.booking.com/hotel/th/somerset-rama-ix.th.html?label=gen173nr-10CAEoggI46AdIM1gEaN0BiAEBmAEzuAEXyAEM2AED6AEB-AEBiAIBqAIBuAKdnfrGBsACAdICJDZlZjViYjlkLWRkZGEtNDFlOS1hZjg3LTk2MDE3M2UxMTYyZtgCAeACAQ&sid=f984b2f021f44e6d576f13f392f756a4&aid=304142&ucfs=1&arphpl=1&checkin=2025-10-23&checkout=2025-10-24&dest_id=-3414440&dest_type=city&group_adults=2&req_adults=2&no_rooms=1&group_children=0&req_children=0&hpos=1&hapos=1&sr_order=popularity&srpvid=d5b267a0c5c1003e&srepoch=1759416272&all_sr_blocks=597446711_407774993_2_2_0&highlighted_blocks=597446711_407774993_2_2_0&matching_block_id=597446711_407774993_2_2_0&sr_pri_blocks=597446711_407774993_2_2_0__330100&from_sustainable_property_sr=1&from=searchresults",
         "Somerset Rama 9 Bangkok"
        ],
        [
         "26",
         "https://www.booking.com/hotel/th/thonglor-ekamai-spacious-1-br-1-bathroom-sofa-bed-kitchen.th.html?label=gen173nr-10CAEoggI46AdIM1gEaN0BiAEBmAEzuAEXyAEM2AED6AEB-AEBiAIBqAIBuAKdnfrGBsACAdICJDZlZjViYjlkLWRkZGEtNDFlOS1hZjg3LTk2MDE3M2UxMTYyZtgCAeACAQ&sid=f984b2f021f44e6d576f13f392f756a4&aid=304142&ucfs=1&arphpl=1&checkin=2025-10-23&checkout=2025-10-24&dest_id=-3414440&dest_type=city&group_adults=2&req_adults=2&no_rooms=1&group_children=0&req_children=0&hpos=2&hapos=2&sr_order=popularity&srpvid=d5b267a0c5c1003e&srepoch=1759416272&all_sr_blocks=1223638203_418531362_0_0_0_887426&highlighted_blocks=1223638203_418531362_0_0_0_887426&matching_block_id=1223638203_418531362_0_0_0_887426&sr_pri_blocks=1223638203_418531362_0_0_0_887426_64260&from=searchresults",
         "Petch Tower Ekkamai"
        ],
        [
         "27",
         "https://www.booking.com/hotel/th/thee.th.html?label=gen173nr-10CAEoggI46AdIM1gEaN0BiAEBmAEzuAEXyAEM2AED6AEB-AEBiAIBqAIBuAKdnfrGBsACAdICJDZlZjViYjlkLWRkZGEtNDFlOS1hZjg3LTk2MDE3M2UxMTYyZtgCAeACAQ&sid=f984b2f021f44e6d576f13f392f756a4&aid=304142&ucfs=1&arphpl=1&checkin=2025-10-23&checkout=2025-10-24&dest_id=-3414440&dest_type=city&group_adults=2&req_adults=2&no_rooms=1&group_children=0&req_children=0&hpos=3&hapos=3&sr_order=popularity&srpvid=d5b267a0c5c1003e&srepoch=1759416272&all_sr_blocks=108069302_129992767_3_1_0_1127716&highlighted_blocks=108069302_129992767_3_1_0_1127716&matching_block_id=108069302_129992767_3_1_0_1127716&sr_pri_blocks=108069302_129992767_3_1_0_1127716_213707&from=searchresults",
         "THEE Bangkok by TH District \"newly renovated\""
        ],
        [
         "28",
         "https://www.booking.com/hotel/th/the-mustang-blu.th.html?label=gen173nr-10CAEoggI46AdIM1gEaN0BiAEBmAEzuAEXyAEM2AED6AEB-AEBiAIBqAIBuAKdnfrGBsACAdICJDZlZjViYjlkLWRkZGEtNDFlOS1hZjg3LTk2MDE3M2UxMTYyZtgCAeACAQ&sid=f984b2f021f44e6d576f13f392f756a4&aid=304142&ucfs=1&arphpl=1&checkin=2025-10-23&checkout=2025-10-24&dest_id=-3414440&dest_type=city&group_adults=2&req_adults=2&no_rooms=1&group_children=0&req_children=0&hpos=4&hapos=4&sr_order=popularity&srpvid=d5b267a0c5c1003e&srepoch=1759416272&all_sr_blocks=603138908_309461470_2_1_0&highlighted_blocks=603138908_309461470_2_1_0&matching_block_id=603138908_309461470_2_1_0&sr_pri_blocks=603138908_309461470_2_1_0__526500&from=searchresults",
         "The Mustang Blu"
        ],
        [
         "29",
         "https://www.booking.com/hotel/th/public-house.th.html?label=gen173nr-10CAEoggI46AdIM1gEaN0BiAEBmAEzuAEXyAEM2AED6AEB-AEBiAIBqAIBuAKdnfrGBsACAdICJDZlZjViYjlkLWRkZGEtNDFlOS1hZjg3LTk2MDE3M2UxMTYyZtgCAeACAQ&sid=f984b2f021f44e6d576f13f392f756a4&aid=304142&ucfs=1&arphpl=1&checkin=2025-10-23&checkout=2025-10-24&dest_id=-3414440&dest_type=city&group_adults=2&req_adults=2&no_rooms=1&group_children=0&req_children=0&hpos=5&hapos=5&sr_order=popularity&srpvid=d5b267a0c5c1003e&srepoch=1759416272&all_sr_blocks=938412210_366106501_2_2_0&highlighted_blocks=938412210_366106501_2_2_0&matching_block_id=938412210_366106501_2_2_0&sr_pri_blocks=938412210_366106501_2_2_0__387018&from=searchresults",
         "Public House Bangkok, a Member of Design Hotels"
        ],
        [
         "30",
         "https://www.booking.com/hotel/th/vince-hotel.th.html?label=gen173nr-10CAEoggI46AdIM1gEaN0BiAEBmAEzuAEXyAEM2AED6AEB-AEBiAIBqAIBuAKdnfrGBsACAdICJDZlZjViYjlkLWRkZGEtNDFlOS1hZjg3LTk2MDE3M2UxMTYyZtgCAeACAQ&sid=f984b2f021f44e6d576f13f392f756a4&aid=304142&ucfs=1&arphpl=1&checkin=2025-10-23&checkout=2025-10-24&dest_id=-3414440&dest_type=city&group_adults=2&req_adults=2&no_rooms=1&group_children=0&req_children=0&hpos=6&hapos=6&sr_order=popularity&srpvid=d5b267a0c5c1003e&srepoch=1759416272&all_sr_blocks=141195004_89637093_2_1_0_389612&highlighted_blocks=141195004_89637093_2_1_0_389612&matching_block_id=141195004_89637093_2_1_0_389612&sr_pri_blocks=141195004_89637093_2_1_0_389612_238140&from=searchresults",
         "Vince Hotel Pratunam"
        ],
        [
         "31",
         "https://www.booking.com/hotel/th/chatrium-grand-bangkok.th.html?label=gen173nr-10CAEoggI46AdIM1gEaN0BiAEBmAEzuAEXyAEM2AED6AEB-AEBiAIBqAIBuAKdnfrGBsACAdICJDZlZjViYjlkLWRkZGEtNDFlOS1hZjg3LTk2MDE3M2UxMTYyZtgCAeACAQ&sid=f984b2f021f44e6d576f13f392f756a4&aid=304142&ucfs=1&arphpl=1&checkin=2025-10-23&checkout=2025-10-24&dest_id=-3414440&dest_type=city&group_adults=2&req_adults=2&no_rooms=1&group_children=0&req_children=0&hpos=7&hapos=7&sr_order=popularity&srpvid=d5b267a0c5c1003e&srepoch=1759416272&all_sr_blocks=901611111_360977710_2_1_0_148530&highlighted_blocks=901611111_360977710_2_1_0_148530&matching_block_id=901611111_360977710_2_1_0_148530&sr_pri_blocks=901611111_360977710_2_1_0_148530_921213&from=searchresults",
         "โรงแรมชาเทรียม แกรนด์ กรุงเทพฯ"
        ],
        [
         "32",
         "https://www.booking.com/hotel/th/beanstalk-bangkok.th.html?label=gen173nr-10CAEoggI46AdIM1gEaN0BiAEBmAEzuAEXyAEM2AED6AEB-AEBiAIBqAIBuAKdnfrGBsACAdICJDZlZjViYjlkLWRkZGEtNDFlOS1hZjg3LTk2MDE3M2UxMTYyZtgCAeACAQ&sid=f984b2f021f44e6d576f13f392f756a4&aid=304142&ucfs=1&arphpl=1&checkin=2025-10-23&checkout=2025-10-24&dest_id=-3414440&dest_type=city&group_adults=2&req_adults=2&no_rooms=1&group_children=0&req_children=0&hpos=8&hapos=8&sr_order=popularity&srpvid=d5b267a0c5c1003e&srepoch=1759416272&all_sr_blocks=729626904_325502961_2_2_0&highlighted_blocks=729626904_325502961_2_2_0&matching_block_id=729626904_325502961_2_2_0&sr_pri_blocks=729626904_325502961_2_2_0__116041&from=searchresults",
         "Beanstalk Bangkok"
        ],
        [
         "33",
         "https://www.booking.com/hotel/th/the-standard-bangkok-mahanakhon.th.html?label=gen173nr-10CAEoggI46AdIM1gEaN0BiAEBmAEzuAEXyAEM2AED6AEB-AEBiAIBqAIBuAKdnfrGBsACAdICJDZlZjViYjlkLWRkZGEtNDFlOS1hZjg3LTk2MDE3M2UxMTYyZtgCAeACAQ&sid=f984b2f021f44e6d576f13f392f756a4&aid=304142&ucfs=1&arphpl=1&checkin=2025-10-23&checkout=2025-10-24&dest_id=-3414440&dest_type=city&group_adults=2&req_adults=2&no_rooms=1&group_children=0&req_children=0&hpos=9&hapos=9&sr_order=popularity&srpvid=d5b267a0c5c1003e&srepoch=1759416272&all_sr_blocks=810038712_343183919_2_1_0&highlighted_blocks=810038712_343183919_2_1_0&matching_block_id=810038712_343183919_2_1_0&sr_pri_blocks=810038712_343183919_2_1_0__716400&from=searchresults",
         "The Standard, Bangkok Mahanakhon"
        ],
        [
         "34",
         "https://www.booking.com/hotel/th/nysa-bangkok-bangkok.th.html?label=gen173nr-10CAEoggI46AdIM1gEaN0BiAEBmAEzuAEXyAEM2AED6AEB-AEBiAIBqAIBuAKdnfrGBsACAdICJDZlZjViYjlkLWRkZGEtNDFlOS1hZjg3LTk2MDE3M2UxMTYyZtgCAeACAQ&sid=f984b2f021f44e6d576f13f392f756a4&aid=304142&ucfs=1&arphpl=1&checkin=2025-10-23&checkout=2025-10-24&dest_id=-3414440&dest_type=city&group_adults=2&req_adults=2&no_rooms=1&group_children=0&req_children=0&hpos=10&hapos=10&sr_order=popularity&srpvid=d5b267a0c5c1003e&srepoch=1759416272&all_sr_blocks=1119286801_415969265_2_2_0_769785&highlighted_blocks=1119286801_415969265_2_2_0_769785&matching_block_id=1119286801_415969265_2_2_0_769785&sr_pri_blocks=1119286801_415969265_2_2_0_769785_320760&from=searchresults",
         "Nysa Hotel Bangkok Sukhumvit 11"
        ],
        [
         "35",
         "https://www.booking.com/hotel/th/sivatel-bangkok.th.html?label=gen173nr-10CAEoggI46AdIM1gEaN0BiAEBmAEzuAEXyAEM2AED6AEB-AEBiAIBqAIBuAKdnfrGBsACAdICJDZlZjViYjlkLWRkZGEtNDFlOS1hZjg3LTk2MDE3M2UxMTYyZtgCAeACAQ&sid=f984b2f021f44e6d576f13f392f756a4&aid=304142&ucfs=1&arphpl=1&checkin=2025-10-23&checkout=2025-10-24&dest_id=-3414440&dest_type=city&group_adults=2&req_adults=2&no_rooms=1&group_children=0&req_children=0&hpos=11&hapos=11&sr_order=popularity&srpvid=d5b267a0c5c1003e&srepoch=1759416272&all_sr_blocks=26418826_88875110_0_41_0_84576&highlighted_blocks=26418826_88875110_0_41_0_84576&matching_block_id=26418826_88875110_0_41_0_84576&sr_pri_blocks=26418826_88875110_0_41_0_84576_580229&from=searchresults",
         "โรงแรมศิวาเทล กรุงเทพ"
        ],
        [
         "36",
         "https://www.booking.com/hotel/th/valiahotelbangkok.th.html?label=gen173nr-10CAEoggI46AdIM1gEaN0BiAEBmAEzuAEXyAEM2AED6AEB-AEBiAIBqAIBuAKdnfrGBsACAdICJDZlZjViYjlkLWRkZGEtNDFlOS1hZjg3LTk2MDE3M2UxMTYyZtgCAeACAQ&sid=f984b2f021f44e6d576f13f392f756a4&aid=304142&ucfs=1&arphpl=1&checkin=2025-10-23&checkout=2025-10-24&dest_id=-3414440&dest_type=city&group_adults=2&req_adults=2&no_rooms=1&group_children=0&req_children=0&hpos=12&hapos=12&sr_order=popularity&srpvid=d5b267a0c5c1003e&srepoch=1759416272&all_sr_blocks=2715215_380137323_2_2_0_1154075&highlighted_blocks=2715215_380137323_2_2_0_1154075&matching_block_id=2715215_380137323_2_2_0_1154075&sr_pri_blocks=2715215_380137323_2_2_0_1154075_256174&from=searchresults",
         "โรงแรมวาลีอา (Valia Hotel Bangkok)"
        ],
        [
         "37",
         "https://www.booking.com/hotel/th/radisson-suites-bangkok-sukhumvit.th.html?label=gen173nr-10CAEoggI46AdIM1gEaN0BiAEBmAEzuAEXyAEM2AED6AEB-AEBiAIBqAIBuAKdnfrGBsACAdICJDZlZjViYjlkLWRkZGEtNDFlOS1hZjg3LTk2MDE3M2UxMTYyZtgCAeACAQ&sid=f984b2f021f44e6d576f13f392f756a4&aid=304142&ucfs=1&arphpl=1&checkin=2025-10-23&checkout=2025-10-24&dest_id=-3414440&dest_type=city&group_adults=2&req_adults=2&no_rooms=1&group_children=0&req_children=0&hpos=13&hapos=13&sr_order=popularity&srpvid=d5b267a0c5c1003e&srepoch=1759416272&all_sr_blocks=29018212_94396708_2_2_0&highlighted_blocks=29018212_94396708_2_2_0&matching_block_id=29018212_94396708_2_2_0&sr_pri_blocks=29018212_94396708_2_2_0__268375&from=searchresults",
         "โรงแรม เรดิสัน สวีท แบงค็อก สุขุมวิท"
        ],
        [
         "38",
         "https://www.booking.com/hotel/th/chi-bangkok-sha-extra-plus.th.html?label=gen173nr-10CAEoggI46AdIM1gEaN0BiAEBmAEzuAEXyAEM2AED6AEB-AEBiAIBqAIBuAKdnfrGBsACAdICJDZlZjViYjlkLWRkZGEtNDFlOS1hZjg3LTk2MDE3M2UxMTYyZtgCAeACAQ&sid=f984b2f021f44e6d576f13f392f756a4&aid=304142&ucfs=1&arphpl=1&checkin=2025-10-23&checkout=2025-10-24&dest_id=-3414440&dest_type=city&group_adults=2&req_adults=2&no_rooms=1&group_children=0&req_children=0&hpos=14&hapos=14&sr_order=popularity&srpvid=d5b267a0c5c1003e&srepoch=1759416272&all_sr_blocks=817874208_344348442_2_2_0_146142&highlighted_blocks=817874208_344348442_2_2_0_146142&matching_block_id=817874208_344348442_2_2_0_146142&sr_pri_blocks=817874208_344348442_2_2_0_146142_176235&from=searchresults",
         "The Fig Lobby Bangkok"
        ],
        [
         "39",
         "https://www.booking.com/hotel/th/tha.th.html?label=gen173nr-10CAEoggI46AdIM1gEaN0BiAEBmAEzuAEXyAEM2AED6AEB-AEBiAIBqAIBuAKdnfrGBsACAdICJDZlZjViYjlkLWRkZGEtNDFlOS1hZjg3LTk2MDE3M2UxMTYyZtgCAeACAQ&sid=f984b2f021f44e6d576f13f392f756a4&aid=304142&ucfs=1&arphpl=1&checkin=2025-10-23&checkout=2025-10-24&dest_id=-3414440&dest_type=city&group_adults=2&req_adults=2&no_rooms=1&group_children=0&req_children=0&hpos=15&hapos=15&sr_order=popularity&srpvid=d5b267a0c5c1003e&srepoch=1759416272&all_sr_blocks=143448402_96206069_2_0_0_1123198&highlighted_blocks=143448402_96206069_2_0_0_1123198&matching_block_id=143448402_96206069_2_0_0_1123198&sr_pri_blocks=143448402_96206069_2_0_0_1123198_143699&from=searchresults",
         "THA City Loft by TH District"
        ],
        [
         "40",
         "https://www.booking.com/hotel/th/chatrium-suites-bangkok-a-dusit-thani-hotels-partner.th.html?label=gen173nr-10CAEoggI46AdIM1gEaN0BiAEBmAEzuAEXyAEM2AED6AEB-AEBiAIBqAIBuAKdnfrGBsACAdICJDZlZjViYjlkLWRkZGEtNDFlOS1hZjg3LTk2MDE3M2UxMTYyZtgCAeACAQ&sid=f984b2f021f44e6d576f13f392f756a4&aid=304142&ucfs=1&arphpl=1&checkin=2025-10-23&checkout=2025-10-24&dest_id=-3414440&dest_type=city&group_adults=2&req_adults=2&no_rooms=1&group_children=0&req_children=0&hpos=16&hapos=16&sr_order=popularity&srpvid=d5b267a0c5c1003e&srepoch=1759416272&all_sr_blocks=4425913_88871377_2_1_0_47674&highlighted_blocks=4425913_88871377_2_1_0_47674&matching_block_id=4425913_88871377_2_1_0_47674&sr_pri_blocks=4425913_88871377_2_1_0_47674_583200&from=searchresults",
         "โรงแรมชาเทรียม ริเวอร์ไซด์ กรุงเทพฯ"
        ],
        [
         "41",
         "https://www.booking.com/hotel/th/oakwood-studios-sukhumvit-bangkok.th.html?label=gen173nr-10CAEoggI46AdIM1gEaN0BiAEBmAEzuAEXyAEM2AED6AEB-AEBiAIBqAIBuAKdnfrGBsACAdICJDZlZjViYjlkLWRkZGEtNDFlOS1hZjg3LTk2MDE3M2UxMTYyZtgCAeACAQ&sid=f984b2f021f44e6d576f13f392f756a4&aid=304142&ucfs=1&arphpl=1&checkin=2025-10-23&checkout=2025-10-24&dest_id=-3414440&dest_type=city&group_adults=2&req_adults=2&no_rooms=1&group_children=0&req_children=0&hpos=17&hapos=17&sr_order=popularity&srpvid=d5b267a0c5c1003e&srepoch=1759416272&all_sr_blocks=860006801_356302651_0_42_0&highlighted_blocks=860006801_356302651_0_42_0&matching_block_id=860006801_356302651_0_42_0&sr_pri_blocks=860006801_356302651_0_42_0__247876&from=searchresults",
         "โรงแรมโอ๊ควู้ด สตูดิโอ สุขุมวิท แบงค็อก"
        ],
        [
         "42",
         "https://www.booking.com/hotel/th/the-ex-capital-bangkok-by-dancenter.th.html?label=gen173nr-10CAEoggI46AdIM1gEaN0BiAEBmAEzuAEXyAEM2AED6AEB-AEBiAIBqAIBuAKdnfrGBsACAdICJDZlZjViYjlkLWRkZGEtNDFlOS1hZjg3LTk2MDE3M2UxMTYyZtgCAeACAQ&sid=f984b2f021f44e6d576f13f392f756a4&aid=304142&ucfs=1&arphpl=1&checkin=2025-10-23&checkout=2025-10-24&dest_id=-3414440&dest_type=city&group_adults=2&req_adults=2&no_rooms=1&group_children=0&req_children=0&hpos=18&hapos=18&sr_order=popularity&srpvid=d5b267a0c5c1003e&srepoch=1759416272&all_sr_blocks=1486340901_420130341_2_0_0&highlighted_blocks=1486340901_420130341_2_0_0&matching_block_id=1486340901_420130341_2_0_0&sr_pri_blocks=1486340901_420130341_2_0_0__122157&from=searchresults",
         "The Ex Capital Hotel Bangkok by Dancenter"
        ],
        [
         "43",
         "https://www.booking.com/hotel/th/akyra-thonglor-bangkok.th.html?label=gen173nr-10CAEoggI46AdIM1gEaN0BiAEBmAEzuAEXyAEM2AED6AEB-AEBiAIBqAIBuAKdnfrGBsACAdICJDZlZjViYjlkLWRkZGEtNDFlOS1hZjg3LTk2MDE3M2UxMTYyZtgCAeACAQ&sid=f984b2f021f44e6d576f13f392f756a4&aid=304142&ucfs=1&arphpl=1&checkin=2025-10-23&checkout=2025-10-24&dest_id=-3414440&dest_type=city&group_adults=2&req_adults=2&no_rooms=1&group_children=0&req_children=0&hpos=19&hapos=19&sr_order=popularity&srpvid=d5b267a0c5c1003e&srepoch=1759416272&all_sr_blocks=28546107_119582871_2_42_0_1116200&highlighted_blocks=28546107_119582871_2_42_0_1116200&matching_block_id=28546107_119582871_2_42_0_1116200&sr_pri_blocks=28546107_119582871_2_42_0_1116200_406899&from=searchresults",
         "MUU Bangkok, Small Luxury Hotels of the World"
        ],
        [
         "44",
         "https://www.booking.com/hotel/th/aphrodite-inn-bangkok.th.html?label=gen173nr-10CAEoggI46AdIM1gEaN0BiAEBmAEzuAEXyAEM2AED6AEB-AEBiAIBqAIBuAKdnfrGBsACAdICJDZlZjViYjlkLWRkZGEtNDFlOS1hZjg3LTk2MDE3M2UxMTYyZtgCAeACAQ&sid=f984b2f021f44e6d576f13f392f756a4&aid=304142&ucfs=1&arphpl=1&checkin=2025-10-23&checkout=2025-10-24&dest_id=-3414440&dest_type=city&group_adults=2&req_adults=2&no_rooms=1&group_children=0&req_children=0&hpos=20&hapos=20&sr_order=popularity&srpvid=d5b267a0c5c1003e&srepoch=1759416272&all_sr_blocks=4362512_89654155_0_1_0&highlighted_blocks=4362512_89654155_0_1_0&matching_block_id=4362512_89654155_0_1_0&sr_pri_blocks=4362512_89654155_0_1_0__245754&from=searchresults",
         "อะโฟรดิเต้ อินน์ กรุงเทพ"
        ],
        [
         "45",
         "https://www.booking.com/hotel/th/ten-six-hundred-chao-pharya-bangkok-by-preference.th.html?label=gen173nr-10CAEoggI46AdIM1gEaN0BiAEBmAEzuAEXyAEM2AED6AEB-AEBiAIBqAIBuAKdnfrGBsACAdICJDZlZjViYjlkLWRkZGEtNDFlOS1hZjg3LTk2MDE3M2UxMTYyZtgCAeACAQ&sid=f984b2f021f44e6d576f13f392f756a4&aid=304142&ucfs=1&arphpl=1&checkin=2025-10-23&checkout=2025-10-24&dest_id=-3414440&dest_type=city&group_adults=2&req_adults=2&no_rooms=1&group_children=0&req_children=0&hpos=21&hapos=21&sr_order=popularity&srpvid=d5b267a0c5c1003e&srepoch=1759416272&all_sr_blocks=1058830701_378138740_2_2_0&highlighted_blocks=1058830701_378138740_2_2_0&matching_block_id=1058830701_378138740_2_2_0&sr_pri_blocks=1058830701_378138740_2_2_0__390882&from=searchresults",
         "Ten Six Hundred, Chao Phraya, Bangkok by Preference, managed by The Ascott Limited"
        ],
        [
         "46",
         "https://www.booking.com/hotel/th/hua-chang-heritage.th.html?label=gen173nr-10CAEoggI46AdIM1gEaN0BiAEBmAEzuAEXyAEM2AED6AEB-AEBiAIBqAIBuAKdnfrGBsACAdICJDZlZjViYjlkLWRkZGEtNDFlOS1hZjg3LTk2MDE3M2UxMTYyZtgCAeACAQ&sid=f984b2f021f44e6d576f13f392f756a4&aid=304142&ucfs=1&arphpl=1&checkin=2025-10-23&checkout=2025-10-24&dest_id=-3414440&dest_type=city&group_adults=2&req_adults=2&no_rooms=1&group_children=0&req_children=0&hpos=22&hapos=22&sr_order=popularity&srpvid=d5b267a0c5c1003e&srepoch=1759416272&all_sr_blocks=46157001_88883050_2_42_0_271710&highlighted_blocks=46157001_88883050_2_42_0_271710&matching_block_id=46157001_88883050_2_42_0_271710&sr_pri_blocks=46157001_88883050_2_42_0_271710_386771&from=searchresults",
         "Hua Chang Heritage Hotel"
        ],
        [
         "47",
         "https://www.booking.com/hotel/th/mo-bangkok.th.html?label=gen173nr-10CAEoggI46AdIM1gEaN0BiAEBmAEzuAEXyAEM2AED6AEB-AEBiAIBqAIBuAKdnfrGBsACAdICJDZlZjViYjlkLWRkZGEtNDFlOS1hZjg3LTk2MDE3M2UxMTYyZtgCAeACAQ&sid=f984b2f021f44e6d576f13f392f756a4&aid=304142&ucfs=1&arphpl=1&checkin=2025-10-23&checkout=2025-10-24&dest_id=-3414440&dest_type=city&group_adults=2&req_adults=2&no_rooms=1&group_children=0&req_children=0&hpos=23&hapos=23&sr_order=popularity&srpvid=d5b267a0c5c1003e&srepoch=1759416272&all_sr_blocks=1098568701_382723626_2_1_0&highlighted_blocks=1098568701_382723626_2_1_0&matching_block_id=1098568701_382723626_2_1_0&sr_pri_blocks=1098568701_382723626_2_1_0__325620&from=searchresults",
         "MO Hotel Bangkok"
        ],
        [
         "48",
         "https://www.booking.com/hotel/th/adelphi-suites.th.html?label=gen173nr-10CAEoggI46AdIM1gEaN0BiAEBmAEzuAEXyAEM2AED6AEB-AEBiAIBqAIBuAKdnfrGBsACAdICJDZlZjViYjlkLWRkZGEtNDFlOS1hZjg3LTk2MDE3M2UxMTYyZtgCAeACAQ&sid=f984b2f021f44e6d576f13f392f756a4&aid=304142&ucfs=1&arphpl=1&checkin=2025-10-23&checkout=2025-10-24&dest_id=-3414440&dest_type=city&group_adults=2&req_adults=2&no_rooms=1&group_children=0&req_children=0&hpos=24&hapos=24&sr_order=popularity&srpvid=d5b267a0c5c1003e&srepoch=1759416272&all_sr_blocks=2729301_95151022_2_2_0_403840&highlighted_blocks=2729301_95151022_2_2_0_403840&matching_block_id=2729301_95151022_2_2_0_403840&sr_pri_blocks=2729301_95151022_2_2_0_403840_352755&from=searchresults",
         "Adelphi Suites Bangkok"
        ],
        [
         "49",
         "https://www.booking.com/hotel/th/passa.th.html?label=gen173nr-10CAEoggI46AdIM1gEaN0BiAEBmAEzuAEXyAEM2AED6AEB-AEBiAIBqAIBuAKdnfrGBsACAdICJDZlZjViYjlkLWRkZGEtNDFlOS1hZjg3LTk2MDE3M2UxMTYyZtgCAeACAQ&sid=f984b2f021f44e6d576f13f392f756a4&aid=304142&ucfs=1&arphpl=1&checkin=2025-10-23&checkout=2025-10-24&dest_id=-3414440&dest_type=city&group_adults=2&req_adults=2&no_rooms=1&group_children=0&req_children=0&hpos=25&hapos=25&sr_order=popularity&srpvid=d5b267a0c5c1003e&srepoch=1759416272&all_sr_blocks=796689501_381559366_2_10_0&highlighted_blocks=796689501_381559366_2_10_0&matching_block_id=796689501_381559366_2_10_0&sr_pri_blocks=796689501_381559366_2_10_0__247860&from=searchresults",
         "PASSA Hotel Bangkok"
        ]
       ],
       "shape": {
        "columns": 2,
        "rows": 1625
       }
      },
      "text/html": [
       "<div>\n",
       "<style scoped>\n",
       "    .dataframe tbody tr th:only-of-type {\n",
       "        vertical-align: middle;\n",
       "    }\n",
       "\n",
       "    .dataframe tbody tr th {\n",
       "        vertical-align: top;\n",
       "    }\n",
       "\n",
       "    .dataframe thead th {\n",
       "        text-align: right;\n",
       "    }\n",
       "</style>\n",
       "<table border=\"1\" class=\"dataframe\">\n",
       "  <thead>\n",
       "    <tr style=\"text-align: right;\">\n",
       "      <th></th>\n",
       "      <th>c17271c4d7 href</th>\n",
       "      <th>b87c397a13</th>\n",
       "    </tr>\n",
       "  </thead>\n",
       "  <tbody>\n",
       "    <tr>\n",
       "      <th>0</th>\n",
       "      <td>https://www.booking.com/hotel/th/somerset-rama...</td>\n",
       "      <td>Somerset Rama 9 Bangkok</td>\n",
       "    </tr>\n",
       "    <tr>\n",
       "      <th>1</th>\n",
       "      <td>https://www.booking.com/hotel/th/thonglor-ekam...</td>\n",
       "      <td>Petch Tower Ekkamai</td>\n",
       "    </tr>\n",
       "    <tr>\n",
       "      <th>2</th>\n",
       "      <td>https://www.booking.com/hotel/th/thee.th.html?...</td>\n",
       "      <td>THEE Bangkok by TH District \"newly renovated\"</td>\n",
       "    </tr>\n",
       "    <tr>\n",
       "      <th>3</th>\n",
       "      <td>https://www.booking.com/hotel/th/the-mustang-b...</td>\n",
       "      <td>The Mustang Blu</td>\n",
       "    </tr>\n",
       "    <tr>\n",
       "      <th>4</th>\n",
       "      <td>https://www.booking.com/hotel/th/public-house....</td>\n",
       "      <td>Public House Bangkok, a Member of Design Hotels</td>\n",
       "    </tr>\n",
       "    <tr>\n",
       "      <th>...</th>\n",
       "      <td>...</td>\n",
       "      <td>...</td>\n",
       "    </tr>\n",
       "    <tr>\n",
       "      <th>1620</th>\n",
       "      <td>https://www.booking.com/hotel/th/banthat-thong...</td>\n",
       "      <td>บรรทัดทองโฮสเทล</td>\n",
       "    </tr>\n",
       "    <tr>\n",
       "      <th>1621</th>\n",
       "      <td>https://www.booking.com/hotel/th/vaeh-viean-ho...</td>\n",
       "      <td>Vaeh Viean Silom</td>\n",
       "    </tr>\n",
       "    <tr>\n",
       "      <th>1622</th>\n",
       "      <td>https://www.booking.com/hotel/th/paradiso-bout...</td>\n",
       "      <td>พาราดิโซบูติคสวีท</td>\n",
       "    </tr>\n",
       "    <tr>\n",
       "      <th>1623</th>\n",
       "      <td>https://www.booking.com/hotel/th/silom-space-h...</td>\n",
       "      <td>Silom Space Hostel</td>\n",
       "    </tr>\n",
       "    <tr>\n",
       "      <th>1624</th>\n",
       "      <td>https://www.booking.com/hotel/th/the-spades-pr...</td>\n",
       "      <td>The Spades Private Residence</td>\n",
       "    </tr>\n",
       "  </tbody>\n",
       "</table>\n",
       "<p>1625 rows × 2 columns</p>\n",
       "</div>"
      ],
      "text/plain": [
       "                                        c17271c4d7 href  \\\n",
       "0     https://www.booking.com/hotel/th/somerset-rama...   \n",
       "1     https://www.booking.com/hotel/th/thonglor-ekam...   \n",
       "2     https://www.booking.com/hotel/th/thee.th.html?...   \n",
       "3     https://www.booking.com/hotel/th/the-mustang-b...   \n",
       "4     https://www.booking.com/hotel/th/public-house....   \n",
       "...                                                 ...   \n",
       "1620  https://www.booking.com/hotel/th/banthat-thong...   \n",
       "1621  https://www.booking.com/hotel/th/vaeh-viean-ho...   \n",
       "1622  https://www.booking.com/hotel/th/paradiso-bout...   \n",
       "1623  https://www.booking.com/hotel/th/silom-space-h...   \n",
       "1624  https://www.booking.com/hotel/th/the-spades-pr...   \n",
       "\n",
       "                                           b87c397a13  \n",
       "0                             Somerset Rama 9 Bangkok  \n",
       "1                                 Petch Tower Ekkamai  \n",
       "2       THEE Bangkok by TH District \"newly renovated\"  \n",
       "3                                     The Mustang Blu  \n",
       "4     Public House Bangkok, a Member of Design Hotels  \n",
       "...                                               ...  \n",
       "1620                                  บรรทัดทองโฮสเทล  \n",
       "1621                                 Vaeh Viean Silom  \n",
       "1622                                พาราดิโซบูติคสวีท  \n",
       "1623                               Silom Space Hostel  \n",
       "1624                     The Spades Private Residence  \n",
       "\n",
       "[1625 rows x 2 columns]"
      ]
     },
     "execution_count": 9,
     "metadata": {},
     "output_type": "execute_result"
    }
   ],
   "source": [
    "pd.read_csv('OTA/booking_com_bkk.csv').iloc[:,[0,2]]"
   ]
  },
  {
   "cell_type": "code",
   "execution_count": 6,
   "id": "5388d828",
   "metadata": {},
   "outputs": [
    {
     "data": {
      "application/vnd.microsoft.datawrangler.viewer.v0+json": {
       "columns": [
        {
         "name": "index",
         "rawType": "int64",
         "type": "integer"
        },
        {
         "name": "PropertyCard__Link href",
         "rawType": "object",
         "type": "string"
        },
        {
         "name": "sc-eCssSg src",
         "rawType": "object",
         "type": "unknown"
        },
        {
         "name": "sc-eCssSg src 2",
         "rawType": "object",
         "type": "unknown"
        },
        {
         "name": "sc-eCssSg src 3",
         "rawType": "object",
         "type": "unknown"
        },
        {
         "name": "sc-eCssSg src 4",
         "rawType": "object",
         "type": "unknown"
        },
        {
         "name": "sc-eCssSg src 5",
         "rawType": "object",
         "type": "unknown"
        },
        {
         "name": "sc-eCssSg src 6",
         "rawType": "object",
         "type": "unknown"
        },
        {
         "name": "sc-eCssSg src 7",
         "rawType": "object",
         "type": "unknown"
        },
        {
         "name": "sc-eCssSg src 8",
         "rawType": "object",
         "type": "unknown"
        },
        {
         "name": "sc-eCssSg src 9",
         "rawType": "object",
         "type": "unknown"
        },
        {
         "name": "sc-eCssSg src 10",
         "rawType": "object",
         "type": "unknown"
        },
        {
         "name": "sc-gsTCUz href",
         "rawType": "object",
         "type": "unknown"
        },
        {
         "name": "sc-dlfnbm",
         "rawType": "object",
         "type": "unknown"
        },
        {
         "name": "Typographystyled__TypographyStyled-sc-j18mtu-0",
         "rawType": "object",
         "type": "string"
        },
        {
         "name": "sc-gsTCUz href 3",
         "rawType": "object",
         "type": "unknown"
        },
        {
         "name": "sc-dlfnbm 2",
         "rawType": "object",
         "type": "unknown"
        },
        {
         "name": "ScreenReaderOnly__ScreenReaderOnlyStyled-sc-szxtre-0",
         "rawType": "object",
         "type": "unknown"
        },
        {
         "name": "sc-gsTCUz href 4",
         "rawType": "object",
         "type": "unknown"
        },
        {
         "name": "sc-gsTCUz href 5",
         "rawType": "object",
         "type": "unknown"
        },
        {
         "name": "sc-gsTCUz href 6",
         "rawType": "object",
         "type": "unknown"
        },
        {
         "name": "ScreenReaderOnly__ScreenReaderOnlyStyled-sc-szxtre-0 2",
         "rawType": "object",
         "type": "unknown"
        },
        {
         "name": "sc-dlfnbm 3",
         "rawType": "object",
         "type": "unknown"
        },
        {
         "name": "sc-dlfnbm 4",
         "rawType": "object",
         "type": "unknown"
        },
        {
         "name": "sc-dlfnbm 5",
         "rawType": "object",
         "type": "unknown"
        },
        {
         "name": "sc-gsTCUz href 7",
         "rawType": "object",
         "type": "unknown"
        },
        {
         "name": "ScreenReaderOnly__ScreenReaderOnlyStyled-sc-szxtre-0 3",
         "rawType": "object",
         "type": "unknown"
        },
        {
         "name": "sc-dlfnbm 6",
         "rawType": "object",
         "type": "unknown"
        },
        {
         "name": "sc-dlfnbm 7",
         "rawType": "object",
         "type": "unknown"
        },
        {
         "name": "sc-dlfnbm 8",
         "rawType": "object",
         "type": "unknown"
        },
        {
         "name": "sc-dlfnbm 9",
         "rawType": "object",
         "type": "unknown"
        },
        {
         "name": "sc-dlfnbm 10",
         "rawType": "object",
         "type": "unknown"
        },
        {
         "name": "sc-dlfnbm 11",
         "rawType": "object",
         "type": "unknown"
        },
        {
         "name": "ScreenReaderOnly__ScreenReaderOnlyStyled-sc-szxtre-0 4",
         "rawType": "object",
         "type": "unknown"
        },
        {
         "name": "sc-dlfnbm 12",
         "rawType": "object",
         "type": "unknown"
        },
        {
         "name": "sc-dlfnbm 13",
         "rawType": "object",
         "type": "unknown"
        },
        {
         "name": "sc-dlfnbm 14",
         "rawType": "object",
         "type": "unknown"
        },
        {
         "name": "demographics-unavailable-description",
         "rawType": "object",
         "type": "unknown"
        },
        {
         "name": "Spanstyled__SpanStyled-sc-16tp9kb-0",
         "rawType": "object",
         "type": "unknown"
        },
        {
         "name": "Box-sc-kv6pi1-0",
         "rawType": "object",
         "type": "unknown"
        },
        {
         "name": "sc-gsTCUz href 9",
         "rawType": "object",
         "type": "unknown"
        },
        {
         "name": "sc-dlfnbm 15",
         "rawType": "object",
         "type": "unknown"
        },
        {
         "name": "sc-dlfnbm 16",
         "rawType": "object",
         "type": "unknown"
        },
        {
         "name": "sc-dlfnbm 17",
         "rawType": "object",
         "type": "unknown"
        },
        {
         "name": "sc-dlfnbm 18",
         "rawType": "object",
         "type": "unknown"
        },
        {
         "name": "sc-dlfnbm 19",
         "rawType": "object",
         "type": "unknown"
        },
        {
         "name": "ScreenReaderOnly__ScreenReaderOnlyStyled-sc-szxtre-0 5",
         "rawType": "object",
         "type": "unknown"
        },
        {
         "name": "sc-dlfnbm 20",
         "rawType": "object",
         "type": "unknown"
        },
        {
         "name": "sc-dlfnbm 21",
         "rawType": "object",
         "type": "unknown"
        },
        {
         "name": "sc-dlfnbm 22",
         "rawType": "object",
         "type": "unknown"
        },
        {
         "name": "sc-dlfnbm 23",
         "rawType": "object",
         "type": "unknown"
        },
        {
         "name": "sc-dlfnbm 26",
         "rawType": "object",
         "type": "unknown"
        },
        {
         "name": "sc-dlfnbm 28",
         "rawType": "object",
         "type": "unknown"
        },
        {
         "name": "sc-dlfnbm 29",
         "rawType": "object",
         "type": "unknown"
        },
        {
         "name": "ScreenReaderOnly__ScreenReaderOnlyStyled-sc-szxtre-0 6",
         "rawType": "object",
         "type": "unknown"
        },
        {
         "name": "sc-dlfnbm 30",
         "rawType": "object",
         "type": "unknown"
        },
        {
         "name": "sc-dlfnbm 31",
         "rawType": "object",
         "type": "unknown"
        },
        {
         "name": "sc-dlfnbm 32",
         "rawType": "object",
         "type": "unknown"
        },
        {
         "name": "sc-dlfnbm 33",
         "rawType": "object",
         "type": "unknown"
        },
        {
         "name": "ScreenReaderOnly__ScreenReaderOnlyStyled-sc-szxtre-0 8",
         "rawType": "object",
         "type": "unknown"
        },
        {
         "name": "Spanstyled__SpanStyled-sc-16tp9kb-0 2",
         "rawType": "object",
         "type": "unknown"
        },
        {
         "name": "PropertyCardPrice__Currency",
         "rawType": "object",
         "type": "unknown"
        },
        {
         "name": "PropertyCardPrice__Value",
         "rawType": "object",
         "type": "unknown"
        },
        {
         "name": "sc-dlfnbm 34",
         "rawType": "object",
         "type": "unknown"
        },
        {
         "name": "sc-gsTCUz href 12",
         "rawType": "object",
         "type": "unknown"
        },
        {
         "name": "ScreenReaderOnly__ScreenReaderOnlyStyled-sc-szxtre-0 9",
         "rawType": "object",
         "type": "unknown"
        }
       ],
       "ref": "50050f8b-bcba-486f-a0ab-a387e137cde5",
       "rows": [
        [
         "0",
         "https://www.agoda.com/th-th/lub-d-bangkok-siam-hostel/hotel/bangkok-th.html?countryId=106&finalPriceView=1&isShowMobileAppPrice=false&cid=1919571&numberOfBedrooms=&familyMode=false&adults=2&children=0&rooms=1&maxRooms=0&checkIn=2025-10-29&isCalendarCallout=false&childAges=&numberOfGuest=0&missingChildAges=false&travellerType=1&showReviewSubmissionEntry=false&currencyCode=THB&isFreeOccSearch=false&los=1&searchrequestid=bda753f7-ed2c-40ad-9b10-5456e2395ec6",
         "https://pix8.agoda.net/hotelImages/230759/-1/63ca185df380116217ed4dbd22c44e68.jpg?ce=0",
         "https://pix8.agoda.net/hotelImages/230759/0/1f50b1c587451cfbe510c5815bffbfdc.jpg?ce=2",
         "https://q-xx.bstatic.com/xdata/images/hotel/max500/342648168.jpg?k=4acbf478ea03bd853783e2729e8f94636e4f4032378e4561cfbf76ddb9c90d6b",
         "https://pix8.agoda.net/property/76990112/0/ae8b6d60d5cac6c95a960404e21b5e7b.jpeg?ce=2",
         "https://q-xx.bstatic.com/xdata/images/hotel/max500/636813973.jpg?k=ff824972a8f0e8908c9534525a32b77ddb74037d25ce2f344e6ae62239c072a6",
         "https://pix8.agoda.net/property/76990112/0/bda12db9a9affb21e41634a640419425.jpeg?ce=2",
         "https://pix8.agoda.net/hotelImages/230759/0/5da2339bd520d09d41f480fa8b2db03d.jpg?ce=0",
         "https://pix8.agoda.net/hotelImages/230759/1219041408/52dc12e21ea5fa9924250758cfe6c34e.jpg?ce=2",
         "https://pix8.agoda.net/property/76990112/0/8e094007dbb8488c594b502aa082ae01.jpeg?ce=2",
         "https://pix8.agoda.net/hotelImages/230759/0/dbafb5fbb46fbe5869708e3bbf0b15c3.jpg?ce=2",
         "[object Object]",
         "1/10",
         "ลบออกจากรายการที่พักถูกใจแล้ว",
         "[object Object]",
         "หลับดี แบงค็อก สยาม (Lub d Bangkok Siam – New Look, Across from MBK & Skytrain Access)",
         "3 ดาวจาก 5 ดาว",
         "[object Object]",
         "[object Object]",
         "[object Object]",
         "tooltip",
         "ระดับดาว",
         "ที่พักเป็นผู้กำหนดระดับดาวเพื่อเป็นแนวทางให้ผู้เข้าพักทราบถึงความสะดวกสบายและสิ่งอำนวยความสะดวกที่คาดว่าน่าจะได้รับ ณ ที่พัก",
         "สยาม, กรุงเทพ - ใจกลางเมือง",
         "[object Object]",
         "tooltip",
         "อยู่ใกล้",
         "•",
         "สถานีรถไฟฟ้าสนามกีฬาแห่งชาติ - ระยะ 0 กม.",
         "•",
         "สถานีรถไฟฟ้าสยาม - ระยะ 0.5 กม.",
         "ได้คะแนนรีวิวสูงจากครอบครัว",
         "คะแนนรีวิว: ดีเยี่ยม - ได้ 8.6 จาก 10 คะแนน จาก 4,747 รีวิว",
         "8.6",
         "ดีเยี่ยม",
         "4,747 รีวิว",
         "ขออภัย ยังไม่มีข้อมูลเกี่ยวกับรีวิว",
         "เพิ่งมีคนจองห้องสุดท้ายของเรา",
         "฿ 1,818",
         null,
         null,
         null,
         null,
         null,
         null,
         null,
         null,
         null,
         null,
         null,
         null,
         null,
         null,
         null,
         null,
         null,
         null,
         null,
         null,
         null,
         null,
         null,
         null,
         null,
         null
        ],
        [
         "1",
         "https://www.agoda.com/th-th/baiyoke-sky-hotel/hotel/bangkok-th.html?countryId=106&finalPriceView=1&isShowMobileAppPrice=false&cid=1919571&numberOfBedrooms=&familyMode=false&adults=2&children=0&rooms=1&maxRooms=0&checkIn=2025-10-29&isCalendarCallout=false&childAges=&numberOfGuest=0&missingChildAges=false&travellerType=1&showReviewSubmissionEntry=false&currencyCode=THB&isFreeOccSearch=false&tspTypes=8&los=1&searchrequestid=bda753f7-ed2c-40ad-9b10-5456e2395ec6",
         "https://pix8.agoda.net/hotelImages/10637/-1/878a9b58ccd19eee41b98d20e388c080.jpg?ca=9&ce=1",
         "https://pix8.agoda.net/hotelImages/10637/-1/58c6a29ea6eb3c71e8819fd29edee04c.jpg?ce=0",
         "https://pix8.agoda.net/hotelImages/10637/-1/429691d2b720832b3ee9a58a6a879d5a.jpg?ce=0",
         "https://pix8.agoda.net/hotelImages/10637/-1/1165aa2d867ccd0633651d764dfb8c15.jpg?ca=9&ce=1",
         "https://pix8.agoda.net/hotelImages/10637/-1/eae970f66751caf511ff0a394e27de56.jpg?ca=9&ce=1",
         "https://pix8.agoda.net/property/77649553/0/563fc0dedae7cd287b1c8dcdcb5503ca.jpeg?ce=2",
         "https://pix8.agoda.net/hotelImages/10637/-1/726894f2f275c649abfe447f426c8ef1.jpg?ce=0",
         "https://q-xx.bstatic.com/xdata/images/hotel/max500/366057448.jpg?k=2a17111582ba937051bb60f778045caa904803df432577c4452fc3af9a338f7b",
         "https://pix8.agoda.net/hotelImages/10637/-1/a7168be31ff920cbf98727be6c5e4e8f.jpg?ca=9&ce=1",
         "https://q-xx.bstatic.com/xdata/images/hotel/max500/249703039.jpg?k=a6728b26fb2c6d744b048dbbab179a4b4e8c5a5b1edf3961ea27d77abc8ce8cd",
         "[object Object]",
         "1/10",
         "ลบออกจากรายการที่พักถูกใจแล้ว",
         "[object Object]",
         "โรงแรมใบหยกสกาย (Baiyoke Sky Hotel)",
         "4 ดาวจาก 5 ดาว",
         "[object Object]",
         "[object Object]",
         "[object Object]",
         "tooltip",
         "ระดับดาว",
         "ที่พักเป็นผู้กำหนดระดับดาวเพื่อเป็นแนวทางให้ผู้เข้าพักทราบถึงความสะดวกสบายและสิ่งอำนวยความสะดวกที่คาดว่าน่าจะได้รับ ณ ที่พัก",
         "ประตูน้ำ, กรุงเทพ - ใจกลางเมือง",
         "[object Object]",
         "tooltip",
         "อยู่ใกล้",
         "•",
         "สถานีรถไฟฟ้าแอร์พอร์ต เรล ลิงก์ ราชปรารภ - ระยะ 0.1 กม.",
         "•",
         "สถานีรถไฟฟ้าแอร์พอร์ต เรล ลิงก์ พญาไท - ระยะ 0.6 กม.",
         "ปรับปรุงใหม่",
         "คะแนนรีวิว: ดีเยี่ยม - ได้ 8.0 จาก 10 คะแนน จาก 59,949 รีวิว",
         "8.0",
         "ดีเยี่ยม",
         "59,949 รีวิว",
         "ขออภัย ยังไม่มีข้อมูลเกี่ยวกับรีวิว",
         "ราคาต่อคืน (ก่อนรวมภาษีและค่าธรรมเนียม)",
         "10,379",
         "[object Object]",
         "ที่พักนี้มีบริการ:",
         "อาหารเช้า",
         "ฟิตเนสเซ็นเตอร์",
         "ที่จอดรถ",
         "+1",
         "tooltip",
         "ที่พักนี้มีบริการ:",
         "•",
         "อาหารเช้า",
         "•",
         "ที่จอดรถ",
         "ฟรีอินเทอร์เน็ตไร้สาย (Wi-Fi)",
         "Agoda Preferred",
         "tooltip",
         "ที่พักแนะนำจากอโกด้า คือ ที่พักที่ได้รับความไว้วางใจและเป็นที่ยอมรับ ทั้งยังลงประกาศกับอโกด้ามาอย่างยาวนาน และผ่านเกณฑ์การคัดเลือกของเรา",
         "ลด 70% เหลืออีก 1 ห้อง",
         "ลดจัดเต็ม! จองตอนนี้ ราคาดีสุดๆ",
         "-70%",
         "tooltip",
         "ราคาสูงสุดที่มีคนจองห้องพักประเภทนี้เมื่อปีที่แล้ว",
         "฿",
         "3,095",
         null,
         null,
         null
        ],
        [
         "2",
         "https://www.agoda.com/th-th/chatrium-hotel-riverside-bangkok/hotel/bangkok-th.html?countryId=106&finalPriceView=1&isShowMobileAppPrice=false&cid=1919571&numberOfBedrooms=&familyMode=false&adults=2&children=0&rooms=1&maxRooms=0&checkIn=2025-10-29&isCalendarCallout=false&childAges=&numberOfGuest=0&missingChildAges=false&travellerType=1&showReviewSubmissionEntry=false&currencyCode=THB&isFreeOccSearch=false&los=1&searchrequestid=bda753f7-ed2c-40ad-9b10-5456e2395ec6",
         null,
         null,
         null,
         null,
         null,
         null,
         null,
         null,
         null,
         null,
         null,
         null,
         "HELLO ASIA",
         null,
         null,
         null,
         null,
         null,
         null,
         null,
         null,
         null,
         null,
         null,
         null,
         null,
         null,
         null,
         null,
         null,
         null,
         null,
         null,
         null,
         null,
         null,
         null,
         null,
         null,
         null,
         null,
         null,
         null,
         null,
         null,
         null,
         null,
         null,
         null,
         null,
         null,
         null,
         null,
         null,
         null,
         null,
         null,
         null,
         null,
         null,
         null,
         null,
         null,
         null
        ],
        [
         "3",
         "https://www.agoda.com/th-th/solaria-nishitetsu-hotel-bangkok/hotel/bangkok-th.html?countryId=106&finalPriceView=1&isShowMobileAppPrice=false&cid=1919571&numberOfBedrooms=&familyMode=false&adults=2&children=0&rooms=1&maxRooms=0&checkIn=2025-10-29&isCalendarCallout=false&childAges=&numberOfGuest=0&missingChildAges=false&travellerType=1&showReviewSubmissionEntry=false&currencyCode=THB&isFreeOccSearch=false&tspTypes=8&los=1&searchrequestid=bda753f7-ed2c-40ad-9b10-5456e2395ec6",
         "https://pix8.agoda.net/hotelImages/14654101/-1/cc6225ed62ae0efa303c741cb6272060.jpg?ce=0",
         "https://pix8.agoda.net/hotelImages/14654101/173953020/a70faa15c5d5b18324e0d315f7e2b005.jpg?ce=0",
         "https://q-xx.bstatic.com/xdata/images/hotel/max500/574906161.jpg?k=09e6abdc05dab3aaf134a9469d01d2b3cdb3b84cfa7404700a7ac67e15f67d63",
         "https://pix8.agoda.net/hotelImages/14654101/-1/3cdaadf72911866b34b1a97eae8f92dd.jpg?ce=0",
         "https://pix8.agoda.net/hotelImages/14654101/-1/f10a85e4b645a63b2da0c646c1580356.jpg?ce=0",
         "https://pix8.agoda.net/hotelImages/14654101/-1/e09f83ad12ce043efd67e9ba59b99d61.jpg?ce=0",
         "https://pix8.agoda.net/property/77004904/0/73d428b3ff3740f94247491e13577e0b.jpeg?ce=2",
         "https://pix8.agoda.net/hotelImages/14654101/718007317/14d0d2fb554d9d9be48fded6f7bc68f1.jpg?ce=0",
         "https://q-xx.bstatic.com/xdata/images/hotel/max500/574906182.jpg?k=6bb791f4af84129bc2c09596f8d38615bb1003f5e37c26a5ab354e4f1667fe3a",
         "https://pix8.agoda.net/property/77004904/0/acdf1ebd11ee788b1b098258cd583cf3.jpeg?ce=2",
         "[object Object]",
         "1/10",
         "HELLO ASIA",
         "[object Object]",
         "โรงแรมโซลาเรีย นิชิเท็ตซึ กรุงเทพฯ  (Solaria Nishitetsu Hotel Bangkok)",
         "4 ดาวจาก 5 ดาว",
         "[object Object]",
         "[object Object]",
         "[object Object]",
         "tooltip",
         "ระดับดาว",
         "ที่พักเป็นผู้กำหนดระดับดาวเพื่อเป็นแนวทางให้ผู้เข้าพักทราบถึงความสะดวกสบายและสิ่งอำนวยความสะดวกที่คาดว่าน่าจะได้รับ ณ ที่พัก",
         "สุขุมวิท, กรุงเทพ - ใจกลางเมือง",
         "[object Object]",
         "tooltip",
         "อยู่ใกล้",
         "•",
         "สถานีรถไฟฟ้าอโศก - ระยะ 0 กม.",
         "•",
         "สถานีรถไฟฟ้าใต้ดินสุขุมวิท - ระยะ 0.1 กม.",
         "ที่พัก 4 ดาว รีวิวยอดเยี่ยม",
         "คะแนนรีวิว: ยอดเยี่ยม - ได้ 9.2 จาก 10 คะแนน จาก 14,484 รีวิว",
         "9.2",
         "ยอดเยี่ยม",
         "14,484 รีวิว",
         "ขออภัย ยังไม่มีข้อมูลเกี่ยวกับรีวิว",
         "ราคาต่อคืน (ก่อนรวมภาษีและค่าธรรมเนียม)",
         "9,582",
         "[object Object]",
         "ที่พักนี้มีบริการ:",
         "อาหารเช้า",
         "ฟิตเนสเซ็นเตอร์",
         "ที่จอดรถ",
         "+2",
         "tooltip",
         "ที่พักนี้มีบริการ:",
         "•",
         "อาหารเช้า",
         "•",
         "ที่จอดรถ",
         "ฟรีอินเทอร์เน็ตไร้สาย (Wi-Fi)",
         "ที่พักนี้ได้รับคะแนนรีวิวสูงสุดในบรรดาที่พักประเภทเดียวกัน*",
         "tooltip",
         "รับแคชแบ็กรีวอร์ด: ฿ 112",
         null,
         "ลดจัดเต็ม! จองตอนนี้ ราคาดีสุดๆ",
         "-61%",
         "tooltip",
         "ราคาสูงสุดที่มีคนจองห้องพักประเภทนี้เมื่อปีที่แล้ว",
         "฿",
         "3,847",
         "•",
         "[object Object]",
         "ราคาปกติ: ฿ 3,847"
        ],
        [
         "4",
         "https://www.agoda.com/th-th/amari-watergate-hotel/hotel/bangkok-th.html?countryId=106&finalPriceView=1&isShowMobileAppPrice=false&cid=1919571&numberOfBedrooms=&familyMode=false&adults=2&children=0&rooms=1&maxRooms=0&checkIn=2025-10-29&isCalendarCallout=false&childAges=&numberOfGuest=0&missingChildAges=false&travellerType=1&showReviewSubmissionEntry=false&currencyCode=THB&isFreeOccSearch=false&los=1&searchrequestid=bda753f7-ed2c-40ad-9b10-5456e2395ec6",
         "https://pix8.agoda.net/hotelImages/10632/-1/7d7cf37d2a5bb0abdfada66c9165697f.jpg?ca=29&ce=0",
         "https://pix8.agoda.net/hotelImages/10632/-1/6364d062b09b1c49fa809d83da03d3e5.jpg?ca=15&ce=1",
         "https://pix8.agoda.net/property/10632/0/d9328b88c942782aad945f69c710bcf2.jpeg?ce=0",
         "https://q-xx.bstatic.com/xdata/images/hotel/max500/301237898.jpg?k=c5c033343e702be5976c0bef8e03c5bf8f652e930babae01606b02df4dcfcd08",
         "https://pix8.agoda.net/property/69368850/0/809959e7abd7e6a87f5d4d8522fc6bb5.jpeg?ce=2",
         "https://pix8.agoda.net/hotelImages/10632/-1/50a93c428bb86405d127b0126e84c0b3.jpg?ce=0",
         "https://q-xx.bstatic.com/xdata/images/hotel/max500/301237951.jpg?k=f850be01ee385ce1252bfdf1359ab2339a6c0cf3aad2c0bbf36bb57d7aad597e",
         "https://pix8.agoda.net/hotelImages/10632/-1/30f57ef95df8b6b961ecb8a6a2114cca.jpg?ca=15&ce=1",
         "https://pix8.agoda.net/property/10632/0/41e87a8370f5f3a2dc54dea909bfaf1c.jpeg",
         "https://q-xx.bstatic.com/xdata/images/hotel/max500/12325588.jpg?k=c8c4c550a0603ddc4619c383208ce96d0a659904b6da9082e0ca0b8283e35bf6",
         "[object Object]",
         "1/10",
         "ลบออกจากรายการที่พักถูกใจแล้ว",
         "[object Object]",
         "อมารี กรุงเทพ (Amari Bangkok)",
         "5 ดาวจาก 5 ดาว",
         "[object Object]",
         "[object Object]",
         "[object Object]",
         "tooltip",
         "ระดับดาว",
         "ที่พักเป็นผู้กำหนดระดับดาวเพื่อเป็นแนวทางให้ผู้เข้าพักทราบถึงความสะดวกสบายและสิ่งอำนวยความสะดวกที่คาดว่าน่าจะได้รับ ณ ที่พัก",
         "ประตูน้ำ, กรุงเทพ - ใจกลางเมือง",
         "[object Object]",
         "tooltip",
         "อยู่ใกล้",
         "•",
         "สถานีรถไฟฟ้าแอร์พอร์ต เรล ลิงก์ ราชปรารภ - ระยะ 0.4 กม.",
         "•",
         "สถานีรถไฟฟ้าชิดลม - ระยะ 0.8 กม.",
         null,
         "คะแนนรีวิว: ดีเยี่ยม - ได้ 8.9 จาก 10 คะแนน จาก 22,043 รีวิว",
         "8.9",
         "ดีเยี่ยม",
         "22,043 รีวิว",
         "ขออภัย ยังไม่มีข้อมูลเกี่ยวกับรีวิว",
         "ราคาต่อคืน (ก่อนรวมภาษีและค่าธรรมเนียม)",
         "8,587",
         "[object Object]",
         "ที่พักนี้มีบริการ:",
         "อาหารเช้า",
         "ที่จอดรถ",
         "ฟรีอินเทอร์เน็ตไร้สาย (Wi-Fi)",
         null,
         "tooltip",
         "ที่พักนี้มีบริการ:",
         "•",
         "อาหารเช้า",
         "•",
         "ฟรีอินเทอร์เน็ตไร้สาย (Wi-Fi)",
         null,
         null,
         "tooltip",
         "ที่พักนี้กำลังได้รับความสนใจเป็นอย่างมากจากนักเดินทางที่ค้นหาที่พักคล้ายกับท่าน",
         null,
         null,
         "-58%",
         "tooltip",
         "ราคาสูงสุดที่มีคนจองห้องพักประเภทนี้เมื่อปีที่แล้ว",
         "฿",
         "3,570",
         null,
         null,
         "tooltip"
        ]
       ],
       "shape": {
        "columns": 65,
        "rows": 5
       }
      },
      "text/html": [
       "<div>\n",
       "<style scoped>\n",
       "    .dataframe tbody tr th:only-of-type {\n",
       "        vertical-align: middle;\n",
       "    }\n",
       "\n",
       "    .dataframe tbody tr th {\n",
       "        vertical-align: top;\n",
       "    }\n",
       "\n",
       "    .dataframe thead th {\n",
       "        text-align: right;\n",
       "    }\n",
       "</style>\n",
       "<table border=\"1\" class=\"dataframe\">\n",
       "  <thead>\n",
       "    <tr style=\"text-align: right;\">\n",
       "      <th></th>\n",
       "      <th>PropertyCard__Link href</th>\n",
       "      <th>sc-eCssSg src</th>\n",
       "      <th>sc-eCssSg src 2</th>\n",
       "      <th>sc-eCssSg src 3</th>\n",
       "      <th>sc-eCssSg src 4</th>\n",
       "      <th>sc-eCssSg src 5</th>\n",
       "      <th>sc-eCssSg src 6</th>\n",
       "      <th>sc-eCssSg src 7</th>\n",
       "      <th>sc-eCssSg src 8</th>\n",
       "      <th>sc-eCssSg src 9</th>\n",
       "      <th>...</th>\n",
       "      <th>sc-dlfnbm 31</th>\n",
       "      <th>sc-dlfnbm 32</th>\n",
       "      <th>sc-dlfnbm 33</th>\n",
       "      <th>ScreenReaderOnly__ScreenReaderOnlyStyled-sc-szxtre-0 8</th>\n",
       "      <th>Spanstyled__SpanStyled-sc-16tp9kb-0 2</th>\n",
       "      <th>PropertyCardPrice__Currency</th>\n",
       "      <th>PropertyCardPrice__Value</th>\n",
       "      <th>sc-dlfnbm 34</th>\n",
       "      <th>sc-gsTCUz href 12</th>\n",
       "      <th>ScreenReaderOnly__ScreenReaderOnlyStyled-sc-szxtre-0 9</th>\n",
       "    </tr>\n",
       "  </thead>\n",
       "  <tbody>\n",
       "    <tr>\n",
       "      <th>0</th>\n",
       "      <td>https://www.agoda.com/th-th/lub-d-bangkok-siam...</td>\n",
       "      <td>https://pix8.agoda.net/hotelImages/230759/-1/6...</td>\n",
       "      <td>https://pix8.agoda.net/hotelImages/230759/0/1f...</td>\n",
       "      <td>https://q-xx.bstatic.com/xdata/images/hotel/ma...</td>\n",
       "      <td>https://pix8.agoda.net/property/76990112/0/ae8...</td>\n",
       "      <td>https://q-xx.bstatic.com/xdata/images/hotel/ma...</td>\n",
       "      <td>https://pix8.agoda.net/property/76990112/0/bda...</td>\n",
       "      <td>https://pix8.agoda.net/hotelImages/230759/0/5d...</td>\n",
       "      <td>https://pix8.agoda.net/hotelImages/230759/1219...</td>\n",
       "      <td>https://pix8.agoda.net/property/76990112/0/8e0...</td>\n",
       "      <td>...</td>\n",
       "      <td>NaN</td>\n",
       "      <td>NaN</td>\n",
       "      <td>NaN</td>\n",
       "      <td>NaN</td>\n",
       "      <td>NaN</td>\n",
       "      <td>NaN</td>\n",
       "      <td>NaN</td>\n",
       "      <td>NaN</td>\n",
       "      <td>NaN</td>\n",
       "      <td>NaN</td>\n",
       "    </tr>\n",
       "    <tr>\n",
       "      <th>1</th>\n",
       "      <td>https://www.agoda.com/th-th/baiyoke-sky-hotel/...</td>\n",
       "      <td>https://pix8.agoda.net/hotelImages/10637/-1/87...</td>\n",
       "      <td>https://pix8.agoda.net/hotelImages/10637/-1/58...</td>\n",
       "      <td>https://pix8.agoda.net/hotelImages/10637/-1/42...</td>\n",
       "      <td>https://pix8.agoda.net/hotelImages/10637/-1/11...</td>\n",
       "      <td>https://pix8.agoda.net/hotelImages/10637/-1/ea...</td>\n",
       "      <td>https://pix8.agoda.net/property/77649553/0/563...</td>\n",
       "      <td>https://pix8.agoda.net/hotelImages/10637/-1/72...</td>\n",
       "      <td>https://q-xx.bstatic.com/xdata/images/hotel/ma...</td>\n",
       "      <td>https://pix8.agoda.net/hotelImages/10637/-1/a7...</td>\n",
       "      <td>...</td>\n",
       "      <td>ลด 70% เหลืออีก 1 ห้อง</td>\n",
       "      <td>ลดจัดเต็ม! จองตอนนี้ ราคาดีสุดๆ</td>\n",
       "      <td>-70%</td>\n",
       "      <td>tooltip</td>\n",
       "      <td>ราคาสูงสุดที่มีคนจองห้องพักประเภทนี้เมื่อปีที่...</td>\n",
       "      <td>฿</td>\n",
       "      <td>3,095</td>\n",
       "      <td>NaN</td>\n",
       "      <td>NaN</td>\n",
       "      <td>NaN</td>\n",
       "    </tr>\n",
       "    <tr>\n",
       "      <th>2</th>\n",
       "      <td>https://www.agoda.com/th-th/chatrium-hotel-riv...</td>\n",
       "      <td>NaN</td>\n",
       "      <td>NaN</td>\n",
       "      <td>NaN</td>\n",
       "      <td>NaN</td>\n",
       "      <td>NaN</td>\n",
       "      <td>NaN</td>\n",
       "      <td>NaN</td>\n",
       "      <td>NaN</td>\n",
       "      <td>NaN</td>\n",
       "      <td>...</td>\n",
       "      <td>NaN</td>\n",
       "      <td>NaN</td>\n",
       "      <td>NaN</td>\n",
       "      <td>NaN</td>\n",
       "      <td>NaN</td>\n",
       "      <td>NaN</td>\n",
       "      <td>NaN</td>\n",
       "      <td>NaN</td>\n",
       "      <td>NaN</td>\n",
       "      <td>NaN</td>\n",
       "    </tr>\n",
       "    <tr>\n",
       "      <th>3</th>\n",
       "      <td>https://www.agoda.com/th-th/solaria-nishitetsu...</td>\n",
       "      <td>https://pix8.agoda.net/hotelImages/14654101/-1...</td>\n",
       "      <td>https://pix8.agoda.net/hotelImages/14654101/17...</td>\n",
       "      <td>https://q-xx.bstatic.com/xdata/images/hotel/ma...</td>\n",
       "      <td>https://pix8.agoda.net/hotelImages/14654101/-1...</td>\n",
       "      <td>https://pix8.agoda.net/hotelImages/14654101/-1...</td>\n",
       "      <td>https://pix8.agoda.net/hotelImages/14654101/-1...</td>\n",
       "      <td>https://pix8.agoda.net/property/77004904/0/73d...</td>\n",
       "      <td>https://pix8.agoda.net/hotelImages/14654101/71...</td>\n",
       "      <td>https://q-xx.bstatic.com/xdata/images/hotel/ma...</td>\n",
       "      <td>...</td>\n",
       "      <td>NaN</td>\n",
       "      <td>ลดจัดเต็ม! จองตอนนี้ ราคาดีสุดๆ</td>\n",
       "      <td>-61%</td>\n",
       "      <td>tooltip</td>\n",
       "      <td>ราคาสูงสุดที่มีคนจองห้องพักประเภทนี้เมื่อปีที่...</td>\n",
       "      <td>฿</td>\n",
       "      <td>3,847</td>\n",
       "      <td>•</td>\n",
       "      <td>[object Object]</td>\n",
       "      <td>ราคาปกติ: ฿ 3,847</td>\n",
       "    </tr>\n",
       "    <tr>\n",
       "      <th>4</th>\n",
       "      <td>https://www.agoda.com/th-th/amari-watergate-ho...</td>\n",
       "      <td>https://pix8.agoda.net/hotelImages/10632/-1/7d...</td>\n",
       "      <td>https://pix8.agoda.net/hotelImages/10632/-1/63...</td>\n",
       "      <td>https://pix8.agoda.net/property/10632/0/d9328b...</td>\n",
       "      <td>https://q-xx.bstatic.com/xdata/images/hotel/ma...</td>\n",
       "      <td>https://pix8.agoda.net/property/69368850/0/809...</td>\n",
       "      <td>https://pix8.agoda.net/hotelImages/10632/-1/50...</td>\n",
       "      <td>https://q-xx.bstatic.com/xdata/images/hotel/ma...</td>\n",
       "      <td>https://pix8.agoda.net/hotelImages/10632/-1/30...</td>\n",
       "      <td>https://pix8.agoda.net/property/10632/0/41e87a...</td>\n",
       "      <td>...</td>\n",
       "      <td>NaN</td>\n",
       "      <td>NaN</td>\n",
       "      <td>-58%</td>\n",
       "      <td>tooltip</td>\n",
       "      <td>ราคาสูงสุดที่มีคนจองห้องพักประเภทนี้เมื่อปีที่...</td>\n",
       "      <td>฿</td>\n",
       "      <td>3,570</td>\n",
       "      <td>NaN</td>\n",
       "      <td>NaN</td>\n",
       "      <td>tooltip</td>\n",
       "    </tr>\n",
       "  </tbody>\n",
       "</table>\n",
       "<p>5 rows × 65 columns</p>\n",
       "</div>"
      ],
      "text/plain": [
       "                             PropertyCard__Link href  \\\n",
       "0  https://www.agoda.com/th-th/lub-d-bangkok-siam...   \n",
       "1  https://www.agoda.com/th-th/baiyoke-sky-hotel/...   \n",
       "2  https://www.agoda.com/th-th/chatrium-hotel-riv...   \n",
       "3  https://www.agoda.com/th-th/solaria-nishitetsu...   \n",
       "4  https://www.agoda.com/th-th/amari-watergate-ho...   \n",
       "\n",
       "                                       sc-eCssSg src  \\\n",
       "0  https://pix8.agoda.net/hotelImages/230759/-1/6...   \n",
       "1  https://pix8.agoda.net/hotelImages/10637/-1/87...   \n",
       "2                                                NaN   \n",
       "3  https://pix8.agoda.net/hotelImages/14654101/-1...   \n",
       "4  https://pix8.agoda.net/hotelImages/10632/-1/7d...   \n",
       "\n",
       "                                     sc-eCssSg src 2  \\\n",
       "0  https://pix8.agoda.net/hotelImages/230759/0/1f...   \n",
       "1  https://pix8.agoda.net/hotelImages/10637/-1/58...   \n",
       "2                                                NaN   \n",
       "3  https://pix8.agoda.net/hotelImages/14654101/17...   \n",
       "4  https://pix8.agoda.net/hotelImages/10632/-1/63...   \n",
       "\n",
       "                                     sc-eCssSg src 3  \\\n",
       "0  https://q-xx.bstatic.com/xdata/images/hotel/ma...   \n",
       "1  https://pix8.agoda.net/hotelImages/10637/-1/42...   \n",
       "2                                                NaN   \n",
       "3  https://q-xx.bstatic.com/xdata/images/hotel/ma...   \n",
       "4  https://pix8.agoda.net/property/10632/0/d9328b...   \n",
       "\n",
       "                                     sc-eCssSg src 4  \\\n",
       "0  https://pix8.agoda.net/property/76990112/0/ae8...   \n",
       "1  https://pix8.agoda.net/hotelImages/10637/-1/11...   \n",
       "2                                                NaN   \n",
       "3  https://pix8.agoda.net/hotelImages/14654101/-1...   \n",
       "4  https://q-xx.bstatic.com/xdata/images/hotel/ma...   \n",
       "\n",
       "                                     sc-eCssSg src 5  \\\n",
       "0  https://q-xx.bstatic.com/xdata/images/hotel/ma...   \n",
       "1  https://pix8.agoda.net/hotelImages/10637/-1/ea...   \n",
       "2                                                NaN   \n",
       "3  https://pix8.agoda.net/hotelImages/14654101/-1...   \n",
       "4  https://pix8.agoda.net/property/69368850/0/809...   \n",
       "\n",
       "                                     sc-eCssSg src 6  \\\n",
       "0  https://pix8.agoda.net/property/76990112/0/bda...   \n",
       "1  https://pix8.agoda.net/property/77649553/0/563...   \n",
       "2                                                NaN   \n",
       "3  https://pix8.agoda.net/hotelImages/14654101/-1...   \n",
       "4  https://pix8.agoda.net/hotelImages/10632/-1/50...   \n",
       "\n",
       "                                     sc-eCssSg src 7  \\\n",
       "0  https://pix8.agoda.net/hotelImages/230759/0/5d...   \n",
       "1  https://pix8.agoda.net/hotelImages/10637/-1/72...   \n",
       "2                                                NaN   \n",
       "3  https://pix8.agoda.net/property/77004904/0/73d...   \n",
       "4  https://q-xx.bstatic.com/xdata/images/hotel/ma...   \n",
       "\n",
       "                                     sc-eCssSg src 8  \\\n",
       "0  https://pix8.agoda.net/hotelImages/230759/1219...   \n",
       "1  https://q-xx.bstatic.com/xdata/images/hotel/ma...   \n",
       "2                                                NaN   \n",
       "3  https://pix8.agoda.net/hotelImages/14654101/71...   \n",
       "4  https://pix8.agoda.net/hotelImages/10632/-1/30...   \n",
       "\n",
       "                                     sc-eCssSg src 9  ...  \\\n",
       "0  https://pix8.agoda.net/property/76990112/0/8e0...  ...   \n",
       "1  https://pix8.agoda.net/hotelImages/10637/-1/a7...  ...   \n",
       "2                                                NaN  ...   \n",
       "3  https://q-xx.bstatic.com/xdata/images/hotel/ma...  ...   \n",
       "4  https://pix8.agoda.net/property/10632/0/41e87a...  ...   \n",
       "\n",
       "             sc-dlfnbm 31                     sc-dlfnbm 32 sc-dlfnbm 33  \\\n",
       "0                     NaN                              NaN          NaN   \n",
       "1  ลด 70% เหลืออีก 1 ห้อง  ลดจัดเต็ม! จองตอนนี้ ราคาดีสุดๆ         -70%   \n",
       "2                     NaN                              NaN          NaN   \n",
       "3                     NaN  ลดจัดเต็ม! จองตอนนี้ ราคาดีสุดๆ         -61%   \n",
       "4                     NaN                              NaN         -58%   \n",
       "\n",
       "  ScreenReaderOnly__ScreenReaderOnlyStyled-sc-szxtre-0 8  \\\n",
       "0                                                NaN       \n",
       "1                                            tooltip       \n",
       "2                                                NaN       \n",
       "3                                            tooltip       \n",
       "4                                            tooltip       \n",
       "\n",
       "               Spanstyled__SpanStyled-sc-16tp9kb-0 2  \\\n",
       "0                                                NaN   \n",
       "1  ราคาสูงสุดที่มีคนจองห้องพักประเภทนี้เมื่อปีที่...   \n",
       "2                                                NaN   \n",
       "3  ราคาสูงสุดที่มีคนจองห้องพักประเภทนี้เมื่อปีที่...   \n",
       "4  ราคาสูงสุดที่มีคนจองห้องพักประเภทนี้เมื่อปีที่...   \n",
       "\n",
       "  PropertyCardPrice__Currency PropertyCardPrice__Value sc-dlfnbm 34  \\\n",
       "0                         NaN                      NaN          NaN   \n",
       "1                           ฿                    3,095          NaN   \n",
       "2                         NaN                      NaN          NaN   \n",
       "3                           ฿                    3,847            •   \n",
       "4                           ฿                    3,570          NaN   \n",
       "\n",
       "  sc-gsTCUz href 12 ScreenReaderOnly__ScreenReaderOnlyStyled-sc-szxtre-0 9  \n",
       "0               NaN                                                NaN      \n",
       "1               NaN                                                NaN      \n",
       "2               NaN                                                NaN      \n",
       "3   [object Object]                                  ราคาปกติ: ฿ 3,847      \n",
       "4               NaN                                            tooltip      \n",
       "\n",
       "[5 rows x 65 columns]"
      ]
     },
     "execution_count": 6,
     "metadata": {},
     "output_type": "execute_result"
    }
   ],
   "source": [
    "agoda = pd.read_csv('OTA/agoda.csv')\n",
    "agoda.head()"
   ]
  },
  {
   "cell_type": "code",
   "execution_count": null,
   "id": "8d09f8fa",
   "metadata": {},
   "outputs": [],
   "source": []
  },
  {
   "cell_type": "code",
   "execution_count": null,
   "id": "7190aa64",
   "metadata": {},
   "outputs": [],
   "source": []
  },
  {
   "cell_type": "code",
   "execution_count": 18,
   "id": "7a74457e",
   "metadata": {},
   "outputs": [
    {
     "name": "stderr",
     "output_type": "stream",
     "text": [
      "Fetching hotel addresses: 100%|██████████| 1625/1625 [16:26<00:00,  1.65it/s]"
     ]
    },
    {
     "name": "stdout",
     "output_type": "stream",
     "text": [
      "Saved -> OTA/booking_com_bkk_with_addr.csv\n"
     ]
    },
    {
     "name": "stderr",
     "output_type": "stream",
     "text": [
      "\n"
     ]
    }
   ],
   "source": [
    "# -*- coding: utf-8 -*-\n",
    "import re, json, time, random\n",
    "import pandas as pd\n",
    "import requests\n",
    "from bs4 import BeautifulSoup\n",
    "from urllib3.util.retry import Retry\n",
    "from requests.adapters import HTTPAdapter\n",
    "from concurrent.futures import ThreadPoolExecutor, as_completed\n",
    "from tqdm import tqdm\n",
    "\n",
    "# ----------------- I/O -----------------\n",
    "df = pd.read_csv(\"OTA/booking_com_bkk.csv\")\n",
    "booking_com = df.iloc[:, [0, 2]].copy()\n",
    "booking_com.columns = [\"name href\", \"name\"]\n",
    "\n",
    "# ----------------- Config -----------------\n",
    "MAX_WORKERS, TIMEOUT, RETRIES, BACKOFF = 10, 20, 3, 0.6\n",
    "HEADERS = {\n",
    "    \"User-Agent\": \"Mozilla/5.0 (Windows NT 10.0; Win64; x64) AppleWebKit/537.36 (KHTML, like Gecko) Chrome/124.0.0.0 Safari/537.36\",\n",
    "    \"Accept-Language\": \"th-TH,th;q=0.9,en-US;q=0.8,en;q=0.7\",\n",
    "    \"Accept\": \"text/html,application/xhtml+xml,application/xml;q=0.9,*/*;q=0.8\",\n",
    "}\n",
    "\n",
    "def make_session() -> requests.Session:\n",
    "    s = requests.Session()\n",
    "    retry = Retry(total=RETRIES, backoff_factor=BACKOFF,\n",
    "                  status_forcelist=(429,500,502,503,504),\n",
    "                  allowed_methods=[\"GET\",\"HEAD\",\"OPTIONS\"], raise_on_status=False)\n",
    "    adapter = HTTPAdapter(max_retries=retry, pool_connections=MAX_WORKERS, pool_maxsize=MAX_WORKERS)\n",
    "    s.mount(\"http://\", adapter); s.mount(\"https://\", adapter); s.headers.update(HEADERS)\n",
    "    return s\n",
    "\n",
    "def clean(s: str | None) -> str | None:\n",
    "    return re.sub(r\"\\s+\", \" \", s).strip() if s else None\n",
    "\n",
    "def parse_address(html: str) -> str | None:\n",
    "    soup = BeautifulSoup(html, \"html.parser\")\n",
    "    # ตัดของที่ไม่ใช่เนื้อหา\n",
    "    for bad in soup.select('[aria-hidden=\"true\"],[hidden],script,style,noscript'):\n",
    "        bad.decompose()\n",
    "\n",
    "    # 1) JSON-LD (แม่นสุด)\n",
    "    for tag in soup.select('script[type=\"application/ld+json\"]'):\n",
    "        try:\n",
    "            data = json.loads(tag.string or \"\")\n",
    "            objs = data if isinstance(data, list) else [data]\n",
    "            for o in objs:\n",
    "                a = o.get(\"address\") if isinstance(o, dict) else None\n",
    "                if isinstance(a, dict):\n",
    "                    parts = [a.get(\"streetAddress\"), a.get(\"addressLocality\"), a.get(\"addressRegion\"), a.get(\"postalCode\")]\n",
    "                    country = a.get(\"addressCountry\"); \n",
    "                    if isinstance(country, dict): country = country.get(\"name\") or country.get(\"@id\")\n",
    "                    if country: parts.append(country)\n",
    "                    txt = clean(\", \".join([str(x) for x in parts if x]))\n",
    "                    if txt: return txt\n",
    "        except Exception:\n",
    "            pass\n",
    "\n",
    "    # 2) ตาม DOM ที่แนบ: container -> inner address div\n",
    "    inner = soup.select_one('div.ca9d921c46.a21cb847ab div.b99b6ef58f.cb4b7a25d9.b06461926f') \\\n",
    "         or soup.select_one('div.ca9d921c46 div[class*=\"b99b6ef58f\"][class*=\"cb4b7a25d9\"]')\n",
    "    if inner:\n",
    "        txt = clean(inner.get_text(\" \", strip=True))\n",
    "        if txt: return txt\n",
    "\n",
    "    # 3) ฟอลแบ็กทั่วไป\n",
    "    cand = soup.select_one('[data-testid=\"address\"], .hp_address_subtitle, span[data-node_tt_id*=\"address\"], address')\n",
    "    if cand:\n",
    "        txt = clean(cand.get_text(\" \", strip=True))\n",
    "        if txt: return txt\n",
    "\n",
    "    # 4) ฟอลแบ็กสุดท้าย: หา ZIP 5 หลักแล้วไต่ขึ้น\n",
    "    m = soup.find(string=re.compile(r'\\b\\d{5}\\b'))\n",
    "    node = getattr(m, \"parent\", None)\n",
    "    for _ in range(4):\n",
    "        if not node: break\n",
    "        if hasattr(node, \"get_text\"):\n",
    "            txt = clean(node.get_text(\" \", strip=True))\n",
    "            if txt and \"หลังจากจองห้องพัก\" not in txt:\n",
    "                return clean(re.split(r\"หลังจากจองห้องพัก\", txt)[0])\n",
    "        node = getattr(node, \"parent\", None)\n",
    "    return None\n",
    "\n",
    "def fetch_one(i: int, url: str, session: requests.Session):\n",
    "    try:\n",
    "        time.sleep(random.uniform(0.0, 0.2))\n",
    "        r = session.get(url, timeout=TIMEOUT); r.raise_for_status()\n",
    "        return i, parse_address(r.text), None\n",
    "    except Exception as e:\n",
    "        return i, None, e\n",
    "\n",
    "# ----------------- Run -----------------\n",
    "urls = booking_com[\"name href\"].tolist()\n",
    "session = make_session()\n",
    "addresses, errors = {}, []\n",
    "\n",
    "with ThreadPoolExecutor(max_workers=MAX_WORKERS) as ex:\n",
    "    futures = [ex.submit(fetch_one, i, u, session) for i, u in enumerate(urls)]\n",
    "    for fut in tqdm(as_completed(futures), total=len(futures), desc=\"Fetching hotel addresses\"):\n",
    "        i, addr, err = fut.result()\n",
    "        addresses[i] = addr\n",
    "        if err: errors.append((i, urls[i], err))\n",
    "\n",
    "booking_com[\"address\"] = [addresses.get(i) for i in range(len(urls))]\n",
    "\n",
    "if errors:\n",
    "    print(f\"Errors: {len(errors)} / {len(urls)}\")\n",
    "    for i, u, e in errors[:10]: print(f\"[{i}] {u} -> {e}\")\n",
    "\n",
    "booking_com.to_csv(\"OTA/booking_com_bkk_with_addr.csv\", index=False)\n",
    "print(\"Saved -> OTA/booking_com_bkk_with_addr.csv\")\n"
   ]
  },
  {
   "cell_type": "code",
   "execution_count": 20,
   "id": "1220e655",
   "metadata": {},
   "outputs": [
    {
     "data": {
      "application/vnd.microsoft.datawrangler.viewer.v0+json": {
       "columns": [
        {
         "name": "index",
         "rawType": "int64",
         "type": "integer"
        },
        {
         "name": "name href",
         "rawType": "object",
         "type": "string"
        },
        {
         "name": "name",
         "rawType": "object",
         "type": "string"
        },
        {
         "name": "address",
         "rawType": "object",
         "type": "unknown"
        }
       ],
       "ref": "6e1867a1-d562-4b05-adc5-ea6484e029bb",
       "rows": [
        [
         "0",
         "https://www.booking.com/hotel/th/somerset-rama-ix.th.html?label=gen173nr-10CAEoggI46AdIM1gEaN0BiAEBmAEzuAEXyAEM2AED6AEB-AEBiAIBqAIBuAKdnfrGBsACAdICJDZlZjViYjlkLWRkZGEtNDFlOS1hZjg3LTk2MDE3M2UxMTYyZtgCAeACAQ&sid=f984b2f021f44e6d576f13f392f756a4&aid=304142&ucfs=1&arphpl=1&checkin=2025-10-23&checkout=2025-10-24&dest_id=-3414440&dest_type=city&group_adults=2&req_adults=2&no_rooms=1&group_children=0&req_children=0&hpos=1&hapos=1&sr_order=popularity&srpvid=d5b267a0c5c1003e&srepoch=1759416263&all_sr_blocks=597446711_407774993_2_2_0&highlighted_blocks=597446711_407774993_2_2_0&matching_block_id=597446711_407774993_2_2_0&sr_pri_blocks=597446711_407774993_2_2_0__330100&from_sustainable_property_sr=1&from=searchresults",
         "Somerset Rama 9 Bangkok",
         "22 Ratchadaphisek Road Huai Khwang, Huai Kwang, ห้วยขวาง, 10320 กรุงเทพมหานคร, ไทย"
        ],
        [
         "1",
         "https://www.booking.com/hotel/th/thonglor-ekamai-spacious-1-br-1-bathroom-sofa-bed-kitchen.th.html?label=gen173nr-10CAEoggI46AdIM1gEaN0BiAEBmAEzuAEXyAEM2AED6AEB-AEBiAIBqAIBuAKdnfrGBsACAdICJDZlZjViYjlkLWRkZGEtNDFlOS1hZjg3LTk2MDE3M2UxMTYyZtgCAeACAQ&sid=f984b2f021f44e6d576f13f392f756a4&aid=304142&ucfs=1&arphpl=1&checkin=2025-10-23&checkout=2025-10-24&dest_id=-3414440&dest_type=city&group_adults=2&req_adults=2&no_rooms=1&group_children=0&req_children=0&hpos=2&hapos=2&sr_order=popularity&srpvid=d5b267a0c5c1003e&srepoch=1759416263&all_sr_blocks=1223638203_418531362_0_0_0_887426&highlighted_blocks=1223638203_418531362_0_0_0_887426&matching_block_id=1223638203_418531362_0_0_0_887426&sr_pri_blocks=1223638203_418531362_0_0_0_887426_64260&from=searchresults",
         "Petch Tower Ekkamai",
         null
        ],
        [
         "2",
         "https://www.booking.com/hotel/th/thee.th.html?label=gen173nr-10CAEoggI46AdIM1gEaN0BiAEBmAEzuAEXyAEM2AED6AEB-AEBiAIBqAIBuAKdnfrGBsACAdICJDZlZjViYjlkLWRkZGEtNDFlOS1hZjg3LTk2MDE3M2UxMTYyZtgCAeACAQ&sid=f984b2f021f44e6d576f13f392f756a4&aid=304142&ucfs=1&arphpl=1&checkin=2025-10-23&checkout=2025-10-24&dest_id=-3414440&dest_type=city&group_adults=2&req_adults=2&no_rooms=1&group_children=0&req_children=0&hpos=3&hapos=3&sr_order=popularity&srpvid=d5b267a0c5c1003e&srepoch=1759416263&all_sr_blocks=108069302_129992767_3_1_0_1127716&highlighted_blocks=108069302_129992767_3_1_0_1127716&matching_block_id=108069302_129992767_3_1_0_1127716&sr_pri_blocks=108069302_129992767_3_1_0_1127716_213707&from=searchresults",
         "THEE Bangkok by TH District \"newly renovated\"",
         "9/1 Sukumvit 20, Wattana, คลองเตย, 10110 กรุงเทพมหานคร, ไทย"
        ],
        [
         "3",
         "https://www.booking.com/hotel/th/the-mustang-blu.th.html?label=gen173nr-10CAEoggI46AdIM1gEaN0BiAEBmAEzuAEXyAEM2AED6AEB-AEBiAIBqAIBuAKdnfrGBsACAdICJDZlZjViYjlkLWRkZGEtNDFlOS1hZjg3LTk2MDE3M2UxMTYyZtgCAeACAQ&sid=f984b2f021f44e6d576f13f392f756a4&aid=304142&ucfs=1&arphpl=1&checkin=2025-10-23&checkout=2025-10-24&dest_id=-3414440&dest_type=city&group_adults=2&req_adults=2&no_rooms=1&group_children=0&req_children=0&hpos=4&hapos=4&sr_order=popularity&srpvid=d5b267a0c5c1003e&srepoch=1759416263&all_sr_blocks=603138908_309461470_2_1_0&highlighted_blocks=603138908_309461470_2_1_0&matching_block_id=603138908_309461470_2_1_0&sr_pri_blocks=603138908_309461470_2_1_0__526500&from=searchresults",
         "The Mustang Blu",
         "721 Maitri Chit Road Pom Prap, Pom Prap Sattru Phai, Pom Prap Sattru Phai, 10100 กรุงเทพมหานคร, ไทย"
        ],
        [
         "4",
         "https://www.booking.com/hotel/th/public-house.th.html?label=gen173nr-10CAEoggI46AdIM1gEaN0BiAEBmAEzuAEXyAEM2AED6AEB-AEBiAIBqAIBuAKdnfrGBsACAdICJDZlZjViYjlkLWRkZGEtNDFlOS1hZjg3LTk2MDE3M2UxMTYyZtgCAeACAQ&sid=f984b2f021f44e6d576f13f392f756a4&aid=304142&ucfs=1&arphpl=1&checkin=2025-10-23&checkout=2025-10-24&dest_id=-3414440&dest_type=city&group_adults=2&req_adults=2&no_rooms=1&group_children=0&req_children=0&hpos=5&hapos=5&sr_order=popularity&srpvid=d5b267a0c5c1003e&srepoch=1759416263&all_sr_blocks=938412210_366106501_2_2_0&highlighted_blocks=938412210_366106501_2_2_0&matching_block_id=938412210_366106501_2_2_0&sr_pri_blocks=938412210_366106501_2_2_0__387018&from=searchresults",
         "Public House Bangkok, a Member of Design Hotels",
         "249 Soi Sukhumvit 31, Khlong Tan Nuea, Watthana, Bangkok 10110, วัฒนา, 10110 กรุงเทพมหานคร, ไทย"
        ],
        [
         "5",
         "https://www.booking.com/hotel/th/vince-hotel.th.html?label=gen173nr-10CAEoggI46AdIM1gEaN0BiAEBmAEzuAEXyAEM2AED6AEB-AEBiAIBqAIBuAKdnfrGBsACAdICJDZlZjViYjlkLWRkZGEtNDFlOS1hZjg3LTk2MDE3M2UxMTYyZtgCAeACAQ&sid=f984b2f021f44e6d576f13f392f756a4&aid=304142&ucfs=1&arphpl=1&checkin=2025-10-23&checkout=2025-10-24&dest_id=-3414440&dest_type=city&group_adults=2&req_adults=2&no_rooms=1&group_children=0&req_children=0&hpos=6&hapos=6&sr_order=popularity&srpvid=d5b267a0c5c1003e&srepoch=1759416263&all_sr_blocks=141195004_89637093_2_1_0_389612&highlighted_blocks=141195004_89637093_2_1_0_389612&matching_block_id=141195004_89637093_2_1_0_389612&sr_pri_blocks=141195004_89637093_2_1_0_389612_238140&from=searchresults",
         "Vince Hotel Pratunam",
         null
        ],
        [
         "6",
         "https://www.booking.com/hotel/th/chatrium-grand-bangkok.th.html?label=gen173nr-10CAEoggI46AdIM1gEaN0BiAEBmAEzuAEXyAEM2AED6AEB-AEBiAIBqAIBuAKdnfrGBsACAdICJDZlZjViYjlkLWRkZGEtNDFlOS1hZjg3LTk2MDE3M2UxMTYyZtgCAeACAQ&sid=f984b2f021f44e6d576f13f392f756a4&aid=304142&ucfs=1&arphpl=1&checkin=2025-10-23&checkout=2025-10-24&dest_id=-3414440&dest_type=city&group_adults=2&req_adults=2&no_rooms=1&group_children=0&req_children=0&hpos=7&hapos=7&sr_order=popularity&srpvid=d5b267a0c5c1003e&srepoch=1759416263&all_sr_blocks=901611111_360977710_2_1_0_148530&highlighted_blocks=901611111_360977710_2_1_0_148530&matching_block_id=901611111_360977710_2_1_0_148530&sr_pri_blocks=901611111_360977710_2_1_0_148530_921213&from=searchresults",
         "โรงแรมชาเทรียม แกรนด์ กรุงเทพฯ",
         null
        ],
        [
         "7",
         "https://www.booking.com/hotel/th/beanstalk-bangkok.th.html?label=gen173nr-10CAEoggI46AdIM1gEaN0BiAEBmAEzuAEXyAEM2AED6AEB-AEBiAIBqAIBuAKdnfrGBsACAdICJDZlZjViYjlkLWRkZGEtNDFlOS1hZjg3LTk2MDE3M2UxMTYyZtgCAeACAQ&sid=f984b2f021f44e6d576f13f392f756a4&aid=304142&ucfs=1&arphpl=1&checkin=2025-10-23&checkout=2025-10-24&dest_id=-3414440&dest_type=city&group_adults=2&req_adults=2&no_rooms=1&group_children=0&req_children=0&hpos=8&hapos=8&sr_order=popularity&srpvid=d5b267a0c5c1003e&srepoch=1759416263&all_sr_blocks=729626904_325502961_2_2_0&highlighted_blocks=729626904_325502961_2_2_0&matching_block_id=729626904_325502961_2_2_0&sr_pri_blocks=729626904_325502961_2_2_0__116041&from=searchresults",
         "Beanstalk Bangkok",
         null
        ],
        [
         "8",
         "https://www.booking.com/hotel/th/the-standard-bangkok-mahanakhon.th.html?label=gen173nr-10CAEoggI46AdIM1gEaN0BiAEBmAEzuAEXyAEM2AED6AEB-AEBiAIBqAIBuAKdnfrGBsACAdICJDZlZjViYjlkLWRkZGEtNDFlOS1hZjg3LTk2MDE3M2UxMTYyZtgCAeACAQ&sid=f984b2f021f44e6d576f13f392f756a4&aid=304142&ucfs=1&arphpl=1&checkin=2025-10-23&checkout=2025-10-24&dest_id=-3414440&dest_type=city&group_adults=2&req_adults=2&no_rooms=1&group_children=0&req_children=0&hpos=9&hapos=9&sr_order=popularity&srpvid=d5b267a0c5c1003e&srepoch=1759416263&all_sr_blocks=810038712_343183919_2_1_0&highlighted_blocks=810038712_343183919_2_1_0&matching_block_id=810038712_343183919_2_1_0&sr_pri_blocks=810038712_343183919_2_1_0__716400&from=searchresults",
         "The Standard, Bangkok Mahanakhon",
         null
        ],
        [
         "9",
         "https://www.booking.com/hotel/th/nysa-bangkok-bangkok.th.html?label=gen173nr-10CAEoggI46AdIM1gEaN0BiAEBmAEzuAEXyAEM2AED6AEB-AEBiAIBqAIBuAKdnfrGBsACAdICJDZlZjViYjlkLWRkZGEtNDFlOS1hZjg3LTk2MDE3M2UxMTYyZtgCAeACAQ&sid=f984b2f021f44e6d576f13f392f756a4&aid=304142&ucfs=1&arphpl=1&checkin=2025-10-23&checkout=2025-10-24&dest_id=-3414440&dest_type=city&group_adults=2&req_adults=2&no_rooms=1&group_children=0&req_children=0&hpos=10&hapos=10&sr_order=popularity&srpvid=d5b267a0c5c1003e&srepoch=1759416263&all_sr_blocks=1119286801_415969265_2_2_0_769785&highlighted_blocks=1119286801_415969265_2_2_0_769785&matching_block_id=1119286801_415969265_2_2_0_769785&sr_pri_blocks=1119286801_415969265_2_2_0_769785_320760&from=searchresults",
         "Nysa Hotel Bangkok Sukhumvit 11",
         "73/7-8 Sukhumvit 13, Klongtoey-Nua, Wattana, วัฒนา, 10110 กรุงเทพมหานคร, ไทย"
        ],
        [
         "10",
         "https://www.booking.com/hotel/th/sivatel-bangkok.th.html?label=gen173nr-10CAEoggI46AdIM1gEaN0BiAEBmAEzuAEXyAEM2AED6AEB-AEBiAIBqAIBuAKdnfrGBsACAdICJDZlZjViYjlkLWRkZGEtNDFlOS1hZjg3LTk2MDE3M2UxMTYyZtgCAeACAQ&sid=f984b2f021f44e6d576f13f392f756a4&aid=304142&ucfs=1&arphpl=1&checkin=2025-10-23&checkout=2025-10-24&dest_id=-3414440&dest_type=city&group_adults=2&req_adults=2&no_rooms=1&group_children=0&req_children=0&hpos=11&hapos=11&sr_order=popularity&srpvid=d5b267a0c5c1003e&srepoch=1759416263&all_sr_blocks=26418826_88875110_0_41_0_84576&highlighted_blocks=26418826_88875110_0_41_0_84576&matching_block_id=26418826_88875110_0_41_0_84576&sr_pri_blocks=26418826_88875110_0_41_0_84576_580229&from=searchresults",
         "โรงแรมศิวาเทล กรุงเทพ",
         null
        ],
        [
         "11",
         "https://www.booking.com/hotel/th/valiahotelbangkok.th.html?label=gen173nr-10CAEoggI46AdIM1gEaN0BiAEBmAEzuAEXyAEM2AED6AEB-AEBiAIBqAIBuAKdnfrGBsACAdICJDZlZjViYjlkLWRkZGEtNDFlOS1hZjg3LTk2MDE3M2UxMTYyZtgCAeACAQ&sid=f984b2f021f44e6d576f13f392f756a4&aid=304142&ucfs=1&arphpl=1&checkin=2025-10-23&checkout=2025-10-24&dest_id=-3414440&dest_type=city&group_adults=2&req_adults=2&no_rooms=1&group_children=0&req_children=0&hpos=12&hapos=12&sr_order=popularity&srpvid=d5b267a0c5c1003e&srepoch=1759416263&all_sr_blocks=2715215_380137323_2_2_0_1154075&highlighted_blocks=2715215_380137323_2_2_0_1154075&matching_block_id=2715215_380137323_2_2_0_1154075&sr_pri_blocks=2715215_380137323_2_2_0_1154075_256174&from=searchresults",
         "โรงแรมวาลีอา (Valia Hotel Bangkok)",
         null
        ],
        [
         "12",
         "https://www.booking.com/hotel/th/radisson-suites-bangkok-sukhumvit.th.html?label=gen173nr-10CAEoggI46AdIM1gEaN0BiAEBmAEzuAEXyAEM2AED6AEB-AEBiAIBqAIBuAKdnfrGBsACAdICJDZlZjViYjlkLWRkZGEtNDFlOS1hZjg3LTk2MDE3M2UxMTYyZtgCAeACAQ&sid=f984b2f021f44e6d576f13f392f756a4&aid=304142&ucfs=1&arphpl=1&checkin=2025-10-23&checkout=2025-10-24&dest_id=-3414440&dest_type=city&group_adults=2&req_adults=2&no_rooms=1&group_children=0&req_children=0&hpos=13&hapos=13&sr_order=popularity&srpvid=d5b267a0c5c1003e&srepoch=1759416263&all_sr_blocks=29018212_94396708_2_2_0&highlighted_blocks=29018212_94396708_2_2_0&matching_block_id=29018212_94396708_2_2_0&sr_pri_blocks=29018212_94396708_2_2_0__268375&from=searchresults",
         "โรงแรม เรดิสัน สวีท แบงค็อก สุขุมวิท",
         null
        ],
        [
         "13",
         "https://www.booking.com/hotel/th/chi-bangkok-sha-extra-plus.th.html?label=gen173nr-10CAEoggI46AdIM1gEaN0BiAEBmAEzuAEXyAEM2AED6AEB-AEBiAIBqAIBuAKdnfrGBsACAdICJDZlZjViYjlkLWRkZGEtNDFlOS1hZjg3LTk2MDE3M2UxMTYyZtgCAeACAQ&sid=f984b2f021f44e6d576f13f392f756a4&aid=304142&ucfs=1&arphpl=1&checkin=2025-10-23&checkout=2025-10-24&dest_id=-3414440&dest_type=city&group_adults=2&req_adults=2&no_rooms=1&group_children=0&req_children=0&hpos=14&hapos=14&sr_order=popularity&srpvid=d5b267a0c5c1003e&srepoch=1759416263&all_sr_blocks=817874208_344348442_2_2_0_146142&highlighted_blocks=817874208_344348442_2_2_0_146142&matching_block_id=817874208_344348442_2_2_0_146142&sr_pri_blocks=817874208_344348442_2_2_0_146142_176235&from=searchresults",
         "The Fig Lobby Bangkok",
         null
        ],
        [
         "14",
         "https://www.booking.com/hotel/th/tha.th.html?label=gen173nr-10CAEoggI46AdIM1gEaN0BiAEBmAEzuAEXyAEM2AED6AEB-AEBiAIBqAIBuAKdnfrGBsACAdICJDZlZjViYjlkLWRkZGEtNDFlOS1hZjg3LTk2MDE3M2UxMTYyZtgCAeACAQ&sid=f984b2f021f44e6d576f13f392f756a4&aid=304142&ucfs=1&arphpl=1&checkin=2025-10-23&checkout=2025-10-24&dest_id=-3414440&dest_type=city&group_adults=2&req_adults=2&no_rooms=1&group_children=0&req_children=0&hpos=15&hapos=15&sr_order=popularity&srpvid=d5b267a0c5c1003e&srepoch=1759416263&all_sr_blocks=143448402_96206069_2_0_0_1123198&highlighted_blocks=143448402_96206069_2_0_0_1123198&matching_block_id=143448402_96206069_2_0_0_1123198&sr_pri_blocks=143448402_96206069_2_0_0_1123198_143699&from=searchresults",
         "THA City Loft by TH District",
         null
        ],
        [
         "15",
         "https://www.booking.com/hotel/th/chatrium-suites-bangkok-a-dusit-thani-hotels-partner.th.html?label=gen173nr-10CAEoggI46AdIM1gEaN0BiAEBmAEzuAEXyAEM2AED6AEB-AEBiAIBqAIBuAKdnfrGBsACAdICJDZlZjViYjlkLWRkZGEtNDFlOS1hZjg3LTk2MDE3M2UxMTYyZtgCAeACAQ&sid=f984b2f021f44e6d576f13f392f756a4&aid=304142&ucfs=1&arphpl=1&checkin=2025-10-23&checkout=2025-10-24&dest_id=-3414440&dest_type=city&group_adults=2&req_adults=2&no_rooms=1&group_children=0&req_children=0&hpos=16&hapos=16&sr_order=popularity&srpvid=d5b267a0c5c1003e&srepoch=1759416263&all_sr_blocks=4425913_88871377_2_1_0_47674&highlighted_blocks=4425913_88871377_2_1_0_47674&matching_block_id=4425913_88871377_2_1_0_47674&sr_pri_blocks=4425913_88871377_2_1_0_47674_583200&from=searchresults",
         "โรงแรมชาเทรียม ริเวอร์ไซด์ กรุงเทพฯ",
         null
        ],
        [
         "16",
         "https://www.booking.com/hotel/th/oakwood-studios-sukhumvit-bangkok.th.html?label=gen173nr-10CAEoggI46AdIM1gEaN0BiAEBmAEzuAEXyAEM2AED6AEB-AEBiAIBqAIBuAKdnfrGBsACAdICJDZlZjViYjlkLWRkZGEtNDFlOS1hZjg3LTk2MDE3M2UxMTYyZtgCAeACAQ&sid=f984b2f021f44e6d576f13f392f756a4&aid=304142&ucfs=1&arphpl=1&checkin=2025-10-23&checkout=2025-10-24&dest_id=-3414440&dest_type=city&group_adults=2&req_adults=2&no_rooms=1&group_children=0&req_children=0&hpos=17&hapos=17&sr_order=popularity&srpvid=d5b267a0c5c1003e&srepoch=1759416263&all_sr_blocks=860006801_356302651_0_42_0&highlighted_blocks=860006801_356302651_0_42_0&matching_block_id=860006801_356302651_0_42_0&sr_pri_blocks=860006801_356302651_0_42_0__247876&from=searchresults",
         "โรงแรมโอ๊ควู้ด สตูดิโอ สุขุมวิท แบงค็อก",
         null
        ],
        [
         "17",
         "https://www.booking.com/hotel/th/the-ex-capital-bangkok-by-dancenter.th.html?label=gen173nr-10CAEoggI46AdIM1gEaN0BiAEBmAEzuAEXyAEM2AED6AEB-AEBiAIBqAIBuAKdnfrGBsACAdICJDZlZjViYjlkLWRkZGEtNDFlOS1hZjg3LTk2MDE3M2UxMTYyZtgCAeACAQ&sid=f984b2f021f44e6d576f13f392f756a4&aid=304142&ucfs=1&arphpl=1&checkin=2025-10-23&checkout=2025-10-24&dest_id=-3414440&dest_type=city&group_adults=2&req_adults=2&no_rooms=1&group_children=0&req_children=0&hpos=18&hapos=18&sr_order=popularity&srpvid=d5b267a0c5c1003e&srepoch=1759416263&all_sr_blocks=1486340901_420130341_2_0_0&highlighted_blocks=1486340901_420130341_2_0_0&matching_block_id=1486340901_420130341_2_0_0&sr_pri_blocks=1486340901_420130341_2_0_0__122157&from=searchresults",
         "The Ex Capital Hotel Bangkok by Dancenter",
         null
        ],
        [
         "18",
         "https://www.booking.com/hotel/th/akyra-thonglor-bangkok.th.html?label=gen173nr-10CAEoggI46AdIM1gEaN0BiAEBmAEzuAEXyAEM2AED6AEB-AEBiAIBqAIBuAKdnfrGBsACAdICJDZlZjViYjlkLWRkZGEtNDFlOS1hZjg3LTk2MDE3M2UxMTYyZtgCAeACAQ&sid=f984b2f021f44e6d576f13f392f756a4&aid=304142&ucfs=1&arphpl=1&checkin=2025-10-23&checkout=2025-10-24&dest_id=-3414440&dest_type=city&group_adults=2&req_adults=2&no_rooms=1&group_children=0&req_children=0&hpos=19&hapos=19&sr_order=popularity&srpvid=d5b267a0c5c1003e&srepoch=1759416263&all_sr_blocks=28546107_119582871_2_42_0_1116200&highlighted_blocks=28546107_119582871_2_42_0_1116200&matching_block_id=28546107_119582871_2_42_0_1116200&sr_pri_blocks=28546107_119582871_2_42_0_1116200_406899&from=searchresults",
         "MUU Bangkok, Small Luxury Hotels of the World",
         null
        ],
        [
         "19",
         "https://www.booking.com/hotel/th/aphrodite-inn-bangkok.th.html?label=gen173nr-10CAEoggI46AdIM1gEaN0BiAEBmAEzuAEXyAEM2AED6AEB-AEBiAIBqAIBuAKdnfrGBsACAdICJDZlZjViYjlkLWRkZGEtNDFlOS1hZjg3LTk2MDE3M2UxMTYyZtgCAeACAQ&sid=f984b2f021f44e6d576f13f392f756a4&aid=304142&ucfs=1&arphpl=1&checkin=2025-10-23&checkout=2025-10-24&dest_id=-3414440&dest_type=city&group_adults=2&req_adults=2&no_rooms=1&group_children=0&req_children=0&hpos=20&hapos=20&sr_order=popularity&srpvid=d5b267a0c5c1003e&srepoch=1759416263&all_sr_blocks=4362512_89654155_0_1_0&highlighted_blocks=4362512_89654155_0_1_0&matching_block_id=4362512_89654155_0_1_0&sr_pri_blocks=4362512_89654155_0_1_0__245754&from=searchresults",
         "อะโฟรดิเต้ อินน์ กรุงเทพ",
         "59-65 ถนนราชดำริ , ปทุมวัน, 10330 กรุงเทพมหานคร, ไทย"
        ],
        [
         "20",
         "https://www.booking.com/hotel/th/ten-six-hundred-chao-pharya-bangkok-by-preference.th.html?label=gen173nr-10CAEoggI46AdIM1gEaN0BiAEBmAEzuAEXyAEM2AED6AEB-AEBiAIBqAIBuAKdnfrGBsACAdICJDZlZjViYjlkLWRkZGEtNDFlOS1hZjg3LTk2MDE3M2UxMTYyZtgCAeACAQ&sid=f984b2f021f44e6d576f13f392f756a4&aid=304142&ucfs=1&arphpl=1&checkin=2025-10-23&checkout=2025-10-24&dest_id=-3414440&dest_type=city&group_adults=2&req_adults=2&no_rooms=1&group_children=0&req_children=0&hpos=21&hapos=21&sr_order=popularity&srpvid=d5b267a0c5c1003e&srepoch=1759416263&all_sr_blocks=1058830701_378138740_2_2_0&highlighted_blocks=1058830701_378138740_2_2_0&matching_block_id=1058830701_378138740_2_2_0&sr_pri_blocks=1058830701_378138740_2_2_0__390882&from=searchresults",
         "Ten Six Hundred, Chao Phraya, Bangkok by Preference, managed by The Ascott Limited",
         null
        ],
        [
         "21",
         "https://www.booking.com/hotel/th/hua-chang-heritage.th.html?label=gen173nr-10CAEoggI46AdIM1gEaN0BiAEBmAEzuAEXyAEM2AED6AEB-AEBiAIBqAIBuAKdnfrGBsACAdICJDZlZjViYjlkLWRkZGEtNDFlOS1hZjg3LTk2MDE3M2UxMTYyZtgCAeACAQ&sid=f984b2f021f44e6d576f13f392f756a4&aid=304142&ucfs=1&arphpl=1&checkin=2025-10-23&checkout=2025-10-24&dest_id=-3414440&dest_type=city&group_adults=2&req_adults=2&no_rooms=1&group_children=0&req_children=0&hpos=22&hapos=22&sr_order=popularity&srpvid=d5b267a0c5c1003e&srepoch=1759416263&all_sr_blocks=46157001_88883050_2_42_0_271710&highlighted_blocks=46157001_88883050_2_42_0_271710&matching_block_id=46157001_88883050_2_42_0_271710&sr_pri_blocks=46157001_88883050_2_42_0_271710_386771&from=searchresults",
         "Hua Chang Heritage Hotel",
         "400 Phayathai Road, Pathumwan, ปทุมวัน, 10330 กรุงเทพมหานคร, ไทย"
        ],
        [
         "22",
         "https://www.booking.com/hotel/th/mo-bangkok.th.html?label=gen173nr-10CAEoggI46AdIM1gEaN0BiAEBmAEzuAEXyAEM2AED6AEB-AEBiAIBqAIBuAKdnfrGBsACAdICJDZlZjViYjlkLWRkZGEtNDFlOS1hZjg3LTk2MDE3M2UxMTYyZtgCAeACAQ&sid=f984b2f021f44e6d576f13f392f756a4&aid=304142&ucfs=1&arphpl=1&checkin=2025-10-23&checkout=2025-10-24&dest_id=-3414440&dest_type=city&group_adults=2&req_adults=2&no_rooms=1&group_children=0&req_children=0&hpos=23&hapos=23&sr_order=popularity&srpvid=d5b267a0c5c1003e&srepoch=1759416263&all_sr_blocks=1098568701_382723626_2_1_0&highlighted_blocks=1098568701_382723626_2_1_0&matching_block_id=1098568701_382723626_2_1_0&sr_pri_blocks=1098568701_382723626_2_1_0__325620&from=searchresults",
         "MO Hotel Bangkok",
         "386 Phetchaburi Road, 10400 กรุงเทพมหานคร, ไทย"
        ],
        [
         "23",
         "https://www.booking.com/hotel/th/adelphi-suites.th.html?label=gen173nr-10CAEoggI46AdIM1gEaN0BiAEBmAEzuAEXyAEM2AED6AEB-AEBiAIBqAIBuAKdnfrGBsACAdICJDZlZjViYjlkLWRkZGEtNDFlOS1hZjg3LTk2MDE3M2UxMTYyZtgCAeACAQ&sid=f984b2f021f44e6d576f13f392f756a4&aid=304142&ucfs=1&arphpl=1&checkin=2025-10-23&checkout=2025-10-24&dest_id=-3414440&dest_type=city&group_adults=2&req_adults=2&no_rooms=1&group_children=0&req_children=0&hpos=24&hapos=24&sr_order=popularity&srpvid=d5b267a0c5c1003e&srepoch=1759416263&all_sr_blocks=2729301_95151022_2_2_0_403840&highlighted_blocks=2729301_95151022_2_2_0_403840&matching_block_id=2729301_95151022_2_2_0_403840&sr_pri_blocks=2729301_95151022_2_2_0_403840_352755&from=searchresults",
         "Adelphi Suites Bangkok",
         null
        ],
        [
         "24",
         "https://www.booking.com/hotel/th/passa.th.html?label=gen173nr-10CAEoggI46AdIM1gEaN0BiAEBmAEzuAEXyAEM2AED6AEB-AEBiAIBqAIBuAKdnfrGBsACAdICJDZlZjViYjlkLWRkZGEtNDFlOS1hZjg3LTk2MDE3M2UxMTYyZtgCAeACAQ&sid=f984b2f021f44e6d576f13f392f756a4&aid=304142&ucfs=1&arphpl=1&checkin=2025-10-23&checkout=2025-10-24&dest_id=-3414440&dest_type=city&group_adults=2&req_adults=2&no_rooms=1&group_children=0&req_children=0&hpos=25&hapos=25&sr_order=popularity&srpvid=d5b267a0c5c1003e&srepoch=1759416263&all_sr_blocks=796689501_381559366_2_10_0&highlighted_blocks=796689501_381559366_2_10_0&matching_block_id=796689501_381559366_2_10_0&sr_pri_blocks=796689501_381559366_2_10_0__247860&from=searchresults",
         "PASSA Hotel Bangkok",
         null
        ],
        [
         "25",
         "https://www.booking.com/hotel/th/somerset-rama-ix.th.html?label=gen173nr-10CAEoggI46AdIM1gEaN0BiAEBmAEzuAEXyAEM2AED6AEB-AEBiAIBqAIBuAKdnfrGBsACAdICJDZlZjViYjlkLWRkZGEtNDFlOS1hZjg3LTk2MDE3M2UxMTYyZtgCAeACAQ&sid=f984b2f021f44e6d576f13f392f756a4&aid=304142&ucfs=1&arphpl=1&checkin=2025-10-23&checkout=2025-10-24&dest_id=-3414440&dest_type=city&group_adults=2&req_adults=2&no_rooms=1&group_children=0&req_children=0&hpos=1&hapos=1&sr_order=popularity&srpvid=d5b267a0c5c1003e&srepoch=1759416272&all_sr_blocks=597446711_407774993_2_2_0&highlighted_blocks=597446711_407774993_2_2_0&matching_block_id=597446711_407774993_2_2_0&sr_pri_blocks=597446711_407774993_2_2_0__330100&from_sustainable_property_sr=1&from=searchresults",
         "Somerset Rama 9 Bangkok",
         null
        ],
        [
         "26",
         "https://www.booking.com/hotel/th/thonglor-ekamai-spacious-1-br-1-bathroom-sofa-bed-kitchen.th.html?label=gen173nr-10CAEoggI46AdIM1gEaN0BiAEBmAEzuAEXyAEM2AED6AEB-AEBiAIBqAIBuAKdnfrGBsACAdICJDZlZjViYjlkLWRkZGEtNDFlOS1hZjg3LTk2MDE3M2UxMTYyZtgCAeACAQ&sid=f984b2f021f44e6d576f13f392f756a4&aid=304142&ucfs=1&arphpl=1&checkin=2025-10-23&checkout=2025-10-24&dest_id=-3414440&dest_type=city&group_adults=2&req_adults=2&no_rooms=1&group_children=0&req_children=0&hpos=2&hapos=2&sr_order=popularity&srpvid=d5b267a0c5c1003e&srepoch=1759416272&all_sr_blocks=1223638203_418531362_0_0_0_887426&highlighted_blocks=1223638203_418531362_0_0_0_887426&matching_block_id=1223638203_418531362_0_0_0_887426&sr_pri_blocks=1223638203_418531362_0_0_0_887426_64260&from=searchresults",
         "Petch Tower Ekkamai",
         null
        ],
        [
         "27",
         "https://www.booking.com/hotel/th/thee.th.html?label=gen173nr-10CAEoggI46AdIM1gEaN0BiAEBmAEzuAEXyAEM2AED6AEB-AEBiAIBqAIBuAKdnfrGBsACAdICJDZlZjViYjlkLWRkZGEtNDFlOS1hZjg3LTk2MDE3M2UxMTYyZtgCAeACAQ&sid=f984b2f021f44e6d576f13f392f756a4&aid=304142&ucfs=1&arphpl=1&checkin=2025-10-23&checkout=2025-10-24&dest_id=-3414440&dest_type=city&group_adults=2&req_adults=2&no_rooms=1&group_children=0&req_children=0&hpos=3&hapos=3&sr_order=popularity&srpvid=d5b267a0c5c1003e&srepoch=1759416272&all_sr_blocks=108069302_129992767_3_1_0_1127716&highlighted_blocks=108069302_129992767_3_1_0_1127716&matching_block_id=108069302_129992767_3_1_0_1127716&sr_pri_blocks=108069302_129992767_3_1_0_1127716_213707&from=searchresults",
         "THEE Bangkok by TH District \"newly renovated\"",
         "9/1 Sukumvit 20, Wattana, คลองเตย, 10110 กรุงเทพมหานคร, ไทย"
        ],
        [
         "28",
         "https://www.booking.com/hotel/th/the-mustang-blu.th.html?label=gen173nr-10CAEoggI46AdIM1gEaN0BiAEBmAEzuAEXyAEM2AED6AEB-AEBiAIBqAIBuAKdnfrGBsACAdICJDZlZjViYjlkLWRkZGEtNDFlOS1hZjg3LTk2MDE3M2UxMTYyZtgCAeACAQ&sid=f984b2f021f44e6d576f13f392f756a4&aid=304142&ucfs=1&arphpl=1&checkin=2025-10-23&checkout=2025-10-24&dest_id=-3414440&dest_type=city&group_adults=2&req_adults=2&no_rooms=1&group_children=0&req_children=0&hpos=4&hapos=4&sr_order=popularity&srpvid=d5b267a0c5c1003e&srepoch=1759416272&all_sr_blocks=603138908_309461470_2_1_0&highlighted_blocks=603138908_309461470_2_1_0&matching_block_id=603138908_309461470_2_1_0&sr_pri_blocks=603138908_309461470_2_1_0__526500&from=searchresults",
         "The Mustang Blu",
         "721 Maitri Chit Road Pom Prap, Pom Prap Sattru Phai, Pom Prap Sattru Phai, 10100 กรุงเทพมหานคร, ไทย"
        ],
        [
         "29",
         "https://www.booking.com/hotel/th/public-house.th.html?label=gen173nr-10CAEoggI46AdIM1gEaN0BiAEBmAEzuAEXyAEM2AED6AEB-AEBiAIBqAIBuAKdnfrGBsACAdICJDZlZjViYjlkLWRkZGEtNDFlOS1hZjg3LTk2MDE3M2UxMTYyZtgCAeACAQ&sid=f984b2f021f44e6d576f13f392f756a4&aid=304142&ucfs=1&arphpl=1&checkin=2025-10-23&checkout=2025-10-24&dest_id=-3414440&dest_type=city&group_adults=2&req_adults=2&no_rooms=1&group_children=0&req_children=0&hpos=5&hapos=5&sr_order=popularity&srpvid=d5b267a0c5c1003e&srepoch=1759416272&all_sr_blocks=938412210_366106501_2_2_0&highlighted_blocks=938412210_366106501_2_2_0&matching_block_id=938412210_366106501_2_2_0&sr_pri_blocks=938412210_366106501_2_2_0__387018&from=searchresults",
         "Public House Bangkok, a Member of Design Hotels",
         "249 Soi Sukhumvit 31, Khlong Tan Nuea, Watthana, Bangkok 10110, วัฒนา, 10110 กรุงเทพมหานคร, ไทย"
        ],
        [
         "30",
         "https://www.booking.com/hotel/th/vince-hotel.th.html?label=gen173nr-10CAEoggI46AdIM1gEaN0BiAEBmAEzuAEXyAEM2AED6AEB-AEBiAIBqAIBuAKdnfrGBsACAdICJDZlZjViYjlkLWRkZGEtNDFlOS1hZjg3LTk2MDE3M2UxMTYyZtgCAeACAQ&sid=f984b2f021f44e6d576f13f392f756a4&aid=304142&ucfs=1&arphpl=1&checkin=2025-10-23&checkout=2025-10-24&dest_id=-3414440&dest_type=city&group_adults=2&req_adults=2&no_rooms=1&group_children=0&req_children=0&hpos=6&hapos=6&sr_order=popularity&srpvid=d5b267a0c5c1003e&srepoch=1759416272&all_sr_blocks=141195004_89637093_2_1_0_389612&highlighted_blocks=141195004_89637093_2_1_0_389612&matching_block_id=141195004_89637093_2_1_0_389612&sr_pri_blocks=141195004_89637093_2_1_0_389612_238140&from=searchresults",
         "Vince Hotel Pratunam",
         "26/2 Alley 2, Petchaburi 11, Petchaburi Road, Phayathai, Rajathewi, Ratchathewi, 10400 กรุงเทพมหานคร, ไทย"
        ],
        [
         "31",
         "https://www.booking.com/hotel/th/chatrium-grand-bangkok.th.html?label=gen173nr-10CAEoggI46AdIM1gEaN0BiAEBmAEzuAEXyAEM2AED6AEB-AEBiAIBqAIBuAKdnfrGBsACAdICJDZlZjViYjlkLWRkZGEtNDFlOS1hZjg3LTk2MDE3M2UxMTYyZtgCAeACAQ&sid=f984b2f021f44e6d576f13f392f756a4&aid=304142&ucfs=1&arphpl=1&checkin=2025-10-23&checkout=2025-10-24&dest_id=-3414440&dest_type=city&group_adults=2&req_adults=2&no_rooms=1&group_children=0&req_children=0&hpos=7&hapos=7&sr_order=popularity&srpvid=d5b267a0c5c1003e&srepoch=1759416272&all_sr_blocks=901611111_360977710_2_1_0_148530&highlighted_blocks=901611111_360977710_2_1_0_148530&matching_block_id=901611111_360977710_2_1_0_148530&sr_pri_blocks=901611111_360977710_2_1_0_148530_921213&from=searchresults",
         "โรงแรมชาเทรียม แกรนด์ กรุงเทพฯ",
         "728 Petchaburi Road Ratchathewi, Ratchathewi, 10400 กรุงเทพมหานคร, ไทย"
        ],
        [
         "32",
         "https://www.booking.com/hotel/th/beanstalk-bangkok.th.html?label=gen173nr-10CAEoggI46AdIM1gEaN0BiAEBmAEzuAEXyAEM2AED6AEB-AEBiAIBqAIBuAKdnfrGBsACAdICJDZlZjViYjlkLWRkZGEtNDFlOS1hZjg3LTk2MDE3M2UxMTYyZtgCAeACAQ&sid=f984b2f021f44e6d576f13f392f756a4&aid=304142&ucfs=1&arphpl=1&checkin=2025-10-23&checkout=2025-10-24&dest_id=-3414440&dest_type=city&group_adults=2&req_adults=2&no_rooms=1&group_children=0&req_children=0&hpos=8&hapos=8&sr_order=popularity&srpvid=d5b267a0c5c1003e&srepoch=1759416272&all_sr_blocks=729626904_325502961_2_2_0&highlighted_blocks=729626904_325502961_2_2_0&matching_block_id=729626904_325502961_2_2_0&sr_pri_blocks=729626904_325502961_2_2_0__116041&from=searchresults",
         "Beanstalk Bangkok",
         "299 301 Thanon Surawong, Suriya Wong, Bang Rak,, บางรัก, 10500 กรุงเทพมหานคร, ไทย"
        ],
        [
         "33",
         "https://www.booking.com/hotel/th/the-standard-bangkok-mahanakhon.th.html?label=gen173nr-10CAEoggI46AdIM1gEaN0BiAEBmAEzuAEXyAEM2AED6AEB-AEBiAIBqAIBuAKdnfrGBsACAdICJDZlZjViYjlkLWRkZGEtNDFlOS1hZjg3LTk2MDE3M2UxMTYyZtgCAeACAQ&sid=f984b2f021f44e6d576f13f392f756a4&aid=304142&ucfs=1&arphpl=1&checkin=2025-10-23&checkout=2025-10-24&dest_id=-3414440&dest_type=city&group_adults=2&req_adults=2&no_rooms=1&group_children=0&req_children=0&hpos=9&hapos=9&sr_order=popularity&srpvid=d5b267a0c5c1003e&srepoch=1759416272&all_sr_blocks=810038712_343183919_2_1_0&highlighted_blocks=810038712_343183919_2_1_0&matching_block_id=810038712_343183919_2_1_0&sr_pri_blocks=810038712_343183919_2_1_0__716400&from=searchresults",
         "The Standard, Bangkok Mahanakhon",
         "114 Naradhiwat Rajanagarindra Road, Silom, Bangrak, บางรัก, 10500 กรุงเทพมหานคร, ไทย"
        ],
        [
         "34",
         "https://www.booking.com/hotel/th/nysa-bangkok-bangkok.th.html?label=gen173nr-10CAEoggI46AdIM1gEaN0BiAEBmAEzuAEXyAEM2AED6AEB-AEBiAIBqAIBuAKdnfrGBsACAdICJDZlZjViYjlkLWRkZGEtNDFlOS1hZjg3LTk2MDE3M2UxMTYyZtgCAeACAQ&sid=f984b2f021f44e6d576f13f392f756a4&aid=304142&ucfs=1&arphpl=1&checkin=2025-10-23&checkout=2025-10-24&dest_id=-3414440&dest_type=city&group_adults=2&req_adults=2&no_rooms=1&group_children=0&req_children=0&hpos=10&hapos=10&sr_order=popularity&srpvid=d5b267a0c5c1003e&srepoch=1759416272&all_sr_blocks=1119286801_415969265_2_2_0_769785&highlighted_blocks=1119286801_415969265_2_2_0_769785&matching_block_id=1119286801_415969265_2_2_0_769785&sr_pri_blocks=1119286801_415969265_2_2_0_769785_320760&from=searchresults",
         "Nysa Hotel Bangkok Sukhumvit 11",
         "73/7-8 Sukhumvit 13, Klongtoey-Nua, Wattana, วัฒนา, 10110 กรุงเทพมหานคร, ไทย"
        ],
        [
         "35",
         "https://www.booking.com/hotel/th/sivatel-bangkok.th.html?label=gen173nr-10CAEoggI46AdIM1gEaN0BiAEBmAEzuAEXyAEM2AED6AEB-AEBiAIBqAIBuAKdnfrGBsACAdICJDZlZjViYjlkLWRkZGEtNDFlOS1hZjg3LTk2MDE3M2UxMTYyZtgCAeACAQ&sid=f984b2f021f44e6d576f13f392f756a4&aid=304142&ucfs=1&arphpl=1&checkin=2025-10-23&checkout=2025-10-24&dest_id=-3414440&dest_type=city&group_adults=2&req_adults=2&no_rooms=1&group_children=0&req_children=0&hpos=11&hapos=11&sr_order=popularity&srpvid=d5b267a0c5c1003e&srepoch=1759416272&all_sr_blocks=26418826_88875110_0_41_0_84576&highlighted_blocks=26418826_88875110_0_41_0_84576&matching_block_id=26418826_88875110_0_41_0_84576&sr_pri_blocks=26418826_88875110_0_41_0_84576_580229&from=searchresults",
         "โรงแรมศิวาเทล กรุงเทพ",
         "53 Wittayu Road, Lumpini, Patumwan, ปทุมวัน, 10330 กรุงเทพมหานคร, ไทย"
        ],
        [
         "36",
         "https://www.booking.com/hotel/th/valiahotelbangkok.th.html?label=gen173nr-10CAEoggI46AdIM1gEaN0BiAEBmAEzuAEXyAEM2AED6AEB-AEBiAIBqAIBuAKdnfrGBsACAdICJDZlZjViYjlkLWRkZGEtNDFlOS1hZjg3LTk2MDE3M2UxMTYyZtgCAeACAQ&sid=f984b2f021f44e6d576f13f392f756a4&aid=304142&ucfs=1&arphpl=1&checkin=2025-10-23&checkout=2025-10-24&dest_id=-3414440&dest_type=city&group_adults=2&req_adults=2&no_rooms=1&group_children=0&req_children=0&hpos=12&hapos=12&sr_order=popularity&srpvid=d5b267a0c5c1003e&srepoch=1759416272&all_sr_blocks=2715215_380137323_2_2_0_1154075&highlighted_blocks=2715215_380137323_2_2_0_1154075&matching_block_id=2715215_380137323_2_2_0_1154075&sr_pri_blocks=2715215_380137323_2_2_0_1154075_256174&from=searchresults",
         "โรงแรมวาลีอา (Valia Hotel Bangkok)",
         "Sukhumvit 24, Bangkok 10110, คลองเตย, 10110 กรุงเทพมหานคร, ไทย"
        ],
        [
         "37",
         "https://www.booking.com/hotel/th/radisson-suites-bangkok-sukhumvit.th.html?label=gen173nr-10CAEoggI46AdIM1gEaN0BiAEBmAEzuAEXyAEM2AED6AEB-AEBiAIBqAIBuAKdnfrGBsACAdICJDZlZjViYjlkLWRkZGEtNDFlOS1hZjg3LTk2MDE3M2UxMTYyZtgCAeACAQ&sid=f984b2f021f44e6d576f13f392f756a4&aid=304142&ucfs=1&arphpl=1&checkin=2025-10-23&checkout=2025-10-24&dest_id=-3414440&dest_type=city&group_adults=2&req_adults=2&no_rooms=1&group_children=0&req_children=0&hpos=13&hapos=13&sr_order=popularity&srpvid=d5b267a0c5c1003e&srepoch=1759416272&all_sr_blocks=29018212_94396708_2_2_0&highlighted_blocks=29018212_94396708_2_2_0&matching_block_id=29018212_94396708_2_2_0&sr_pri_blocks=29018212_94396708_2_2_0__268375&from=searchresults",
         "โรงแรม เรดิสัน สวีท แบงค็อก สุขุมวิท",
         "23/2-3 Sukhumvit 13, Sukhumvit Road, Klongtoey Nua, Wattana, วัฒนา, 10110 กรุงเทพมหานคร, ไทย"
        ],
        [
         "38",
         "https://www.booking.com/hotel/th/chi-bangkok-sha-extra-plus.th.html?label=gen173nr-10CAEoggI46AdIM1gEaN0BiAEBmAEzuAEXyAEM2AED6AEB-AEBiAIBqAIBuAKdnfrGBsACAdICJDZlZjViYjlkLWRkZGEtNDFlOS1hZjg3LTk2MDE3M2UxMTYyZtgCAeACAQ&sid=f984b2f021f44e6d576f13f392f756a4&aid=304142&ucfs=1&arphpl=1&checkin=2025-10-23&checkout=2025-10-24&dest_id=-3414440&dest_type=city&group_adults=2&req_adults=2&no_rooms=1&group_children=0&req_children=0&hpos=14&hapos=14&sr_order=popularity&srpvid=d5b267a0c5c1003e&srepoch=1759416272&all_sr_blocks=817874208_344348442_2_2_0_146142&highlighted_blocks=817874208_344348442_2_2_0_146142&matching_block_id=817874208_344348442_2_2_0_146142&sr_pri_blocks=817874208_344348442_2_2_0_146142_176235&from=searchresults",
         "The Fig Lobby Bangkok",
         "55 Rimthangrotfaisaipaknam Road, Klong Toey, Klong Toey, คลองเตย, 10110 กรุงเทพมหานคร, ไทย"
        ],
        [
         "39",
         "https://www.booking.com/hotel/th/tha.th.html?label=gen173nr-10CAEoggI46AdIM1gEaN0BiAEBmAEzuAEXyAEM2AED6AEB-AEBiAIBqAIBuAKdnfrGBsACAdICJDZlZjViYjlkLWRkZGEtNDFlOS1hZjg3LTk2MDE3M2UxMTYyZtgCAeACAQ&sid=f984b2f021f44e6d576f13f392f756a4&aid=304142&ucfs=1&arphpl=1&checkin=2025-10-23&checkout=2025-10-24&dest_id=-3414440&dest_type=city&group_adults=2&req_adults=2&no_rooms=1&group_children=0&req_children=0&hpos=15&hapos=15&sr_order=popularity&srpvid=d5b267a0c5c1003e&srepoch=1759416272&all_sr_blocks=143448402_96206069_2_0_0_1123198&highlighted_blocks=143448402_96206069_2_0_0_1123198&matching_block_id=143448402_96206069_2_0_0_1123198&sr_pri_blocks=143448402_96206069_2_0_0_1123198_143699&from=searchresults",
         "THA City Loft by TH District",
         "Eakkamai soi 6, Prakanong, Wattana, วัฒนา, 10110 กรุงเทพมหานคร, ไทย"
        ],
        [
         "40",
         "https://www.booking.com/hotel/th/chatrium-suites-bangkok-a-dusit-thani-hotels-partner.th.html?label=gen173nr-10CAEoggI46AdIM1gEaN0BiAEBmAEzuAEXyAEM2AED6AEB-AEBiAIBqAIBuAKdnfrGBsACAdICJDZlZjViYjlkLWRkZGEtNDFlOS1hZjg3LTk2MDE3M2UxMTYyZtgCAeACAQ&sid=f984b2f021f44e6d576f13f392f756a4&aid=304142&ucfs=1&arphpl=1&checkin=2025-10-23&checkout=2025-10-24&dest_id=-3414440&dest_type=city&group_adults=2&req_adults=2&no_rooms=1&group_children=0&req_children=0&hpos=16&hapos=16&sr_order=popularity&srpvid=d5b267a0c5c1003e&srepoch=1759416272&all_sr_blocks=4425913_88871377_2_1_0_47674&highlighted_blocks=4425913_88871377_2_1_0_47674&matching_block_id=4425913_88871377_2_1_0_47674&sr_pri_blocks=4425913_88871377_2_1_0_47674_583200&from=searchresults",
         "โรงแรมชาเทรียม ริเวอร์ไซด์ กรุงเทพฯ",
         "28 ถ.เจริญกรุง ซ.70 บางคอแหลม, บางคอแหลม, 10120 กรุงเทพมหานคร, ไทย"
        ],
        [
         "41",
         "https://www.booking.com/hotel/th/oakwood-studios-sukhumvit-bangkok.th.html?label=gen173nr-10CAEoggI46AdIM1gEaN0BiAEBmAEzuAEXyAEM2AED6AEB-AEBiAIBqAIBuAKdnfrGBsACAdICJDZlZjViYjlkLWRkZGEtNDFlOS1hZjg3LTk2MDE3M2UxMTYyZtgCAeACAQ&sid=f984b2f021f44e6d576f13f392f756a4&aid=304142&ucfs=1&arphpl=1&checkin=2025-10-23&checkout=2025-10-24&dest_id=-3414440&dest_type=city&group_adults=2&req_adults=2&no_rooms=1&group_children=0&req_children=0&hpos=17&hapos=17&sr_order=popularity&srpvid=d5b267a0c5c1003e&srepoch=1759416272&all_sr_blocks=860006801_356302651_0_42_0&highlighted_blocks=860006801_356302651_0_42_0&matching_block_id=860006801_356302651_0_42_0&sr_pri_blocks=860006801_356302651_0_42_0__247876&from=searchresults",
         "โรงแรมโอ๊ควู้ด สตูดิโอ สุขุมวิท แบงค็อก",
         "70 Soi Sukhumvit 36, คลองเตย, 10110 กรุงเทพมหานคร, ไทย"
        ],
        [
         "42",
         "https://www.booking.com/hotel/th/the-ex-capital-bangkok-by-dancenter.th.html?label=gen173nr-10CAEoggI46AdIM1gEaN0BiAEBmAEzuAEXyAEM2AED6AEB-AEBiAIBqAIBuAKdnfrGBsACAdICJDZlZjViYjlkLWRkZGEtNDFlOS1hZjg3LTk2MDE3M2UxMTYyZtgCAeACAQ&sid=f984b2f021f44e6d576f13f392f756a4&aid=304142&ucfs=1&arphpl=1&checkin=2025-10-23&checkout=2025-10-24&dest_id=-3414440&dest_type=city&group_adults=2&req_adults=2&no_rooms=1&group_children=0&req_children=0&hpos=18&hapos=18&sr_order=popularity&srpvid=d5b267a0c5c1003e&srepoch=1759416272&all_sr_blocks=1486340901_420130341_2_0_0&highlighted_blocks=1486340901_420130341_2_0_0&matching_block_id=1486340901_420130341_2_0_0&sr_pri_blocks=1486340901_420130341_2_0_0__122157&from=searchresults",
         "The Ex Capital Hotel Bangkok by Dancenter",
         "218 Soi Krungthonburi Intersection 13 Krungthonburi Road, Bang Lamphu Lang Subdistrict, Khlong San District, Thonburi District, Bangkok 10600, Bangkok, Bangkok, 10600 กรุงเทพมหานคร, ไทย"
        ],
        [
         "43",
         "https://www.booking.com/hotel/th/akyra-thonglor-bangkok.th.html?label=gen173nr-10CAEoggI46AdIM1gEaN0BiAEBmAEzuAEXyAEM2AED6AEB-AEBiAIBqAIBuAKdnfrGBsACAdICJDZlZjViYjlkLWRkZGEtNDFlOS1hZjg3LTk2MDE3M2UxMTYyZtgCAeACAQ&sid=f984b2f021f44e6d576f13f392f756a4&aid=304142&ucfs=1&arphpl=1&checkin=2025-10-23&checkout=2025-10-24&dest_id=-3414440&dest_type=city&group_adults=2&req_adults=2&no_rooms=1&group_children=0&req_children=0&hpos=19&hapos=19&sr_order=popularity&srpvid=d5b267a0c5c1003e&srepoch=1759416272&all_sr_blocks=28546107_119582871_2_42_0_1116200&highlighted_blocks=28546107_119582871_2_42_0_1116200&matching_block_id=28546107_119582871_2_42_0_1116200&sr_pri_blocks=28546107_119582871_2_42_0_1116200_406899&from=searchresults",
         "MUU Bangkok, Small Luxury Hotels of the World",
         "88/333 Sukhumvit 55, Klongton Nua, Wattana, Sukhumvit, วัฒนา, 10110 กรุงเทพมหานคร, ไทย"
        ],
        [
         "44",
         "https://www.booking.com/hotel/th/aphrodite-inn-bangkok.th.html?label=gen173nr-10CAEoggI46AdIM1gEaN0BiAEBmAEzuAEXyAEM2AED6AEB-AEBiAIBqAIBuAKdnfrGBsACAdICJDZlZjViYjlkLWRkZGEtNDFlOS1hZjg3LTk2MDE3M2UxMTYyZtgCAeACAQ&sid=f984b2f021f44e6d576f13f392f756a4&aid=304142&ucfs=1&arphpl=1&checkin=2025-10-23&checkout=2025-10-24&dest_id=-3414440&dest_type=city&group_adults=2&req_adults=2&no_rooms=1&group_children=0&req_children=0&hpos=20&hapos=20&sr_order=popularity&srpvid=d5b267a0c5c1003e&srepoch=1759416272&all_sr_blocks=4362512_89654155_0_1_0&highlighted_blocks=4362512_89654155_0_1_0&matching_block_id=4362512_89654155_0_1_0&sr_pri_blocks=4362512_89654155_0_1_0__245754&from=searchresults",
         "อะโฟรดิเต้ อินน์ กรุงเทพ",
         "59-65 ถนนราชดำริ , ปทุมวัน, 10330 กรุงเทพมหานคร, ไทย"
        ],
        [
         "45",
         "https://www.booking.com/hotel/th/ten-six-hundred-chao-pharya-bangkok-by-preference.th.html?label=gen173nr-10CAEoggI46AdIM1gEaN0BiAEBmAEzuAEXyAEM2AED6AEB-AEBiAIBqAIBuAKdnfrGBsACAdICJDZlZjViYjlkLWRkZGEtNDFlOS1hZjg3LTk2MDE3M2UxMTYyZtgCAeACAQ&sid=f984b2f021f44e6d576f13f392f756a4&aid=304142&ucfs=1&arphpl=1&checkin=2025-10-23&checkout=2025-10-24&dest_id=-3414440&dest_type=city&group_adults=2&req_adults=2&no_rooms=1&group_children=0&req_children=0&hpos=21&hapos=21&sr_order=popularity&srpvid=d5b267a0c5c1003e&srepoch=1759416272&all_sr_blocks=1058830701_378138740_2_2_0&highlighted_blocks=1058830701_378138740_2_2_0&matching_block_id=1058830701_378138740_2_2_0&sr_pri_blocks=1058830701_378138740_2_2_0__390882&from=searchresults",
         "Ten Six Hundred, Chao Phraya, Bangkok by Preference, managed by The Ascott Limited",
         "29-2 Soi Charoen Nakorn 39, Banglumphu Lang, Khlongsan , Khlong San, 10600 กรุงเทพมหานคร, ไทย"
        ],
        [
         "46",
         "https://www.booking.com/hotel/th/hua-chang-heritage.th.html?label=gen173nr-10CAEoggI46AdIM1gEaN0BiAEBmAEzuAEXyAEM2AED6AEB-AEBiAIBqAIBuAKdnfrGBsACAdICJDZlZjViYjlkLWRkZGEtNDFlOS1hZjg3LTk2MDE3M2UxMTYyZtgCAeACAQ&sid=f984b2f021f44e6d576f13f392f756a4&aid=304142&ucfs=1&arphpl=1&checkin=2025-10-23&checkout=2025-10-24&dest_id=-3414440&dest_type=city&group_adults=2&req_adults=2&no_rooms=1&group_children=0&req_children=0&hpos=22&hapos=22&sr_order=popularity&srpvid=d5b267a0c5c1003e&srepoch=1759416272&all_sr_blocks=46157001_88883050_2_42_0_271710&highlighted_blocks=46157001_88883050_2_42_0_271710&matching_block_id=46157001_88883050_2_42_0_271710&sr_pri_blocks=46157001_88883050_2_42_0_271710_386771&from=searchresults",
         "Hua Chang Heritage Hotel",
         null
        ],
        [
         "47",
         "https://www.booking.com/hotel/th/mo-bangkok.th.html?label=gen173nr-10CAEoggI46AdIM1gEaN0BiAEBmAEzuAEXyAEM2AED6AEB-AEBiAIBqAIBuAKdnfrGBsACAdICJDZlZjViYjlkLWRkZGEtNDFlOS1hZjg3LTk2MDE3M2UxMTYyZtgCAeACAQ&sid=f984b2f021f44e6d576f13f392f756a4&aid=304142&ucfs=1&arphpl=1&checkin=2025-10-23&checkout=2025-10-24&dest_id=-3414440&dest_type=city&group_adults=2&req_adults=2&no_rooms=1&group_children=0&req_children=0&hpos=23&hapos=23&sr_order=popularity&srpvid=d5b267a0c5c1003e&srepoch=1759416272&all_sr_blocks=1098568701_382723626_2_1_0&highlighted_blocks=1098568701_382723626_2_1_0&matching_block_id=1098568701_382723626_2_1_0&sr_pri_blocks=1098568701_382723626_2_1_0__325620&from=searchresults",
         "MO Hotel Bangkok",
         "386 Phetchaburi Road, 10400 กรุงเทพมหานคร, ไทย"
        ],
        [
         "48",
         "https://www.booking.com/hotel/th/adelphi-suites.th.html?label=gen173nr-10CAEoggI46AdIM1gEaN0BiAEBmAEzuAEXyAEM2AED6AEB-AEBiAIBqAIBuAKdnfrGBsACAdICJDZlZjViYjlkLWRkZGEtNDFlOS1hZjg3LTk2MDE3M2UxMTYyZtgCAeACAQ&sid=f984b2f021f44e6d576f13f392f756a4&aid=304142&ucfs=1&arphpl=1&checkin=2025-10-23&checkout=2025-10-24&dest_id=-3414440&dest_type=city&group_adults=2&req_adults=2&no_rooms=1&group_children=0&req_children=0&hpos=24&hapos=24&sr_order=popularity&srpvid=d5b267a0c5c1003e&srepoch=1759416272&all_sr_blocks=2729301_95151022_2_2_0_403840&highlighted_blocks=2729301_95151022_2_2_0_403840&matching_block_id=2729301_95151022_2_2_0_403840&sr_pri_blocks=2729301_95151022_2_2_0_403840_352755&from=searchresults",
         "Adelphi Suites Bangkok",
         "6 Sukhumvit Soi 8, คลองเตย, 10110 กรุงเทพมหานคร, ไทย"
        ],
        [
         "49",
         "https://www.booking.com/hotel/th/passa.th.html?label=gen173nr-10CAEoggI46AdIM1gEaN0BiAEBmAEzuAEXyAEM2AED6AEB-AEBiAIBqAIBuAKdnfrGBsACAdICJDZlZjViYjlkLWRkZGEtNDFlOS1hZjg3LTk2MDE3M2UxMTYyZtgCAeACAQ&sid=f984b2f021f44e6d576f13f392f756a4&aid=304142&ucfs=1&arphpl=1&checkin=2025-10-23&checkout=2025-10-24&dest_id=-3414440&dest_type=city&group_adults=2&req_adults=2&no_rooms=1&group_children=0&req_children=0&hpos=25&hapos=25&sr_order=popularity&srpvid=d5b267a0c5c1003e&srepoch=1759416272&all_sr_blocks=796689501_381559366_2_10_0&highlighted_blocks=796689501_381559366_2_10_0&matching_block_id=796689501_381559366_2_10_0&sr_pri_blocks=796689501_381559366_2_10_0__247860&from=searchresults",
         "PASSA Hotel Bangkok",
         "63 Soi Saladaeng 2, Saladaeng Road, บางรัก, 10500 กรุงเทพมหานคร, ไทย"
        ]
       ],
       "shape": {
        "columns": 3,
        "rows": 1625
       }
      },
      "text/html": [
       "<div>\n",
       "<style scoped>\n",
       "    .dataframe tbody tr th:only-of-type {\n",
       "        vertical-align: middle;\n",
       "    }\n",
       "\n",
       "    .dataframe tbody tr th {\n",
       "        vertical-align: top;\n",
       "    }\n",
       "\n",
       "    .dataframe thead th {\n",
       "        text-align: right;\n",
       "    }\n",
       "</style>\n",
       "<table border=\"1\" class=\"dataframe\">\n",
       "  <thead>\n",
       "    <tr style=\"text-align: right;\">\n",
       "      <th></th>\n",
       "      <th>name href</th>\n",
       "      <th>name</th>\n",
       "      <th>address</th>\n",
       "    </tr>\n",
       "  </thead>\n",
       "  <tbody>\n",
       "    <tr>\n",
       "      <th>0</th>\n",
       "      <td>https://www.booking.com/hotel/th/somerset-rama...</td>\n",
       "      <td>Somerset Rama 9 Bangkok</td>\n",
       "      <td>22 Ratchadaphisek Road Huai Khwang, Huai Kwang...</td>\n",
       "    </tr>\n",
       "    <tr>\n",
       "      <th>1</th>\n",
       "      <td>https://www.booking.com/hotel/th/thonglor-ekam...</td>\n",
       "      <td>Petch Tower Ekkamai</td>\n",
       "      <td>NaN</td>\n",
       "    </tr>\n",
       "    <tr>\n",
       "      <th>2</th>\n",
       "      <td>https://www.booking.com/hotel/th/thee.th.html?...</td>\n",
       "      <td>THEE Bangkok by TH District \"newly renovated\"</td>\n",
       "      <td>9/1 Sukumvit 20, Wattana, คลองเตย, 10110 กรุงเ...</td>\n",
       "    </tr>\n",
       "    <tr>\n",
       "      <th>3</th>\n",
       "      <td>https://www.booking.com/hotel/th/the-mustang-b...</td>\n",
       "      <td>The Mustang Blu</td>\n",
       "      <td>721 Maitri Chit Road Pom Prap, Pom Prap Sattru...</td>\n",
       "    </tr>\n",
       "    <tr>\n",
       "      <th>4</th>\n",
       "      <td>https://www.booking.com/hotel/th/public-house....</td>\n",
       "      <td>Public House Bangkok, a Member of Design Hotels</td>\n",
       "      <td>249 Soi Sukhumvit 31, Khlong Tan Nuea, Watthan...</td>\n",
       "    </tr>\n",
       "    <tr>\n",
       "      <th>...</th>\n",
       "      <td>...</td>\n",
       "      <td>...</td>\n",
       "      <td>...</td>\n",
       "    </tr>\n",
       "    <tr>\n",
       "      <th>1620</th>\n",
       "      <td>https://www.booking.com/hotel/th/banthat-thong...</td>\n",
       "      <td>บรรทัดทองโฮสเทล</td>\n",
       "      <td>1806/16-17 ถ.บรรทัดทอง รองเมือง ปทุมวัน, ปทุมว...</td>\n",
       "    </tr>\n",
       "    <tr>\n",
       "      <th>1621</th>\n",
       "      <td>https://www.booking.com/hotel/th/vaeh-viean-ho...</td>\n",
       "      <td>Vaeh Viean Silom</td>\n",
       "      <td>23 Pramot Alley, บางรัก, 10500 กรุงเทพมหานคร, ไทย</td>\n",
       "    </tr>\n",
       "    <tr>\n",
       "      <th>1622</th>\n",
       "      <td>https://www.booking.com/hotel/th/paradiso-bout...</td>\n",
       "      <td>พาราดิโซบูติคสวีท</td>\n",
       "      <td>1/11-12 สุขุมวิท 10, คลองเตย, 10110 กรุงเทพมหา...</td>\n",
       "    </tr>\n",
       "    <tr>\n",
       "      <th>1623</th>\n",
       "      <td>https://www.booking.com/hotel/th/silom-space-h...</td>\n",
       "      <td>Silom Space Hostel</td>\n",
       "      <td>8 Silom Road Soi 2, Bangrak, บางรัก, 10500 กรุ...</td>\n",
       "    </tr>\n",
       "    <tr>\n",
       "      <th>1624</th>\n",
       "      <td>https://www.booking.com/hotel/th/the-spades-pr...</td>\n",
       "      <td>The Spades Private Residence</td>\n",
       "      <td>360 Trimitr Road Taladnoi, Samphanthawong, Sam...</td>\n",
       "    </tr>\n",
       "  </tbody>\n",
       "</table>\n",
       "<p>1625 rows × 3 columns</p>\n",
       "</div>"
      ],
      "text/plain": [
       "                                              name href  \\\n",
       "0     https://www.booking.com/hotel/th/somerset-rama...   \n",
       "1     https://www.booking.com/hotel/th/thonglor-ekam...   \n",
       "2     https://www.booking.com/hotel/th/thee.th.html?...   \n",
       "3     https://www.booking.com/hotel/th/the-mustang-b...   \n",
       "4     https://www.booking.com/hotel/th/public-house....   \n",
       "...                                                 ...   \n",
       "1620  https://www.booking.com/hotel/th/banthat-thong...   \n",
       "1621  https://www.booking.com/hotel/th/vaeh-viean-ho...   \n",
       "1622  https://www.booking.com/hotel/th/paradiso-bout...   \n",
       "1623  https://www.booking.com/hotel/th/silom-space-h...   \n",
       "1624  https://www.booking.com/hotel/th/the-spades-pr...   \n",
       "\n",
       "                                                 name  \\\n",
       "0                             Somerset Rama 9 Bangkok   \n",
       "1                                 Petch Tower Ekkamai   \n",
       "2       THEE Bangkok by TH District \"newly renovated\"   \n",
       "3                                     The Mustang Blu   \n",
       "4     Public House Bangkok, a Member of Design Hotels   \n",
       "...                                               ...   \n",
       "1620                                  บรรทัดทองโฮสเทล   \n",
       "1621                                 Vaeh Viean Silom   \n",
       "1622                                พาราดิโซบูติคสวีท   \n",
       "1623                               Silom Space Hostel   \n",
       "1624                     The Spades Private Residence   \n",
       "\n",
       "                                                address  \n",
       "0     22 Ratchadaphisek Road Huai Khwang, Huai Kwang...  \n",
       "1                                                   NaN  \n",
       "2     9/1 Sukumvit 20, Wattana, คลองเตย, 10110 กรุงเ...  \n",
       "3     721 Maitri Chit Road Pom Prap, Pom Prap Sattru...  \n",
       "4     249 Soi Sukhumvit 31, Khlong Tan Nuea, Watthan...  \n",
       "...                                                 ...  \n",
       "1620  1806/16-17 ถ.บรรทัดทอง รองเมือง ปทุมวัน, ปทุมว...  \n",
       "1621  23 Pramot Alley, บางรัก, 10500 กรุงเทพมหานคร, ไทย  \n",
       "1622  1/11-12 สุขุมวิท 10, คลองเตย, 10110 กรุงเทพมหา...  \n",
       "1623  8 Silom Road Soi 2, Bangrak, บางรัก, 10500 กรุ...  \n",
       "1624  360 Trimitr Road Taladnoi, Samphanthawong, Sam...  \n",
       "\n",
       "[1625 rows x 3 columns]"
      ]
     },
     "execution_count": 20,
     "metadata": {},
     "output_type": "execute_result"
    }
   ],
   "source": [
    "pd.read_csv(\"OTA/booking_com_bkk_with_addr.csv\")"
   ]
  },
  {
   "cell_type": "code",
   "execution_count": null,
   "id": "0f5022c6",
   "metadata": {},
   "outputs": [],
   "source": []
  }
 ],
 "metadata": {
  "kernelspec": {
   "display_name": "base",
   "language": "python",
   "name": "python3"
  },
  "language_info": {
   "codemirror_mode": {
    "name": "ipython",
    "version": 3
   },
   "file_extension": ".py",
   "mimetype": "text/x-python",
   "name": "python",
   "nbconvert_exporter": "python",
   "pygments_lexer": "ipython3",
   "version": "3.11.9"
  }
 },
 "nbformat": 4,
 "nbformat_minor": 5
}
